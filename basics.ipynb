{
  "nbformat": 4,
  "nbformat_minor": 0,
  "metadata": {
    "colab": {
      "provenance": [],
      "authorship_tag": "ABX9TyMN2n6XU7yAoHzrFk7YYcg+",
      "include_colab_link": true
    },
    "kernelspec": {
      "name": "python3",
      "display_name": "Python 3"
    },
    "language_info": {
      "name": "python"
    }
  },
  "cells": [
    {
      "cell_type": "markdown",
      "metadata": {
        "id": "view-in-github",
        "colab_type": "text"
      },
      "source": [
        "<a href=\"https://colab.research.google.com/github/JarekMaleszyk/data-science-bootcamp/blob/master/basics.ipynb\" target=\"_parent\"><img src=\"https://colab.research.google.com/assets/colab-badge.svg\" alt=\"Open In Colab\"/></a>"
      ]
    },
    {
      "cell_type": "code",
      "source": [
        "!rm -rf \"/content/international_trade_march\"\n",
        "DIRECTORY='international_trade_march'\n",
        "import os\n",
        "if not os.path.exists(DIRECTORY):\n",
        "    os.makedirs(DIRECTORY)\n",
        "    print(f\"Directory '{DIRECTORY}' created successfully.\")"
      ],
      "metadata": {
        "id": "yPE-1uosA7-q",
        "colab": {
          "base_uri": "https://localhost:8080/"
        },
        "outputId": "adb993e6-fac4-4ef6-f4bf-f730c997ec39"
      },
      "execution_count": 236,
      "outputs": [
        {
          "output_type": "stream",
          "name": "stdout",
          "text": [
            "Directory 'international_trade_march' created successfully.\n"
          ]
        }
      ]
    },
    {
      "cell_type": "markdown",
      "source": [],
      "metadata": {
        "id": "rDcSwt_qCIm4"
      }
    },
    {
      "cell_type": "code",
      "source": [
        "import os\n",
        "ZIP_FILE_NAME = 'international-trade-march-2024-quarter.zip'\n",
        "if os.path.exists(ZIP_FILE_NAME):\n",
        "  os.remove(ZIP_FILE_NAME)\n",
        "else:\n",
        "  print(f\"The file {ZIP_FILE_NAME} does not exist\")\n",
        "\n",
        "!wget -P \"/content/international_trade_march\" \"https://www.stats.govt.nz/assets/Uploads/International-trade/International-trade-March-2024-quarter/Download-data/international-trade-march-2024-quarter.zip\""
      ],
      "metadata": {
        "colab": {
          "base_uri": "https://localhost:8080/"
        },
        "id": "YDIoaSXUBI75",
        "outputId": "f82cc36a-6158-4445-fc59-fbf64f946441"
      },
      "execution_count": 237,
      "outputs": [
        {
          "output_type": "stream",
          "name": "stdout",
          "text": [
            "The file international-trade-march-2024-quarter.zip does not exist\n",
            "--2024-08-22 07:46:16--  https://www.stats.govt.nz/assets/Uploads/International-trade/International-trade-March-2024-quarter/Download-data/international-trade-march-2024-quarter.zip\n",
            "Resolving www.stats.govt.nz (www.stats.govt.nz)... 45.60.11.104\n",
            "Connecting to www.stats.govt.nz (www.stats.govt.nz)|45.60.11.104|:443... connected.\n",
            "HTTP request sent, awaiting response... 200 OK\n",
            "Length: 16398428 (16M) [application/zip]\n",
            "Saving to: ‘/content/international_trade_march/international-trade-march-2024-quarter.zip’\n",
            "\n",
            "international-trade 100%[===================>]  15.64M  --.-KB/s    in 0.1s    \n",
            "\n",
            "2024-08-22 07:46:17 (119 MB/s) - ‘/content/international_trade_march/international-trade-march-2024-quarter.zip’ saved [16398428/16398428]\n",
            "\n"
          ]
        }
      ]
    },
    {
      "cell_type": "code",
      "source": [
        "!unzip -o \"/content/international_trade_march/international-trade-march-2024-quarter.zip\" -d \"/content/international_trade_march\""
      ],
      "metadata": {
        "colab": {
          "base_uri": "https://localhost:8080/"
        },
        "id": "Q2IuIU8_Bw1R",
        "outputId": "1ac14114-b691-4f87-b991-91d56e3c827f"
      },
      "execution_count": 238,
      "outputs": [
        {
          "output_type": "stream",
          "name": "stdout",
          "text": [
            "Archive:  /content/international_trade_march/international-trade-march-2024-quarter.zip\n",
            "  inflating: /content/international_trade_march/country_classification.csv  \n",
            "  inflating: /content/international_trade_march/goods_classification.csv  \n",
            "  inflating: /content/international_trade_march/output_csv_full.csv  \n",
            "  inflating: /content/international_trade_march/revised.csv  \n",
            "  inflating: /content/international_trade_march/services_classification.csv  \n"
          ]
        }
      ]
    },
    {
      "cell_type": "markdown",
      "source": [
        "Read and clean main data from csv:"
      ],
      "metadata": {
        "id": "qq1L5edp5JpV"
      }
    },
    {
      "cell_type": "code",
      "source": [
        "import pandas as pd\n",
        "try:\n",
        "  output_csv_full = pd.read_csv('/content/international_trade_march/output_csv_full.csv', header=0)\n",
        "  print('File read successfully')\n",
        "except FileNotFoundError:\n",
        "  print('File not found.')"
      ],
      "metadata": {
        "colab": {
          "base_uri": "https://localhost:8080/"
        },
        "collapsed": true,
        "id": "JH1BcOeFD3rM",
        "outputId": "9dc6c8f1-1df6-43cd-8511-5e17c5458a81"
      },
      "execution_count": 239,
      "outputs": [
        {
          "output_type": "stream",
          "name": "stdout",
          "text": [
            "File read successfully\n"
          ]
        }
      ]
    },
    {
      "cell_type": "code",
      "source": [
        "output_csv_full.product_type = output_csv_full.product_type.astype('category')\n",
        "# output_csv_full.product_type.cat.categories\n",
        "output_csv_full.country_code = output_csv_full.country_code.astype('category')\n",
        "# output_csv_full.country_code.cat.categories"
      ],
      "metadata": {
        "id": "_UqLWgR-GAZe"
      },
      "execution_count": 240,
      "outputs": []
    },
    {
      "cell_type": "code",
      "source": [
        "print(output_csv_full.head())"
      ],
      "metadata": {
        "colab": {
          "base_uri": "https://localhost:8080/"
        },
        "id": "nbqZ-kjYGDQ9",
        "outputId": "fc907b87-ec9e-4993-f25b-2d82674f0a76"
      },
      "execution_count": 241,
      "outputs": [
        {
          "output_type": "stream",
          "name": "stdout",
          "text": [
            "   time_ref  account code country_code product_type        value status\n",
            "0    202403  Exports   00           AE        Goods  325056709.0      F\n",
            "1    202403  Exports   00           AG        Goods     860461.0      F\n",
            "2    202403  Exports   00           AI        Goods      39213.0      F\n",
            "3    202403  Exports   00           AL        Goods      79812.0      F\n",
            "4    202403  Exports   00           AM        Goods     814215.0      F\n"
          ]
        }
      ]
    },
    {
      "cell_type": "code",
      "source": [
        "# output_csv_full.loc[202403]\n",
        "# output_csv_full[(output_csv_full['time_ref'] == 202403) & (output_csv_full['product_type'] == 'Goods')][['time_ref', 'country_code', 'value']]\n",
        "duplicate_rows = output_csv_full.duplicated()\n",
        "print(\"Number of duplicate rows:\", duplicate_rows.sum())"
      ],
      "metadata": {
        "colab": {
          "base_uri": "https://localhost:8080/"
        },
        "id": "ZNizh2rsKVr3",
        "outputId": "fa25faf7-2803-4ae0-a4a7-c14670512d95"
      },
      "execution_count": 242,
      "outputs": [
        {
          "output_type": "stream",
          "name": "stdout",
          "text": [
            "Number of duplicate rows: 0\n"
          ]
        }
      ]
    },
    {
      "cell_type": "code",
      "source": [
        "# ?str.replace\n",
        "# output_csv_full['value'] = output_csv_full['value'].fillna(0, inplace=True)\n",
        "rows_with_nulls = output_csv_full.isna()\n",
        "print(\"Number of duplicate rows:\", rows_with_nulls.sum())"
      ],
      "metadata": {
        "id": "ackp_wbkK-ZZ",
        "colab": {
          "base_uri": "https://localhost:8080/"
        },
        "outputId": "e69a24a8-31c5-45a1-e48b-f488d5bc6fa3"
      },
      "execution_count": 243,
      "outputs": [
        {
          "output_type": "stream",
          "name": "stdout",
          "text": [
            "Number of duplicate rows: time_ref             0\n",
            "account              0\n",
            "code                 0\n",
            "country_code      1488\n",
            "product_type         0\n",
            "value           142195\n",
            "status               0\n",
            "dtype: int64\n"
          ]
        }
      ]
    },
    {
      "cell_type": "code",
      "source": [
        "# output_csv_full.sort_values(by=['value'], inplace=True, ascending=False)"
      ],
      "metadata": {
        "id": "SGwAYbtSqoBc"
      },
      "execution_count": 244,
      "outputs": []
    },
    {
      "cell_type": "code",
      "source": [
        "print(output_csv_full.country_code.isna().value_counts())"
      ],
      "metadata": {
        "colab": {
          "base_uri": "https://localhost:8080/"
        },
        "id": "Lj_9VJB1qxWu",
        "outputId": "955b0cc5-5614-469b-b125-32da7f7923fe"
      },
      "execution_count": 245,
      "outputs": [
        {
          "output_type": "stream",
          "name": "stdout",
          "text": [
            "country_code\n",
            "False    2281595\n",
            "True        1488\n",
            "Name: count, dtype: int64\n"
          ]
        }
      ]
    },
    {
      "cell_type": "code",
      "source": [
        "output_csv_full.dropna(subset=['country_code'], inplace=True) #drop wierszy z nullami w kolumnie country_code\n",
        "print(output_csv_full.country_code.isna().value_counts())"
      ],
      "metadata": {
        "colab": {
          "base_uri": "https://localhost:8080/"
        },
        "id": "Z7jUVhyGrDWe",
        "outputId": "150d4795-4ab7-4a16-9f58-e4a484ad8560"
      },
      "execution_count": 246,
      "outputs": [
        {
          "output_type": "stream",
          "name": "stdout",
          "text": [
            "country_code\n",
            "False    2281595\n",
            "Name: count, dtype: int64\n"
          ]
        }
      ]
    },
    {
      "cell_type": "code",
      "source": [
        "output_csv_full[output_csv_full.value.isna() == True]"
      ],
      "metadata": {
        "colab": {
          "base_uri": "https://localhost:8080/",
          "height": 423
        },
        "id": "MPRQuDI6yf3K",
        "outputId": "a0ba1aa7-fc0b-4c4e-88d5-1b49ce2d520c"
      },
      "execution_count": 247,
      "outputs": [
        {
          "output_type": "execute_result",
          "data": {
            "text/plain": [
              "         time_ref  account    code country_code product_type  value status\n",
              "20084      202403  Exports     A12           AD     Services    NaN      C\n",
              "20085      202403  Exports     A12           AE     Services    NaN      C\n",
              "20100      202403  Exports     A12           BB     Services    NaN      C\n",
              "20116      202403  Exports     A12           BZ     Services    NaN      C\n",
              "20132      202403  Exports     A12           CY     Services    NaN      C\n",
              "...           ...      ...     ...          ...          ...    ...    ...\n",
              "2283012    201406  Imports  A12122           MX     Services    NaN      C\n",
              "2283034    201406  Imports  A12123           AE     Services    NaN      C\n",
              "2283039    201406  Imports  A12123           BB     Services    NaN      C\n",
              "2283054    201406  Imports  A12123           ID     Services    NaN      C\n",
              "2283061    201406  Imports  A12123           MX     Services    NaN      C\n",
              "\n",
              "[142195 rows x 7 columns]"
            ],
            "text/html": [
              "\n",
              "  <div id=\"df-ece7b98e-7d48-441d-93d5-4f4d9d73ea60\" class=\"colab-df-container\">\n",
              "    <div>\n",
              "<style scoped>\n",
              "    .dataframe tbody tr th:only-of-type {\n",
              "        vertical-align: middle;\n",
              "    }\n",
              "\n",
              "    .dataframe tbody tr th {\n",
              "        vertical-align: top;\n",
              "    }\n",
              "\n",
              "    .dataframe thead th {\n",
              "        text-align: right;\n",
              "    }\n",
              "</style>\n",
              "<table border=\"1\" class=\"dataframe\">\n",
              "  <thead>\n",
              "    <tr style=\"text-align: right;\">\n",
              "      <th></th>\n",
              "      <th>time_ref</th>\n",
              "      <th>account</th>\n",
              "      <th>code</th>\n",
              "      <th>country_code</th>\n",
              "      <th>product_type</th>\n",
              "      <th>value</th>\n",
              "      <th>status</th>\n",
              "    </tr>\n",
              "  </thead>\n",
              "  <tbody>\n",
              "    <tr>\n",
              "      <th>20084</th>\n",
              "      <td>202403</td>\n",
              "      <td>Exports</td>\n",
              "      <td>A12</td>\n",
              "      <td>AD</td>\n",
              "      <td>Services</td>\n",
              "      <td>NaN</td>\n",
              "      <td>C</td>\n",
              "    </tr>\n",
              "    <tr>\n",
              "      <th>20085</th>\n",
              "      <td>202403</td>\n",
              "      <td>Exports</td>\n",
              "      <td>A12</td>\n",
              "      <td>AE</td>\n",
              "      <td>Services</td>\n",
              "      <td>NaN</td>\n",
              "      <td>C</td>\n",
              "    </tr>\n",
              "    <tr>\n",
              "      <th>20100</th>\n",
              "      <td>202403</td>\n",
              "      <td>Exports</td>\n",
              "      <td>A12</td>\n",
              "      <td>BB</td>\n",
              "      <td>Services</td>\n",
              "      <td>NaN</td>\n",
              "      <td>C</td>\n",
              "    </tr>\n",
              "    <tr>\n",
              "      <th>20116</th>\n",
              "      <td>202403</td>\n",
              "      <td>Exports</td>\n",
              "      <td>A12</td>\n",
              "      <td>BZ</td>\n",
              "      <td>Services</td>\n",
              "      <td>NaN</td>\n",
              "      <td>C</td>\n",
              "    </tr>\n",
              "    <tr>\n",
              "      <th>20132</th>\n",
              "      <td>202403</td>\n",
              "      <td>Exports</td>\n",
              "      <td>A12</td>\n",
              "      <td>CY</td>\n",
              "      <td>Services</td>\n",
              "      <td>NaN</td>\n",
              "      <td>C</td>\n",
              "    </tr>\n",
              "    <tr>\n",
              "      <th>...</th>\n",
              "      <td>...</td>\n",
              "      <td>...</td>\n",
              "      <td>...</td>\n",
              "      <td>...</td>\n",
              "      <td>...</td>\n",
              "      <td>...</td>\n",
              "      <td>...</td>\n",
              "    </tr>\n",
              "    <tr>\n",
              "      <th>2283012</th>\n",
              "      <td>201406</td>\n",
              "      <td>Imports</td>\n",
              "      <td>A12122</td>\n",
              "      <td>MX</td>\n",
              "      <td>Services</td>\n",
              "      <td>NaN</td>\n",
              "      <td>C</td>\n",
              "    </tr>\n",
              "    <tr>\n",
              "      <th>2283034</th>\n",
              "      <td>201406</td>\n",
              "      <td>Imports</td>\n",
              "      <td>A12123</td>\n",
              "      <td>AE</td>\n",
              "      <td>Services</td>\n",
              "      <td>NaN</td>\n",
              "      <td>C</td>\n",
              "    </tr>\n",
              "    <tr>\n",
              "      <th>2283039</th>\n",
              "      <td>201406</td>\n",
              "      <td>Imports</td>\n",
              "      <td>A12123</td>\n",
              "      <td>BB</td>\n",
              "      <td>Services</td>\n",
              "      <td>NaN</td>\n",
              "      <td>C</td>\n",
              "    </tr>\n",
              "    <tr>\n",
              "      <th>2283054</th>\n",
              "      <td>201406</td>\n",
              "      <td>Imports</td>\n",
              "      <td>A12123</td>\n",
              "      <td>ID</td>\n",
              "      <td>Services</td>\n",
              "      <td>NaN</td>\n",
              "      <td>C</td>\n",
              "    </tr>\n",
              "    <tr>\n",
              "      <th>2283061</th>\n",
              "      <td>201406</td>\n",
              "      <td>Imports</td>\n",
              "      <td>A12123</td>\n",
              "      <td>MX</td>\n",
              "      <td>Services</td>\n",
              "      <td>NaN</td>\n",
              "      <td>C</td>\n",
              "    </tr>\n",
              "  </tbody>\n",
              "</table>\n",
              "<p>142195 rows × 7 columns</p>\n",
              "</div>\n",
              "    <div class=\"colab-df-buttons\">\n",
              "\n",
              "  <div class=\"colab-df-container\">\n",
              "    <button class=\"colab-df-convert\" onclick=\"convertToInteractive('df-ece7b98e-7d48-441d-93d5-4f4d9d73ea60')\"\n",
              "            title=\"Convert this dataframe to an interactive table.\"\n",
              "            style=\"display:none;\">\n",
              "\n",
              "  <svg xmlns=\"http://www.w3.org/2000/svg\" height=\"24px\" viewBox=\"0 -960 960 960\">\n",
              "    <path d=\"M120-120v-720h720v720H120Zm60-500h600v-160H180v160Zm220 220h160v-160H400v160Zm0 220h160v-160H400v160ZM180-400h160v-160H180v160Zm440 0h160v-160H620v160ZM180-180h160v-160H180v160Zm440 0h160v-160H620v160Z\"/>\n",
              "  </svg>\n",
              "    </button>\n",
              "\n",
              "  <style>\n",
              "    .colab-df-container {\n",
              "      display:flex;\n",
              "      gap: 12px;\n",
              "    }\n",
              "\n",
              "    .colab-df-convert {\n",
              "      background-color: #E8F0FE;\n",
              "      border: none;\n",
              "      border-radius: 50%;\n",
              "      cursor: pointer;\n",
              "      display: none;\n",
              "      fill: #1967D2;\n",
              "      height: 32px;\n",
              "      padding: 0 0 0 0;\n",
              "      width: 32px;\n",
              "    }\n",
              "\n",
              "    .colab-df-convert:hover {\n",
              "      background-color: #E2EBFA;\n",
              "      box-shadow: 0px 1px 2px rgba(60, 64, 67, 0.3), 0px 1px 3px 1px rgba(60, 64, 67, 0.15);\n",
              "      fill: #174EA6;\n",
              "    }\n",
              "\n",
              "    .colab-df-buttons div {\n",
              "      margin-bottom: 4px;\n",
              "    }\n",
              "\n",
              "    [theme=dark] .colab-df-convert {\n",
              "      background-color: #3B4455;\n",
              "      fill: #D2E3FC;\n",
              "    }\n",
              "\n",
              "    [theme=dark] .colab-df-convert:hover {\n",
              "      background-color: #434B5C;\n",
              "      box-shadow: 0px 1px 3px 1px rgba(0, 0, 0, 0.15);\n",
              "      filter: drop-shadow(0px 1px 2px rgba(0, 0, 0, 0.3));\n",
              "      fill: #FFFFFF;\n",
              "    }\n",
              "  </style>\n",
              "\n",
              "    <script>\n",
              "      const buttonEl =\n",
              "        document.querySelector('#df-ece7b98e-7d48-441d-93d5-4f4d9d73ea60 button.colab-df-convert');\n",
              "      buttonEl.style.display =\n",
              "        google.colab.kernel.accessAllowed ? 'block' : 'none';\n",
              "\n",
              "      async function convertToInteractive(key) {\n",
              "        const element = document.querySelector('#df-ece7b98e-7d48-441d-93d5-4f4d9d73ea60');\n",
              "        const dataTable =\n",
              "          await google.colab.kernel.invokeFunction('convertToInteractive',\n",
              "                                                    [key], {});\n",
              "        if (!dataTable) return;\n",
              "\n",
              "        const docLinkHtml = 'Like what you see? Visit the ' +\n",
              "          '<a target=\"_blank\" href=https://colab.research.google.com/notebooks/data_table.ipynb>data table notebook</a>'\n",
              "          + ' to learn more about interactive tables.';\n",
              "        element.innerHTML = '';\n",
              "        dataTable['output_type'] = 'display_data';\n",
              "        await google.colab.output.renderOutput(dataTable, element);\n",
              "        const docLink = document.createElement('div');\n",
              "        docLink.innerHTML = docLinkHtml;\n",
              "        element.appendChild(docLink);\n",
              "      }\n",
              "    </script>\n",
              "  </div>\n",
              "\n",
              "\n",
              "<div id=\"df-f61d8727-4f4e-4508-9b4a-6bbd12b69da5\">\n",
              "  <button class=\"colab-df-quickchart\" onclick=\"quickchart('df-f61d8727-4f4e-4508-9b4a-6bbd12b69da5')\"\n",
              "            title=\"Suggest charts\"\n",
              "            style=\"display:none;\">\n",
              "\n",
              "<svg xmlns=\"http://www.w3.org/2000/svg\" height=\"24px\"viewBox=\"0 0 24 24\"\n",
              "     width=\"24px\">\n",
              "    <g>\n",
              "        <path d=\"M19 3H5c-1.1 0-2 .9-2 2v14c0 1.1.9 2 2 2h14c1.1 0 2-.9 2-2V5c0-1.1-.9-2-2-2zM9 17H7v-7h2v7zm4 0h-2V7h2v10zm4 0h-2v-4h2v4z\"/>\n",
              "    </g>\n",
              "</svg>\n",
              "  </button>\n",
              "\n",
              "<style>\n",
              "  .colab-df-quickchart {\n",
              "      --bg-color: #E8F0FE;\n",
              "      --fill-color: #1967D2;\n",
              "      --hover-bg-color: #E2EBFA;\n",
              "      --hover-fill-color: #174EA6;\n",
              "      --disabled-fill-color: #AAA;\n",
              "      --disabled-bg-color: #DDD;\n",
              "  }\n",
              "\n",
              "  [theme=dark] .colab-df-quickchart {\n",
              "      --bg-color: #3B4455;\n",
              "      --fill-color: #D2E3FC;\n",
              "      --hover-bg-color: #434B5C;\n",
              "      --hover-fill-color: #FFFFFF;\n",
              "      --disabled-bg-color: #3B4455;\n",
              "      --disabled-fill-color: #666;\n",
              "  }\n",
              "\n",
              "  .colab-df-quickchart {\n",
              "    background-color: var(--bg-color);\n",
              "    border: none;\n",
              "    border-radius: 50%;\n",
              "    cursor: pointer;\n",
              "    display: none;\n",
              "    fill: var(--fill-color);\n",
              "    height: 32px;\n",
              "    padding: 0;\n",
              "    width: 32px;\n",
              "  }\n",
              "\n",
              "  .colab-df-quickchart:hover {\n",
              "    background-color: var(--hover-bg-color);\n",
              "    box-shadow: 0 1px 2px rgba(60, 64, 67, 0.3), 0 1px 3px 1px rgba(60, 64, 67, 0.15);\n",
              "    fill: var(--button-hover-fill-color);\n",
              "  }\n",
              "\n",
              "  .colab-df-quickchart-complete:disabled,\n",
              "  .colab-df-quickchart-complete:disabled:hover {\n",
              "    background-color: var(--disabled-bg-color);\n",
              "    fill: var(--disabled-fill-color);\n",
              "    box-shadow: none;\n",
              "  }\n",
              "\n",
              "  .colab-df-spinner {\n",
              "    border: 2px solid var(--fill-color);\n",
              "    border-color: transparent;\n",
              "    border-bottom-color: var(--fill-color);\n",
              "    animation:\n",
              "      spin 1s steps(1) infinite;\n",
              "  }\n",
              "\n",
              "  @keyframes spin {\n",
              "    0% {\n",
              "      border-color: transparent;\n",
              "      border-bottom-color: var(--fill-color);\n",
              "      border-left-color: var(--fill-color);\n",
              "    }\n",
              "    20% {\n",
              "      border-color: transparent;\n",
              "      border-left-color: var(--fill-color);\n",
              "      border-top-color: var(--fill-color);\n",
              "    }\n",
              "    30% {\n",
              "      border-color: transparent;\n",
              "      border-left-color: var(--fill-color);\n",
              "      border-top-color: var(--fill-color);\n",
              "      border-right-color: var(--fill-color);\n",
              "    }\n",
              "    40% {\n",
              "      border-color: transparent;\n",
              "      border-right-color: var(--fill-color);\n",
              "      border-top-color: var(--fill-color);\n",
              "    }\n",
              "    60% {\n",
              "      border-color: transparent;\n",
              "      border-right-color: var(--fill-color);\n",
              "    }\n",
              "    80% {\n",
              "      border-color: transparent;\n",
              "      border-right-color: var(--fill-color);\n",
              "      border-bottom-color: var(--fill-color);\n",
              "    }\n",
              "    90% {\n",
              "      border-color: transparent;\n",
              "      border-bottom-color: var(--fill-color);\n",
              "    }\n",
              "  }\n",
              "</style>\n",
              "\n",
              "  <script>\n",
              "    async function quickchart(key) {\n",
              "      const quickchartButtonEl =\n",
              "        document.querySelector('#' + key + ' button');\n",
              "      quickchartButtonEl.disabled = true;  // To prevent multiple clicks.\n",
              "      quickchartButtonEl.classList.add('colab-df-spinner');\n",
              "      try {\n",
              "        const charts = await google.colab.kernel.invokeFunction(\n",
              "            'suggestCharts', [key], {});\n",
              "      } catch (error) {\n",
              "        console.error('Error during call to suggestCharts:', error);\n",
              "      }\n",
              "      quickchartButtonEl.classList.remove('colab-df-spinner');\n",
              "      quickchartButtonEl.classList.add('colab-df-quickchart-complete');\n",
              "    }\n",
              "    (() => {\n",
              "      let quickchartButtonEl =\n",
              "        document.querySelector('#df-f61d8727-4f4e-4508-9b4a-6bbd12b69da5 button');\n",
              "      quickchartButtonEl.style.display =\n",
              "        google.colab.kernel.accessAllowed ? 'block' : 'none';\n",
              "    })();\n",
              "  </script>\n",
              "</div>\n",
              "\n",
              "    </div>\n",
              "  </div>\n"
            ],
            "application/vnd.google.colaboratory.intrinsic+json": {
              "type": "dataframe"
            }
          },
          "metadata": {},
          "execution_count": 247
        }
      ]
    },
    {
      "cell_type": "code",
      "source": [
        "output_csv_full.value = output_csv_full.value.fillna(0) #0 zamiast null/nan\n",
        "output_csv_full.value.info()"
      ],
      "metadata": {
        "colab": {
          "base_uri": "https://localhost:8080/"
        },
        "id": "hO7ooXTm1hpL",
        "outputId": "a84eb4c6-ca3e-49c0-be11-2c24486f7595"
      },
      "execution_count": 248,
      "outputs": [
        {
          "output_type": "stream",
          "name": "stdout",
          "text": [
            "<class 'pandas.core.series.Series'>\n",
            "Index: 2281595 entries, 0 to 2283082\n",
            "Series name: value\n",
            "Non-Null Count    Dtype  \n",
            "--------------    -----  \n",
            "2281595 non-null  float64\n",
            "dtypes: float64(1)\n",
            "memory usage: 34.8 MB\n"
          ]
        }
      ]
    },
    {
      "cell_type": "code",
      "source": [
        "output_csv_full['year'] = output_csv_full['time_ref'].astype(str).str[:4].astype(int)\n",
        "output_csv_full['month'] = output_csv_full['time_ref'].astype(str).str[4:6].astype(int)"
      ],
      "metadata": {
        "id": "_PvF3n1A1p3z"
      },
      "execution_count": 249,
      "outputs": []
    },
    {
      "cell_type": "code",
      "source": [
        "output_csv_full['date'] = pd.to_datetime(output_csv_full[['year', 'month']].assign(day=1))"
      ],
      "metadata": {
        "id": "YFnj3n8h1uJQ"
      },
      "execution_count": 250,
      "outputs": []
    },
    {
      "cell_type": "code",
      "source": [
        "try:\n",
        "  output_csv_full = output_csv_full.drop(columns=['time_ref', 'year', 'month'])\n",
        "except:\n",
        "  print('Columns already dropped')"
      ],
      "metadata": {
        "id": "QWlBoeLR31gR"
      },
      "execution_count": 251,
      "outputs": []
    },
    {
      "cell_type": "markdown",
      "source": [
        "Read and clean countries dictionary from csv:"
      ],
      "metadata": {
        "id": "0w_c_f7r46I2"
      }
    },
    {
      "cell_type": "code",
      "source": [
        "try:\n",
        "  country_classification = pd.read_csv('/content/international_trade_march/country_classification.csv', header=0)\n",
        "  print('File read successfully')\n",
        "except FileNotFoundError:\n",
        "  print('File not found.')"
      ],
      "metadata": {
        "colab": {
          "base_uri": "https://localhost:8080/"
        },
        "id": "9cj3HJeF4JnC",
        "outputId": "91be080c-88a9-4034-c7ba-7e48e80256a2"
      },
      "execution_count": 252,
      "outputs": [
        {
          "output_type": "stream",
          "name": "stdout",
          "text": [
            "File read successfully\n"
          ]
        }
      ]
    },
    {
      "cell_type": "code",
      "source": [
        "country_classification.country_code = country_classification.country_code.astype('category')\n",
        "country_classification.info(show_counts=True)"
      ],
      "metadata": {
        "colab": {
          "base_uri": "https://localhost:8080/"
        },
        "id": "MHM5Sb6r5hfm",
        "outputId": "b460da3a-840b-4bdd-cc54-61f4dcc7c4a6"
      },
      "execution_count": 253,
      "outputs": [
        {
          "output_type": "stream",
          "name": "stdout",
          "text": [
            "<class 'pandas.core.frame.DataFrame'>\n",
            "RangeIndex: 258 entries, 0 to 257\n",
            "Data columns (total 2 columns):\n",
            " #   Column         Non-Null Count  Dtype   \n",
            "---  ------         --------------  -----   \n",
            " 0   country_code   257 non-null    category\n",
            " 1   country_label  258 non-null    object  \n",
            "dtypes: category(1), object(1)\n",
            "memory usage: 12.8+ KB\n"
          ]
        }
      ]
    },
    {
      "cell_type": "markdown",
      "source": [
        "Merge and clean:"
      ],
      "metadata": {
        "id": "EWIlJ-q39H1w"
      }
    },
    {
      "cell_type": "code",
      "source": [
        "merged_data = output_csv_full.merge(country_classification, on='country_code', how='left')"
      ],
      "metadata": {
        "id": "WRhGFoNN6I5a"
      },
      "execution_count": 254,
      "outputs": []
    },
    {
      "cell_type": "code",
      "source": [
        "merged_data.drop(merged_data[merged_data.country_label.isna() == True].index, inplace=True) #usunięcie niespasowanych rekordów"
      ],
      "metadata": {
        "id": "z1vdKChR-MaC"
      },
      "execution_count": 255,
      "outputs": []
    },
    {
      "cell_type": "code",
      "source": [
        "merged_data = merged_data.reset_index(drop=True)"
      ],
      "metadata": {
        "id": "wgPu98bl-Z7r"
      },
      "execution_count": 256,
      "outputs": []
    },
    {
      "cell_type": "markdown",
      "source": [
        "Read and clean goods classification dictionary from csv:"
      ],
      "metadata": {
        "id": "vL8Hv1St_w1g"
      }
    },
    {
      "cell_type": "code",
      "source": [
        "try:\n",
        "  goods_classification = pd.read_csv('/content/international_trade_march/goods_classification.csv', header=0)\n",
        "  print('File read successfully')\n",
        "except FileNotFoundError:\n",
        "  print('File not found.')"
      ],
      "metadata": {
        "colab": {
          "base_uri": "https://localhost:8080/"
        },
        "id": "BpgxSr0s_nha",
        "outputId": "58c0b8a7-c182-464b-de4d-7cbebd983a29"
      },
      "execution_count": 257,
      "outputs": [
        {
          "output_type": "stream",
          "name": "stdout",
          "text": [
            "File read successfully\n"
          ]
        }
      ]
    },
    {
      "cell_type": "markdown",
      "source": [
        "Read and clean services classification dictionary from csv:"
      ],
      "metadata": {
        "id": "VReT6UReAjAj"
      }
    },
    {
      "cell_type": "code",
      "source": [
        "try:\n",
        "  services_classification = pd.read_csv('/content/international_trade_march/services_classification.csv', header=0)\n",
        "  print('File read successfully')\n",
        "except FileNotFoundError:\n",
        "  print('File not found.')"
      ],
      "metadata": {
        "colab": {
          "base_uri": "https://localhost:8080/"
        },
        "id": "GU_e41V_Aie4",
        "outputId": "844e8057-cbc9-4734-9aee-7248b6e5f4ec"
      },
      "execution_count": 258,
      "outputs": [
        {
          "output_type": "stream",
          "name": "stdout",
          "text": [
            "File read successfully\n"
          ]
        }
      ]
    },
    {
      "cell_type": "code",
      "source": [
        "services_classification.code = services_classification.code.astype('category')"
      ],
      "metadata": {
        "id": "3PKHUi4nAt5O"
      },
      "execution_count": 259,
      "outputs": []
    },
    {
      "cell_type": "markdown",
      "source": [
        "Merge:"
      ],
      "metadata": {
        "id": "UiWzubNeBILJ"
      }
    },
    {
      "cell_type": "code",
      "source": [
        "merged_data = merged_data.merge(services_classification, on='code', how='left')"
      ],
      "metadata": {
        "id": "ZMM79v83BHzG"
      },
      "execution_count": 260,
      "outputs": []
    },
    {
      "cell_type": "code",
      "source": [
        "merged_data.loc[merged_data.service_label.isna() == True, 'service_label'] = 'Unknown' #fill nulls with 'Unknown'"
      ],
      "metadata": {
        "id": "m65SLxQUBYjZ"
      },
      "execution_count": 261,
      "outputs": []
    },
    {
      "cell_type": "code",
      "source": [
        "merged_data.info(show_counts=True)"
      ],
      "metadata": {
        "colab": {
          "base_uri": "https://localhost:8080/"
        },
        "id": "ffQWG_TODA7Q",
        "outputId": "39a26d99-2094-4bcb-dfdc-10d95b16584a"
      },
      "execution_count": 262,
      "outputs": [
        {
          "output_type": "stream",
          "name": "stdout",
          "text": [
            "<class 'pandas.core.frame.DataFrame'>\n",
            "RangeIndex: 2281414 entries, 0 to 2281413\n",
            "Data columns (total 9 columns):\n",
            " #   Column         Non-Null Count    Dtype         \n",
            "---  ------         --------------    -----         \n",
            " 0   account        2281414 non-null  object        \n",
            " 1   code           2281414 non-null  object        \n",
            " 2   country_code   2281414 non-null  object        \n",
            " 3   product_type   2281414 non-null  category      \n",
            " 4   value          2281414 non-null  float64       \n",
            " 5   status         2281414 non-null  object        \n",
            " 6   date           2281414 non-null  datetime64[ns]\n",
            " 7   country_label  2281414 non-null  object        \n",
            " 8   service_label  2281414 non-null  object        \n",
            "dtypes: category(1), datetime64[ns](1), float64(1), object(6)\n",
            "memory usage: 141.4+ MB\n"
          ]
        }
      ]
    }
  ]
}