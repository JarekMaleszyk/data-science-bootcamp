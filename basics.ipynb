{
  "nbformat": 4,
  "nbformat_minor": 0,
  "metadata": {
    "colab": {
      "provenance": [],
      "authorship_tag": "ABX9TyM7JX9cP0DsTTkEJS1CRm4q",
      "include_colab_link": true
    },
    "kernelspec": {
      "name": "python3",
      "display_name": "Python 3"
    },
    "language_info": {
      "name": "python"
    }
  },
  "cells": [
    {
      "cell_type": "markdown",
      "metadata": {
        "id": "view-in-github",
        "colab_type": "text"
      },
      "source": [
        "<a href=\"https://colab.research.google.com/github/JarekMaleszyk/data-science-bootcamp/blob/master/basics.ipynb\" target=\"_parent\"><img src=\"https://colab.research.google.com/assets/colab-badge.svg\" alt=\"Open In Colab\"/></a>"
      ]
    },
    {
      "cell_type": "code",
      "source": [
        "!rm -rf \"/content/international_trade_march\"\n",
        "DIRECTORY='international_trade_march'\n",
        "import os\n",
        "if not os.path.exists(DIRECTORY):\n",
        "    os.makedirs(DIRECTORY)\n",
        "    print(f\"Directory '{DIRECTORY}' created successfully.\")"
      ],
      "metadata": {
        "id": "yPE-1uosA7-q",
        "colab": {
          "base_uri": "https://localhost:8080/"
        },
        "outputId": "26a42081-9e4a-4c2b-c0de-16da86c31841"
      },
      "execution_count": 364,
      "outputs": [
        {
          "output_type": "stream",
          "name": "stdout",
          "text": [
            "Directory 'international_trade_march' created successfully.\n"
          ]
        }
      ]
    },
    {
      "cell_type": "markdown",
      "source": [],
      "metadata": {
        "id": "rDcSwt_qCIm4"
      }
    },
    {
      "cell_type": "code",
      "source": [
        "import os\n",
        "ZIP_FILE_NAME = 'international-trade-march-2024-quarter.zip'\n",
        "if os.path.exists(ZIP_FILE_NAME):\n",
        "  os.remove(ZIP_FILE_NAME)\n",
        "else:\n",
        "  print(f\"The file {ZIP_FILE_NAME} does not exist\")\n",
        "\n",
        "!wget -P \"/content/international_trade_march\" \"https://www.stats.govt.nz/assets/Uploads/International-trade/International-trade-March-2024-quarter/Download-data/international-trade-march-2024-quarter.zip\""
      ],
      "metadata": {
        "colab": {
          "base_uri": "https://localhost:8080/"
        },
        "id": "YDIoaSXUBI75",
        "outputId": "addf7a5c-ee85-4fd7-c2be-f46540d7650d"
      },
      "execution_count": 365,
      "outputs": [
        {
          "output_type": "stream",
          "name": "stdout",
          "text": [
            "The file international-trade-march-2024-quarter.zip does not exist\n",
            "--2024-08-22 09:12:47--  https://www.stats.govt.nz/assets/Uploads/International-trade/International-trade-March-2024-quarter/Download-data/international-trade-march-2024-quarter.zip\n",
            "Resolving www.stats.govt.nz (www.stats.govt.nz)... 45.60.11.104\n",
            "Connecting to www.stats.govt.nz (www.stats.govt.nz)|45.60.11.104|:443... connected.\n",
            "HTTP request sent, awaiting response... 200 OK\n",
            "Length: 16398428 (16M) [application/zip]\n",
            "Saving to: ‘/content/international_trade_march/international-trade-march-2024-quarter.zip’\n",
            "\n",
            "international-trade 100%[===================>]  15.64M  91.9MB/s    in 0.2s    \n",
            "\n",
            "2024-08-22 09:12:48 (91.9 MB/s) - ‘/content/international_trade_march/international-trade-march-2024-quarter.zip’ saved [16398428/16398428]\n",
            "\n"
          ]
        }
      ]
    },
    {
      "cell_type": "code",
      "source": [
        "!unzip -o \"/content/international_trade_march/international-trade-march-2024-quarter.zip\" -d \"/content/international_trade_march\""
      ],
      "metadata": {
        "colab": {
          "base_uri": "https://localhost:8080/"
        },
        "id": "Q2IuIU8_Bw1R",
        "outputId": "263badb4-08b1-4b72-8f69-1d4b36ae441c"
      },
      "execution_count": 366,
      "outputs": [
        {
          "output_type": "stream",
          "name": "stdout",
          "text": [
            "Archive:  /content/international_trade_march/international-trade-march-2024-quarter.zip\n",
            "  inflating: /content/international_trade_march/country_classification.csv  \n",
            "  inflating: /content/international_trade_march/goods_classification.csv  \n",
            "  inflating: /content/international_trade_march/output_csv_full.csv  \n",
            "  inflating: /content/international_trade_march/revised.csv  \n",
            "  inflating: /content/international_trade_march/services_classification.csv  \n"
          ]
        }
      ]
    },
    {
      "cell_type": "markdown",
      "source": [
        "Read and clean main data from csv:"
      ],
      "metadata": {
        "id": "qq1L5edp5JpV"
      }
    },
    {
      "cell_type": "code",
      "source": [
        "import pandas as pd\n",
        "try:\n",
        "  output_csv_full = pd.read_csv('/content/international_trade_march/output_csv_full.csv', header=0)\n",
        "  print('File read successfully')\n",
        "except FileNotFoundError:\n",
        "  print('File not found.')"
      ],
      "metadata": {
        "colab": {
          "base_uri": "https://localhost:8080/"
        },
        "collapsed": true,
        "id": "JH1BcOeFD3rM",
        "outputId": "d310b233-9fde-4117-821f-0f1d93a56436"
      },
      "execution_count": 367,
      "outputs": [
        {
          "output_type": "stream",
          "name": "stdout",
          "text": [
            "File read successfully\n"
          ]
        }
      ]
    },
    {
      "cell_type": "code",
      "source": [
        "output_csv_full.product_type = output_csv_full.product_type.astype('category')\n",
        "# output_csv_full.product_type.cat.categories\n",
        "output_csv_full.country_code = output_csv_full.country_code.astype('category')\n",
        "# output_csv_full.country_code.cat.categories"
      ],
      "metadata": {
        "id": "_UqLWgR-GAZe"
      },
      "execution_count": 368,
      "outputs": []
    },
    {
      "cell_type": "code",
      "source": [
        "print(output_csv_full.head())"
      ],
      "metadata": {
        "colab": {
          "base_uri": "https://localhost:8080/"
        },
        "id": "nbqZ-kjYGDQ9",
        "outputId": "e21df826-f1ed-40a1-bd20-4d53efd44263"
      },
      "execution_count": 369,
      "outputs": [
        {
          "output_type": "stream",
          "name": "stdout",
          "text": [
            "   time_ref  account code country_code product_type        value status\n",
            "0    202403  Exports   00           AE        Goods  325056709.0      F\n",
            "1    202403  Exports   00           AG        Goods     860461.0      F\n",
            "2    202403  Exports   00           AI        Goods      39213.0      F\n",
            "3    202403  Exports   00           AL        Goods      79812.0      F\n",
            "4    202403  Exports   00           AM        Goods     814215.0      F\n"
          ]
        }
      ]
    },
    {
      "cell_type": "code",
      "source": [
        "# output_csv_full.loc[202403]\n",
        "# output_csv_full[(output_csv_full['time_ref'] == 202403) & (output_csv_full['product_type'] == 'Goods')][['time_ref', 'country_code', 'value']]\n",
        "duplicate_rows = output_csv_full.duplicated()\n",
        "print(\"Number of duplicate rows:\", duplicate_rows.sum())"
      ],
      "metadata": {
        "colab": {
          "base_uri": "https://localhost:8080/"
        },
        "id": "ZNizh2rsKVr3",
        "outputId": "fa5752a5-90e9-44eb-cc55-84a831ecebe8"
      },
      "execution_count": 370,
      "outputs": [
        {
          "output_type": "stream",
          "name": "stdout",
          "text": [
            "Number of duplicate rows: 0\n"
          ]
        }
      ]
    },
    {
      "cell_type": "code",
      "source": [
        "# ?str.replace\n",
        "# output_csv_full['value'] = output_csv_full['value'].fillna(0, inplace=True)\n",
        "rows_with_nulls = output_csv_full.isna()\n",
        "print(\"Number of duplicate rows:\", rows_with_nulls.sum())"
      ],
      "metadata": {
        "id": "ackp_wbkK-ZZ",
        "colab": {
          "base_uri": "https://localhost:8080/"
        },
        "outputId": "bc7f75e9-4704-40ed-b962-a9093ca6fcbe"
      },
      "execution_count": 371,
      "outputs": [
        {
          "output_type": "stream",
          "name": "stdout",
          "text": [
            "Number of duplicate rows: time_ref             0\n",
            "account              0\n",
            "code                 0\n",
            "country_code      1488\n",
            "product_type         0\n",
            "value           142195\n",
            "status               0\n",
            "dtype: int64\n"
          ]
        }
      ]
    },
    {
      "cell_type": "code",
      "source": [
        "# output_csv_full.sort_values(by=['value'], inplace=True, ascending=False)"
      ],
      "metadata": {
        "id": "SGwAYbtSqoBc"
      },
      "execution_count": 372,
      "outputs": []
    },
    {
      "cell_type": "code",
      "source": [
        "print(output_csv_full.country_code.isna().value_counts())"
      ],
      "metadata": {
        "colab": {
          "base_uri": "https://localhost:8080/"
        },
        "id": "Lj_9VJB1qxWu",
        "outputId": "bfbddab7-dec7-4061-fed2-ca3ec0dee7b7"
      },
      "execution_count": 373,
      "outputs": [
        {
          "output_type": "stream",
          "name": "stdout",
          "text": [
            "country_code\n",
            "False    2281595\n",
            "True        1488\n",
            "Name: count, dtype: int64\n"
          ]
        }
      ]
    },
    {
      "cell_type": "code",
      "source": [
        "output_csv_full.dropna(subset=['country_code'], inplace=True) #drop wierszy z nullami w kolumnie country_code\n",
        "print(output_csv_full.country_code.isna().value_counts())"
      ],
      "metadata": {
        "colab": {
          "base_uri": "https://localhost:8080/"
        },
        "id": "Z7jUVhyGrDWe",
        "outputId": "b9dba87f-cf7f-4980-ec2d-6a37d21187b3"
      },
      "execution_count": 374,
      "outputs": [
        {
          "output_type": "stream",
          "name": "stdout",
          "text": [
            "country_code\n",
            "False    2281595\n",
            "Name: count, dtype: int64\n"
          ]
        }
      ]
    },
    {
      "cell_type": "code",
      "source": [
        "output_csv_full[output_csv_full.value.isna() == True]"
      ],
      "metadata": {
        "colab": {
          "base_uri": "https://localhost:8080/",
          "height": 423
        },
        "id": "MPRQuDI6yf3K",
        "outputId": "4fe4af6a-59a7-44d8-a7ff-c8f07be2a9d4"
      },
      "execution_count": 375,
      "outputs": [
        {
          "output_type": "execute_result",
          "data": {
            "text/plain": [
              "         time_ref  account    code country_code product_type  value status\n",
              "20084      202403  Exports     A12           AD     Services    NaN      C\n",
              "20085      202403  Exports     A12           AE     Services    NaN      C\n",
              "20100      202403  Exports     A12           BB     Services    NaN      C\n",
              "20116      202403  Exports     A12           BZ     Services    NaN      C\n",
              "20132      202403  Exports     A12           CY     Services    NaN      C\n",
              "...           ...      ...     ...          ...          ...    ...    ...\n",
              "2283012    201406  Imports  A12122           MX     Services    NaN      C\n",
              "2283034    201406  Imports  A12123           AE     Services    NaN      C\n",
              "2283039    201406  Imports  A12123           BB     Services    NaN      C\n",
              "2283054    201406  Imports  A12123           ID     Services    NaN      C\n",
              "2283061    201406  Imports  A12123           MX     Services    NaN      C\n",
              "\n",
              "[142195 rows x 7 columns]"
            ],
            "text/html": [
              "\n",
              "  <div id=\"df-ff0d0881-33b8-4471-9aef-3dba17c391b0\" class=\"colab-df-container\">\n",
              "    <div>\n",
              "<style scoped>\n",
              "    .dataframe tbody tr th:only-of-type {\n",
              "        vertical-align: middle;\n",
              "    }\n",
              "\n",
              "    .dataframe tbody tr th {\n",
              "        vertical-align: top;\n",
              "    }\n",
              "\n",
              "    .dataframe thead th {\n",
              "        text-align: right;\n",
              "    }\n",
              "</style>\n",
              "<table border=\"1\" class=\"dataframe\">\n",
              "  <thead>\n",
              "    <tr style=\"text-align: right;\">\n",
              "      <th></th>\n",
              "      <th>time_ref</th>\n",
              "      <th>account</th>\n",
              "      <th>code</th>\n",
              "      <th>country_code</th>\n",
              "      <th>product_type</th>\n",
              "      <th>value</th>\n",
              "      <th>status</th>\n",
              "    </tr>\n",
              "  </thead>\n",
              "  <tbody>\n",
              "    <tr>\n",
              "      <th>20084</th>\n",
              "      <td>202403</td>\n",
              "      <td>Exports</td>\n",
              "      <td>A12</td>\n",
              "      <td>AD</td>\n",
              "      <td>Services</td>\n",
              "      <td>NaN</td>\n",
              "      <td>C</td>\n",
              "    </tr>\n",
              "    <tr>\n",
              "      <th>20085</th>\n",
              "      <td>202403</td>\n",
              "      <td>Exports</td>\n",
              "      <td>A12</td>\n",
              "      <td>AE</td>\n",
              "      <td>Services</td>\n",
              "      <td>NaN</td>\n",
              "      <td>C</td>\n",
              "    </tr>\n",
              "    <tr>\n",
              "      <th>20100</th>\n",
              "      <td>202403</td>\n",
              "      <td>Exports</td>\n",
              "      <td>A12</td>\n",
              "      <td>BB</td>\n",
              "      <td>Services</td>\n",
              "      <td>NaN</td>\n",
              "      <td>C</td>\n",
              "    </tr>\n",
              "    <tr>\n",
              "      <th>20116</th>\n",
              "      <td>202403</td>\n",
              "      <td>Exports</td>\n",
              "      <td>A12</td>\n",
              "      <td>BZ</td>\n",
              "      <td>Services</td>\n",
              "      <td>NaN</td>\n",
              "      <td>C</td>\n",
              "    </tr>\n",
              "    <tr>\n",
              "      <th>20132</th>\n",
              "      <td>202403</td>\n",
              "      <td>Exports</td>\n",
              "      <td>A12</td>\n",
              "      <td>CY</td>\n",
              "      <td>Services</td>\n",
              "      <td>NaN</td>\n",
              "      <td>C</td>\n",
              "    </tr>\n",
              "    <tr>\n",
              "      <th>...</th>\n",
              "      <td>...</td>\n",
              "      <td>...</td>\n",
              "      <td>...</td>\n",
              "      <td>...</td>\n",
              "      <td>...</td>\n",
              "      <td>...</td>\n",
              "      <td>...</td>\n",
              "    </tr>\n",
              "    <tr>\n",
              "      <th>2283012</th>\n",
              "      <td>201406</td>\n",
              "      <td>Imports</td>\n",
              "      <td>A12122</td>\n",
              "      <td>MX</td>\n",
              "      <td>Services</td>\n",
              "      <td>NaN</td>\n",
              "      <td>C</td>\n",
              "    </tr>\n",
              "    <tr>\n",
              "      <th>2283034</th>\n",
              "      <td>201406</td>\n",
              "      <td>Imports</td>\n",
              "      <td>A12123</td>\n",
              "      <td>AE</td>\n",
              "      <td>Services</td>\n",
              "      <td>NaN</td>\n",
              "      <td>C</td>\n",
              "    </tr>\n",
              "    <tr>\n",
              "      <th>2283039</th>\n",
              "      <td>201406</td>\n",
              "      <td>Imports</td>\n",
              "      <td>A12123</td>\n",
              "      <td>BB</td>\n",
              "      <td>Services</td>\n",
              "      <td>NaN</td>\n",
              "      <td>C</td>\n",
              "    </tr>\n",
              "    <tr>\n",
              "      <th>2283054</th>\n",
              "      <td>201406</td>\n",
              "      <td>Imports</td>\n",
              "      <td>A12123</td>\n",
              "      <td>ID</td>\n",
              "      <td>Services</td>\n",
              "      <td>NaN</td>\n",
              "      <td>C</td>\n",
              "    </tr>\n",
              "    <tr>\n",
              "      <th>2283061</th>\n",
              "      <td>201406</td>\n",
              "      <td>Imports</td>\n",
              "      <td>A12123</td>\n",
              "      <td>MX</td>\n",
              "      <td>Services</td>\n",
              "      <td>NaN</td>\n",
              "      <td>C</td>\n",
              "    </tr>\n",
              "  </tbody>\n",
              "</table>\n",
              "<p>142195 rows × 7 columns</p>\n",
              "</div>\n",
              "    <div class=\"colab-df-buttons\">\n",
              "\n",
              "  <div class=\"colab-df-container\">\n",
              "    <button class=\"colab-df-convert\" onclick=\"convertToInteractive('df-ff0d0881-33b8-4471-9aef-3dba17c391b0')\"\n",
              "            title=\"Convert this dataframe to an interactive table.\"\n",
              "            style=\"display:none;\">\n",
              "\n",
              "  <svg xmlns=\"http://www.w3.org/2000/svg\" height=\"24px\" viewBox=\"0 -960 960 960\">\n",
              "    <path d=\"M120-120v-720h720v720H120Zm60-500h600v-160H180v160Zm220 220h160v-160H400v160Zm0 220h160v-160H400v160ZM180-400h160v-160H180v160Zm440 0h160v-160H620v160ZM180-180h160v-160H180v160Zm440 0h160v-160H620v160Z\"/>\n",
              "  </svg>\n",
              "    </button>\n",
              "\n",
              "  <style>\n",
              "    .colab-df-container {\n",
              "      display:flex;\n",
              "      gap: 12px;\n",
              "    }\n",
              "\n",
              "    .colab-df-convert {\n",
              "      background-color: #E8F0FE;\n",
              "      border: none;\n",
              "      border-radius: 50%;\n",
              "      cursor: pointer;\n",
              "      display: none;\n",
              "      fill: #1967D2;\n",
              "      height: 32px;\n",
              "      padding: 0 0 0 0;\n",
              "      width: 32px;\n",
              "    }\n",
              "\n",
              "    .colab-df-convert:hover {\n",
              "      background-color: #E2EBFA;\n",
              "      box-shadow: 0px 1px 2px rgba(60, 64, 67, 0.3), 0px 1px 3px 1px rgba(60, 64, 67, 0.15);\n",
              "      fill: #174EA6;\n",
              "    }\n",
              "\n",
              "    .colab-df-buttons div {\n",
              "      margin-bottom: 4px;\n",
              "    }\n",
              "\n",
              "    [theme=dark] .colab-df-convert {\n",
              "      background-color: #3B4455;\n",
              "      fill: #D2E3FC;\n",
              "    }\n",
              "\n",
              "    [theme=dark] .colab-df-convert:hover {\n",
              "      background-color: #434B5C;\n",
              "      box-shadow: 0px 1px 3px 1px rgba(0, 0, 0, 0.15);\n",
              "      filter: drop-shadow(0px 1px 2px rgba(0, 0, 0, 0.3));\n",
              "      fill: #FFFFFF;\n",
              "    }\n",
              "  </style>\n",
              "\n",
              "    <script>\n",
              "      const buttonEl =\n",
              "        document.querySelector('#df-ff0d0881-33b8-4471-9aef-3dba17c391b0 button.colab-df-convert');\n",
              "      buttonEl.style.display =\n",
              "        google.colab.kernel.accessAllowed ? 'block' : 'none';\n",
              "\n",
              "      async function convertToInteractive(key) {\n",
              "        const element = document.querySelector('#df-ff0d0881-33b8-4471-9aef-3dba17c391b0');\n",
              "        const dataTable =\n",
              "          await google.colab.kernel.invokeFunction('convertToInteractive',\n",
              "                                                    [key], {});\n",
              "        if (!dataTable) return;\n",
              "\n",
              "        const docLinkHtml = 'Like what you see? Visit the ' +\n",
              "          '<a target=\"_blank\" href=https://colab.research.google.com/notebooks/data_table.ipynb>data table notebook</a>'\n",
              "          + ' to learn more about interactive tables.';\n",
              "        element.innerHTML = '';\n",
              "        dataTable['output_type'] = 'display_data';\n",
              "        await google.colab.output.renderOutput(dataTable, element);\n",
              "        const docLink = document.createElement('div');\n",
              "        docLink.innerHTML = docLinkHtml;\n",
              "        element.appendChild(docLink);\n",
              "      }\n",
              "    </script>\n",
              "  </div>\n",
              "\n",
              "\n",
              "<div id=\"df-606e711e-9126-40e2-a711-94c94e559ec6\">\n",
              "  <button class=\"colab-df-quickchart\" onclick=\"quickchart('df-606e711e-9126-40e2-a711-94c94e559ec6')\"\n",
              "            title=\"Suggest charts\"\n",
              "            style=\"display:none;\">\n",
              "\n",
              "<svg xmlns=\"http://www.w3.org/2000/svg\" height=\"24px\"viewBox=\"0 0 24 24\"\n",
              "     width=\"24px\">\n",
              "    <g>\n",
              "        <path d=\"M19 3H5c-1.1 0-2 .9-2 2v14c0 1.1.9 2 2 2h14c1.1 0 2-.9 2-2V5c0-1.1-.9-2-2-2zM9 17H7v-7h2v7zm4 0h-2V7h2v10zm4 0h-2v-4h2v4z\"/>\n",
              "    </g>\n",
              "</svg>\n",
              "  </button>\n",
              "\n",
              "<style>\n",
              "  .colab-df-quickchart {\n",
              "      --bg-color: #E8F0FE;\n",
              "      --fill-color: #1967D2;\n",
              "      --hover-bg-color: #E2EBFA;\n",
              "      --hover-fill-color: #174EA6;\n",
              "      --disabled-fill-color: #AAA;\n",
              "      --disabled-bg-color: #DDD;\n",
              "  }\n",
              "\n",
              "  [theme=dark] .colab-df-quickchart {\n",
              "      --bg-color: #3B4455;\n",
              "      --fill-color: #D2E3FC;\n",
              "      --hover-bg-color: #434B5C;\n",
              "      --hover-fill-color: #FFFFFF;\n",
              "      --disabled-bg-color: #3B4455;\n",
              "      --disabled-fill-color: #666;\n",
              "  }\n",
              "\n",
              "  .colab-df-quickchart {\n",
              "    background-color: var(--bg-color);\n",
              "    border: none;\n",
              "    border-radius: 50%;\n",
              "    cursor: pointer;\n",
              "    display: none;\n",
              "    fill: var(--fill-color);\n",
              "    height: 32px;\n",
              "    padding: 0;\n",
              "    width: 32px;\n",
              "  }\n",
              "\n",
              "  .colab-df-quickchart:hover {\n",
              "    background-color: var(--hover-bg-color);\n",
              "    box-shadow: 0 1px 2px rgba(60, 64, 67, 0.3), 0 1px 3px 1px rgba(60, 64, 67, 0.15);\n",
              "    fill: var(--button-hover-fill-color);\n",
              "  }\n",
              "\n",
              "  .colab-df-quickchart-complete:disabled,\n",
              "  .colab-df-quickchart-complete:disabled:hover {\n",
              "    background-color: var(--disabled-bg-color);\n",
              "    fill: var(--disabled-fill-color);\n",
              "    box-shadow: none;\n",
              "  }\n",
              "\n",
              "  .colab-df-spinner {\n",
              "    border: 2px solid var(--fill-color);\n",
              "    border-color: transparent;\n",
              "    border-bottom-color: var(--fill-color);\n",
              "    animation:\n",
              "      spin 1s steps(1) infinite;\n",
              "  }\n",
              "\n",
              "  @keyframes spin {\n",
              "    0% {\n",
              "      border-color: transparent;\n",
              "      border-bottom-color: var(--fill-color);\n",
              "      border-left-color: var(--fill-color);\n",
              "    }\n",
              "    20% {\n",
              "      border-color: transparent;\n",
              "      border-left-color: var(--fill-color);\n",
              "      border-top-color: var(--fill-color);\n",
              "    }\n",
              "    30% {\n",
              "      border-color: transparent;\n",
              "      border-left-color: var(--fill-color);\n",
              "      border-top-color: var(--fill-color);\n",
              "      border-right-color: var(--fill-color);\n",
              "    }\n",
              "    40% {\n",
              "      border-color: transparent;\n",
              "      border-right-color: var(--fill-color);\n",
              "      border-top-color: var(--fill-color);\n",
              "    }\n",
              "    60% {\n",
              "      border-color: transparent;\n",
              "      border-right-color: var(--fill-color);\n",
              "    }\n",
              "    80% {\n",
              "      border-color: transparent;\n",
              "      border-right-color: var(--fill-color);\n",
              "      border-bottom-color: var(--fill-color);\n",
              "    }\n",
              "    90% {\n",
              "      border-color: transparent;\n",
              "      border-bottom-color: var(--fill-color);\n",
              "    }\n",
              "  }\n",
              "</style>\n",
              "\n",
              "  <script>\n",
              "    async function quickchart(key) {\n",
              "      const quickchartButtonEl =\n",
              "        document.querySelector('#' + key + ' button');\n",
              "      quickchartButtonEl.disabled = true;  // To prevent multiple clicks.\n",
              "      quickchartButtonEl.classList.add('colab-df-spinner');\n",
              "      try {\n",
              "        const charts = await google.colab.kernel.invokeFunction(\n",
              "            'suggestCharts', [key], {});\n",
              "      } catch (error) {\n",
              "        console.error('Error during call to suggestCharts:', error);\n",
              "      }\n",
              "      quickchartButtonEl.classList.remove('colab-df-spinner');\n",
              "      quickchartButtonEl.classList.add('colab-df-quickchart-complete');\n",
              "    }\n",
              "    (() => {\n",
              "      let quickchartButtonEl =\n",
              "        document.querySelector('#df-606e711e-9126-40e2-a711-94c94e559ec6 button');\n",
              "      quickchartButtonEl.style.display =\n",
              "        google.colab.kernel.accessAllowed ? 'block' : 'none';\n",
              "    })();\n",
              "  </script>\n",
              "</div>\n",
              "\n",
              "    </div>\n",
              "  </div>\n"
            ],
            "application/vnd.google.colaboratory.intrinsic+json": {
              "type": "dataframe"
            }
          },
          "metadata": {},
          "execution_count": 375
        }
      ]
    },
    {
      "cell_type": "code",
      "source": [
        "output_csv_full.value = output_csv_full.value.fillna(0) #0 zamiast null/nan\n",
        "output_csv_full.value.info()"
      ],
      "metadata": {
        "colab": {
          "base_uri": "https://localhost:8080/"
        },
        "id": "hO7ooXTm1hpL",
        "outputId": "d92ba97c-fe0b-450b-c9aa-984ff3cef150"
      },
      "execution_count": 376,
      "outputs": [
        {
          "output_type": "stream",
          "name": "stdout",
          "text": [
            "<class 'pandas.core.series.Series'>\n",
            "Index: 2281595 entries, 0 to 2283082\n",
            "Series name: value\n",
            "Non-Null Count    Dtype  \n",
            "--------------    -----  \n",
            "2281595 non-null  float64\n",
            "dtypes: float64(1)\n",
            "memory usage: 34.8 MB\n"
          ]
        }
      ]
    },
    {
      "cell_type": "code",
      "source": [
        "output_csv_full['year'] = output_csv_full['time_ref'].astype(str).str[:4].astype(int)\n",
        "output_csv_full['month'] = output_csv_full['time_ref'].astype(str).str[4:6].astype(int)"
      ],
      "metadata": {
        "id": "_PvF3n1A1p3z"
      },
      "execution_count": 377,
      "outputs": []
    },
    {
      "cell_type": "code",
      "source": [
        "output_csv_full['date'] = pd.to_datetime(output_csv_full[['year', 'month']].assign(day=1))"
      ],
      "metadata": {
        "id": "YFnj3n8h1uJQ"
      },
      "execution_count": 378,
      "outputs": []
    },
    {
      "cell_type": "code",
      "source": [
        "try:\n",
        "  output_csv_full = output_csv_full.drop(columns=['time_ref', 'year', 'month'])\n",
        "except:\n",
        "  print('Columns already dropped')"
      ],
      "metadata": {
        "id": "QWlBoeLR31gR"
      },
      "execution_count": 379,
      "outputs": []
    },
    {
      "cell_type": "markdown",
      "source": [
        "Read and clean countries dictionary from csv:"
      ],
      "metadata": {
        "id": "0w_c_f7r46I2"
      }
    },
    {
      "cell_type": "code",
      "source": [
        "try:\n",
        "  country_classification = pd.read_csv('/content/international_trade_march/country_classification.csv', header=0)\n",
        "  print('File read successfully')\n",
        "except FileNotFoundError:\n",
        "  print('File not found.')"
      ],
      "metadata": {
        "colab": {
          "base_uri": "https://localhost:8080/"
        },
        "id": "9cj3HJeF4JnC",
        "outputId": "87cca8b3-b5db-454a-e7eb-e3aa48ab20f8"
      },
      "execution_count": 380,
      "outputs": [
        {
          "output_type": "stream",
          "name": "stdout",
          "text": [
            "File read successfully\n"
          ]
        }
      ]
    },
    {
      "cell_type": "code",
      "source": [
        "country_classification.country_code = country_classification.country_code.astype('category')\n",
        "country_classification.info(show_counts=True)"
      ],
      "metadata": {
        "colab": {
          "base_uri": "https://localhost:8080/"
        },
        "id": "MHM5Sb6r5hfm",
        "outputId": "e1dd156f-cf60-43d1-950b-a118efb40b33"
      },
      "execution_count": 381,
      "outputs": [
        {
          "output_type": "stream",
          "name": "stdout",
          "text": [
            "<class 'pandas.core.frame.DataFrame'>\n",
            "RangeIndex: 258 entries, 0 to 257\n",
            "Data columns (total 2 columns):\n",
            " #   Column         Non-Null Count  Dtype   \n",
            "---  ------         --------------  -----   \n",
            " 0   country_code   257 non-null    category\n",
            " 1   country_label  258 non-null    object  \n",
            "dtypes: category(1), object(1)\n",
            "memory usage: 12.8+ KB\n"
          ]
        }
      ]
    },
    {
      "cell_type": "markdown",
      "source": [
        "Merge and clean:"
      ],
      "metadata": {
        "id": "EWIlJ-q39H1w"
      }
    },
    {
      "cell_type": "code",
      "source": [
        "merged_data = output_csv_full.merge(country_classification, on='country_code', how='left')"
      ],
      "metadata": {
        "id": "WRhGFoNN6I5a"
      },
      "execution_count": 382,
      "outputs": []
    },
    {
      "cell_type": "code",
      "source": [
        "merged_data.drop(merged_data[merged_data.country_label.isna() == True].index, inplace=True) #usunięcie niespasowanych rekordów"
      ],
      "metadata": {
        "id": "z1vdKChR-MaC"
      },
      "execution_count": 383,
      "outputs": []
    },
    {
      "cell_type": "code",
      "source": [
        "merged_data = merged_data.reset_index(drop=True)"
      ],
      "metadata": {
        "id": "wgPu98bl-Z7r"
      },
      "execution_count": 384,
      "outputs": []
    },
    {
      "cell_type": "markdown",
      "source": [
        "Read and clean goods classification dictionary from csv:"
      ],
      "metadata": {
        "id": "vL8Hv1St_w1g"
      }
    },
    {
      "cell_type": "code",
      "source": [
        "try:\n",
        "  goods_classification = pd.read_csv('/content/international_trade_march/goods_classification.csv', header=0)\n",
        "  print('File read successfully')\n",
        "except FileNotFoundError:\n",
        "  print('File not found.')"
      ],
      "metadata": {
        "colab": {
          "base_uri": "https://localhost:8080/"
        },
        "id": "BpgxSr0s_nha",
        "outputId": "cc014da9-4880-4eec-b50d-090c7f5040ea"
      },
      "execution_count": 385,
      "outputs": [
        {
          "output_type": "stream",
          "name": "stdout",
          "text": [
            "File read successfully\n"
          ]
        }
      ]
    },
    {
      "cell_type": "markdown",
      "source": [
        "Read and clean services classification dictionary from csv:"
      ],
      "metadata": {
        "id": "VReT6UReAjAj"
      }
    },
    {
      "cell_type": "code",
      "source": [
        "try:\n",
        "  services_classification = pd.read_csv('/content/international_trade_march/services_classification.csv', header=0)\n",
        "  print('File read successfully')\n",
        "except FileNotFoundError:\n",
        "  print('File not found.')"
      ],
      "metadata": {
        "colab": {
          "base_uri": "https://localhost:8080/"
        },
        "id": "GU_e41V_Aie4",
        "outputId": "a490c1bc-beb9-4f91-c310-fab8d7a4aed3"
      },
      "execution_count": 386,
      "outputs": [
        {
          "output_type": "stream",
          "name": "stdout",
          "text": [
            "File read successfully\n"
          ]
        }
      ]
    },
    {
      "cell_type": "code",
      "source": [
        "services_classification.code = services_classification.code.astype('category')"
      ],
      "metadata": {
        "id": "3PKHUi4nAt5O"
      },
      "execution_count": 387,
      "outputs": []
    },
    {
      "cell_type": "markdown",
      "source": [
        "Merge:"
      ],
      "metadata": {
        "id": "UiWzubNeBILJ"
      }
    },
    {
      "cell_type": "code",
      "source": [
        "merged_data = merged_data.merge(services_classification, on='code', how='left')"
      ],
      "metadata": {
        "id": "ZMM79v83BHzG"
      },
      "execution_count": 388,
      "outputs": []
    },
    {
      "cell_type": "code",
      "source": [
        "merged_data.loc[merged_data.service_label.isna() == True, 'service_label'] = 'Unknown' #fill nulls with 'Unknown'"
      ],
      "metadata": {
        "id": "m65SLxQUBYjZ"
      },
      "execution_count": 389,
      "outputs": []
    },
    {
      "cell_type": "code",
      "source": [
        "merged_data.info(show_counts=True)"
      ],
      "metadata": {
        "colab": {
          "base_uri": "https://localhost:8080/"
        },
        "id": "ffQWG_TODA7Q",
        "outputId": "44bbc104-1c22-4740-a38a-2625e88e3626"
      },
      "execution_count": 390,
      "outputs": [
        {
          "output_type": "stream",
          "name": "stdout",
          "text": [
            "<class 'pandas.core.frame.DataFrame'>\n",
            "RangeIndex: 2281414 entries, 0 to 2281413\n",
            "Data columns (total 9 columns):\n",
            " #   Column         Non-Null Count    Dtype         \n",
            "---  ------         --------------    -----         \n",
            " 0   account        2281414 non-null  object        \n",
            " 1   code           2281414 non-null  object        \n",
            " 2   country_code   2281414 non-null  object        \n",
            " 3   product_type   2281414 non-null  category      \n",
            " 4   value          2281414 non-null  float64       \n",
            " 5   status         2281414 non-null  object        \n",
            " 6   date           2281414 non-null  datetime64[ns]\n",
            " 7   country_label  2281414 non-null  object        \n",
            " 8   service_label  2281414 non-null  object        \n",
            "dtypes: category(1), datetime64[ns](1), float64(1), object(6)\n",
            "memory usage: 141.4+ MB\n"
          ]
        }
      ]
    },
    {
      "cell_type": "code",
      "source": [
        "merged_data_exports = merged_data[merged_data['account'] == 'Exports']"
      ],
      "metadata": {
        "id": "BynK9aA-Opc4"
      },
      "execution_count": 391,
      "outputs": []
    },
    {
      "cell_type": "code",
      "source": [
        "merged_data_imports = merged_data[merged_data['account'] == 'Imports']"
      ],
      "metadata": {
        "id": "robRZyK7O88U"
      },
      "execution_count": 392,
      "outputs": []
    },
    {
      "cell_type": "markdown",
      "source": [
        "Create export/import analysis per every month"
      ],
      "metadata": {
        "id": "zx3j4YbyQgPE"
      }
    },
    {
      "cell_type": "code",
      "source": [
        "# merged_data.date.min() #Timestamp('2014-06-01 00:00:00')\n",
        "# merged_data.date.max() #Timestamp('2024-03-01 00:00:00')\n",
        "merged_data_exports_sum = merged_data_exports.groupby(['country_code','date'])['value'].sum().reset_index()\n",
        "merged_data_exports_sum = merged_data_exports_sum.rename(columns={'value': 'export_value'})\n",
        "merged_data_imports_sum = merged_data_imports.groupby(['country_code','date'])['value'].sum().reset_index()\n",
        "merged_data_imports_sum = merged_data_imports_sum.rename(columns={'value': 'import_value'})"
      ],
      "metadata": {
        "id": "px8AXhq1PHgm"
      },
      "execution_count": 393,
      "outputs": []
    },
    {
      "cell_type": "code",
      "source": [
        "start, stop = merged_data.date.min(), merged_data.date.max()\n",
        "canvas: pd.DataFrame =  pd.date_range(start, stop, freq=\"MS\") #tworzy kalendarz\n",
        "canvas = pd.DataFrame(canvas, columns=['date'])"
      ],
      "metadata": {
        "id": "LdaTPShVSaRG"
      },
      "execution_count": 394,
      "outputs": []
    },
    {
      "cell_type": "code",
      "source": [
        "data_with_export_sum = canvas.merge(merged_data_exports_sum, on=['date'], how='left')\n",
        "data_with_export_sum.export_value = data_with_export_sum.export_value.fillna(0)\n",
        "data_with_export_import_sum = data_with_export_sum.merge(merged_data_imports_sum, on=['country_code', 'date'], how='left')\n",
        "data_with_export_import_sum.import_value = data_with_export_import_sum.import_value.fillna(0)"
      ],
      "metadata": {
        "id": "SVI8TSoUTOxu"
      },
      "execution_count": 395,
      "outputs": []
    },
    {
      "cell_type": "code",
      "source": [
        "data_with_export_import_sum['income'] = data_with_export_import_sum.export_value - data_with_export_import_sum.import_value"
      ],
      "metadata": {
        "id": "FmnEU0g2U91G"
      },
      "execution_count": 396,
      "outputs": []
    },
    {
      "cell_type": "code",
      "source": [
        "data_with_export_import_sum[data_with_export_import_sum['country_code'] == 'AD']"
      ],
      "metadata": {
        "colab": {
          "base_uri": "https://localhost:8080/",
          "height": 1000
        },
        "collapsed": true,
        "id": "yvNbVFI6VxM2",
        "outputId": "d7418660-9c46-47b9-a06a-8660bdf5122f"
      },
      "execution_count": 400,
      "outputs": [
        {
          "output_type": "execute_result",
          "data": {
            "text/plain": [
              "           date country_code  export_value  import_value     income\n",
              "0    2014-06-01           AD      164198.0           0.0   164198.0\n",
              "235  2014-09-01           AD       44824.0         297.0    44527.0\n",
              "464  2014-12-01           AD      132750.0           0.0   132750.0\n",
              "698  2015-03-01           AD      519209.0      137400.0   381809.0\n",
              "929  2015-06-01           AD      211893.0       55404.0   156489.0\n",
              "1384 2015-12-01           AD      339128.0           0.0   339128.0\n",
              "1621 2016-03-01           AD      278828.0        5715.0   273113.0\n",
              "1849 2016-06-01           AD      644422.0       15366.0   629056.0\n",
              "2312 2016-12-01           AD      153236.0       20145.0   133091.0\n",
              "2546 2017-03-01           AD      220095.0      321937.0  -101842.0\n",
              "2776 2017-06-01           AD      173844.0       11319.0   162525.0\n",
              "3008 2017-09-01           AD      368052.0         429.0   367623.0\n",
              "3240 2017-12-01           AD      554877.0         414.0   554463.0\n",
              "3473 2018-03-01           AD     1071186.0      297769.0   773417.0\n",
              "3701 2018-06-01           AD     1950420.0        3750.0  1946670.0\n",
              "3932 2018-09-01           AD      444324.0      219020.0   225304.0\n",
              "4168 2018-12-01           AD      319510.0       34881.0   284629.0\n",
              "4410 2019-03-01           AD      796429.0      415959.0   380470.0\n",
              "4647 2019-06-01           AD      381334.0       84570.0   296764.0\n",
              "4887 2019-09-01           AD      479726.0       79635.0   400091.0\n",
              "5128 2019-12-01           AD      576797.0       27513.0   549284.0\n",
              "5368 2020-03-01           AD     1198722.0       36273.0  1162449.0\n",
              "5607 2020-06-01           AD      464716.0        4818.0   459898.0\n",
              "5832 2020-09-01           AD      778289.0           0.0   778289.0\n",
              "6059 2020-12-01           AD      465304.0           0.0   465304.0\n",
              "6289 2021-03-01           AD      594524.0        3756.0   590768.0\n",
              "6517 2021-06-01           AD      718672.0        8568.0   710104.0\n",
              "6747 2021-09-01           AD      464741.0      117133.0   347608.0\n",
              "6973 2021-12-01           AD      543344.0       21933.0   521411.0\n",
              "7433 2022-06-01           AD      171197.0       78235.0    92962.0\n",
              "7666 2022-09-01           AD      165109.0      268674.0  -103565.0\n",
              "7903 2022-12-01           AD      640576.0      174620.0   465956.0\n",
              "8149 2023-03-01           AD      631071.0      260955.0   370116.0\n",
              "8391 2023-06-01           AD      609276.0      312352.0   296924.0\n",
              "8638 2023-09-01           AD      254370.0      488040.0  -233670.0\n",
              "8883 2023-12-01           AD      665372.0      234154.0   431218.0\n",
              "9131 2024-03-01           AD      603848.0      175741.0   428107.0"
            ],
            "text/html": [
              "\n",
              "  <div id=\"df-6c12bb01-f222-43ed-829d-295df50b01fc\" class=\"colab-df-container\">\n",
              "    <div>\n",
              "<style scoped>\n",
              "    .dataframe tbody tr th:only-of-type {\n",
              "        vertical-align: middle;\n",
              "    }\n",
              "\n",
              "    .dataframe tbody tr th {\n",
              "        vertical-align: top;\n",
              "    }\n",
              "\n",
              "    .dataframe thead th {\n",
              "        text-align: right;\n",
              "    }\n",
              "</style>\n",
              "<table border=\"1\" class=\"dataframe\">\n",
              "  <thead>\n",
              "    <tr style=\"text-align: right;\">\n",
              "      <th></th>\n",
              "      <th>date</th>\n",
              "      <th>country_code</th>\n",
              "      <th>export_value</th>\n",
              "      <th>import_value</th>\n",
              "      <th>income</th>\n",
              "    </tr>\n",
              "  </thead>\n",
              "  <tbody>\n",
              "    <tr>\n",
              "      <th>0</th>\n",
              "      <td>2014-06-01</td>\n",
              "      <td>AD</td>\n",
              "      <td>164198.0</td>\n",
              "      <td>0.0</td>\n",
              "      <td>164198.0</td>\n",
              "    </tr>\n",
              "    <tr>\n",
              "      <th>235</th>\n",
              "      <td>2014-09-01</td>\n",
              "      <td>AD</td>\n",
              "      <td>44824.0</td>\n",
              "      <td>297.0</td>\n",
              "      <td>44527.0</td>\n",
              "    </tr>\n",
              "    <tr>\n",
              "      <th>464</th>\n",
              "      <td>2014-12-01</td>\n",
              "      <td>AD</td>\n",
              "      <td>132750.0</td>\n",
              "      <td>0.0</td>\n",
              "      <td>132750.0</td>\n",
              "    </tr>\n",
              "    <tr>\n",
              "      <th>698</th>\n",
              "      <td>2015-03-01</td>\n",
              "      <td>AD</td>\n",
              "      <td>519209.0</td>\n",
              "      <td>137400.0</td>\n",
              "      <td>381809.0</td>\n",
              "    </tr>\n",
              "    <tr>\n",
              "      <th>929</th>\n",
              "      <td>2015-06-01</td>\n",
              "      <td>AD</td>\n",
              "      <td>211893.0</td>\n",
              "      <td>55404.0</td>\n",
              "      <td>156489.0</td>\n",
              "    </tr>\n",
              "    <tr>\n",
              "      <th>1384</th>\n",
              "      <td>2015-12-01</td>\n",
              "      <td>AD</td>\n",
              "      <td>339128.0</td>\n",
              "      <td>0.0</td>\n",
              "      <td>339128.0</td>\n",
              "    </tr>\n",
              "    <tr>\n",
              "      <th>1621</th>\n",
              "      <td>2016-03-01</td>\n",
              "      <td>AD</td>\n",
              "      <td>278828.0</td>\n",
              "      <td>5715.0</td>\n",
              "      <td>273113.0</td>\n",
              "    </tr>\n",
              "    <tr>\n",
              "      <th>1849</th>\n",
              "      <td>2016-06-01</td>\n",
              "      <td>AD</td>\n",
              "      <td>644422.0</td>\n",
              "      <td>15366.0</td>\n",
              "      <td>629056.0</td>\n",
              "    </tr>\n",
              "    <tr>\n",
              "      <th>2312</th>\n",
              "      <td>2016-12-01</td>\n",
              "      <td>AD</td>\n",
              "      <td>153236.0</td>\n",
              "      <td>20145.0</td>\n",
              "      <td>133091.0</td>\n",
              "    </tr>\n",
              "    <tr>\n",
              "      <th>2546</th>\n",
              "      <td>2017-03-01</td>\n",
              "      <td>AD</td>\n",
              "      <td>220095.0</td>\n",
              "      <td>321937.0</td>\n",
              "      <td>-101842.0</td>\n",
              "    </tr>\n",
              "    <tr>\n",
              "      <th>2776</th>\n",
              "      <td>2017-06-01</td>\n",
              "      <td>AD</td>\n",
              "      <td>173844.0</td>\n",
              "      <td>11319.0</td>\n",
              "      <td>162525.0</td>\n",
              "    </tr>\n",
              "    <tr>\n",
              "      <th>3008</th>\n",
              "      <td>2017-09-01</td>\n",
              "      <td>AD</td>\n",
              "      <td>368052.0</td>\n",
              "      <td>429.0</td>\n",
              "      <td>367623.0</td>\n",
              "    </tr>\n",
              "    <tr>\n",
              "      <th>3240</th>\n",
              "      <td>2017-12-01</td>\n",
              "      <td>AD</td>\n",
              "      <td>554877.0</td>\n",
              "      <td>414.0</td>\n",
              "      <td>554463.0</td>\n",
              "    </tr>\n",
              "    <tr>\n",
              "      <th>3473</th>\n",
              "      <td>2018-03-01</td>\n",
              "      <td>AD</td>\n",
              "      <td>1071186.0</td>\n",
              "      <td>297769.0</td>\n",
              "      <td>773417.0</td>\n",
              "    </tr>\n",
              "    <tr>\n",
              "      <th>3701</th>\n",
              "      <td>2018-06-01</td>\n",
              "      <td>AD</td>\n",
              "      <td>1950420.0</td>\n",
              "      <td>3750.0</td>\n",
              "      <td>1946670.0</td>\n",
              "    </tr>\n",
              "    <tr>\n",
              "      <th>3932</th>\n",
              "      <td>2018-09-01</td>\n",
              "      <td>AD</td>\n",
              "      <td>444324.0</td>\n",
              "      <td>219020.0</td>\n",
              "      <td>225304.0</td>\n",
              "    </tr>\n",
              "    <tr>\n",
              "      <th>4168</th>\n",
              "      <td>2018-12-01</td>\n",
              "      <td>AD</td>\n",
              "      <td>319510.0</td>\n",
              "      <td>34881.0</td>\n",
              "      <td>284629.0</td>\n",
              "    </tr>\n",
              "    <tr>\n",
              "      <th>4410</th>\n",
              "      <td>2019-03-01</td>\n",
              "      <td>AD</td>\n",
              "      <td>796429.0</td>\n",
              "      <td>415959.0</td>\n",
              "      <td>380470.0</td>\n",
              "    </tr>\n",
              "    <tr>\n",
              "      <th>4647</th>\n",
              "      <td>2019-06-01</td>\n",
              "      <td>AD</td>\n",
              "      <td>381334.0</td>\n",
              "      <td>84570.0</td>\n",
              "      <td>296764.0</td>\n",
              "    </tr>\n",
              "    <tr>\n",
              "      <th>4887</th>\n",
              "      <td>2019-09-01</td>\n",
              "      <td>AD</td>\n",
              "      <td>479726.0</td>\n",
              "      <td>79635.0</td>\n",
              "      <td>400091.0</td>\n",
              "    </tr>\n",
              "    <tr>\n",
              "      <th>5128</th>\n",
              "      <td>2019-12-01</td>\n",
              "      <td>AD</td>\n",
              "      <td>576797.0</td>\n",
              "      <td>27513.0</td>\n",
              "      <td>549284.0</td>\n",
              "    </tr>\n",
              "    <tr>\n",
              "      <th>5368</th>\n",
              "      <td>2020-03-01</td>\n",
              "      <td>AD</td>\n",
              "      <td>1198722.0</td>\n",
              "      <td>36273.0</td>\n",
              "      <td>1162449.0</td>\n",
              "    </tr>\n",
              "    <tr>\n",
              "      <th>5607</th>\n",
              "      <td>2020-06-01</td>\n",
              "      <td>AD</td>\n",
              "      <td>464716.0</td>\n",
              "      <td>4818.0</td>\n",
              "      <td>459898.0</td>\n",
              "    </tr>\n",
              "    <tr>\n",
              "      <th>5832</th>\n",
              "      <td>2020-09-01</td>\n",
              "      <td>AD</td>\n",
              "      <td>778289.0</td>\n",
              "      <td>0.0</td>\n",
              "      <td>778289.0</td>\n",
              "    </tr>\n",
              "    <tr>\n",
              "      <th>6059</th>\n",
              "      <td>2020-12-01</td>\n",
              "      <td>AD</td>\n",
              "      <td>465304.0</td>\n",
              "      <td>0.0</td>\n",
              "      <td>465304.0</td>\n",
              "    </tr>\n",
              "    <tr>\n",
              "      <th>6289</th>\n",
              "      <td>2021-03-01</td>\n",
              "      <td>AD</td>\n",
              "      <td>594524.0</td>\n",
              "      <td>3756.0</td>\n",
              "      <td>590768.0</td>\n",
              "    </tr>\n",
              "    <tr>\n",
              "      <th>6517</th>\n",
              "      <td>2021-06-01</td>\n",
              "      <td>AD</td>\n",
              "      <td>718672.0</td>\n",
              "      <td>8568.0</td>\n",
              "      <td>710104.0</td>\n",
              "    </tr>\n",
              "    <tr>\n",
              "      <th>6747</th>\n",
              "      <td>2021-09-01</td>\n",
              "      <td>AD</td>\n",
              "      <td>464741.0</td>\n",
              "      <td>117133.0</td>\n",
              "      <td>347608.0</td>\n",
              "    </tr>\n",
              "    <tr>\n",
              "      <th>6973</th>\n",
              "      <td>2021-12-01</td>\n",
              "      <td>AD</td>\n",
              "      <td>543344.0</td>\n",
              "      <td>21933.0</td>\n",
              "      <td>521411.0</td>\n",
              "    </tr>\n",
              "    <tr>\n",
              "      <th>7433</th>\n",
              "      <td>2022-06-01</td>\n",
              "      <td>AD</td>\n",
              "      <td>171197.0</td>\n",
              "      <td>78235.0</td>\n",
              "      <td>92962.0</td>\n",
              "    </tr>\n",
              "    <tr>\n",
              "      <th>7666</th>\n",
              "      <td>2022-09-01</td>\n",
              "      <td>AD</td>\n",
              "      <td>165109.0</td>\n",
              "      <td>268674.0</td>\n",
              "      <td>-103565.0</td>\n",
              "    </tr>\n",
              "    <tr>\n",
              "      <th>7903</th>\n",
              "      <td>2022-12-01</td>\n",
              "      <td>AD</td>\n",
              "      <td>640576.0</td>\n",
              "      <td>174620.0</td>\n",
              "      <td>465956.0</td>\n",
              "    </tr>\n",
              "    <tr>\n",
              "      <th>8149</th>\n",
              "      <td>2023-03-01</td>\n",
              "      <td>AD</td>\n",
              "      <td>631071.0</td>\n",
              "      <td>260955.0</td>\n",
              "      <td>370116.0</td>\n",
              "    </tr>\n",
              "    <tr>\n",
              "      <th>8391</th>\n",
              "      <td>2023-06-01</td>\n",
              "      <td>AD</td>\n",
              "      <td>609276.0</td>\n",
              "      <td>312352.0</td>\n",
              "      <td>296924.0</td>\n",
              "    </tr>\n",
              "    <tr>\n",
              "      <th>8638</th>\n",
              "      <td>2023-09-01</td>\n",
              "      <td>AD</td>\n",
              "      <td>254370.0</td>\n",
              "      <td>488040.0</td>\n",
              "      <td>-233670.0</td>\n",
              "    </tr>\n",
              "    <tr>\n",
              "      <th>8883</th>\n",
              "      <td>2023-12-01</td>\n",
              "      <td>AD</td>\n",
              "      <td>665372.0</td>\n",
              "      <td>234154.0</td>\n",
              "      <td>431218.0</td>\n",
              "    </tr>\n",
              "    <tr>\n",
              "      <th>9131</th>\n",
              "      <td>2024-03-01</td>\n",
              "      <td>AD</td>\n",
              "      <td>603848.0</td>\n",
              "      <td>175741.0</td>\n",
              "      <td>428107.0</td>\n",
              "    </tr>\n",
              "  </tbody>\n",
              "</table>\n",
              "</div>\n",
              "    <div class=\"colab-df-buttons\">\n",
              "\n",
              "  <div class=\"colab-df-container\">\n",
              "    <button class=\"colab-df-convert\" onclick=\"convertToInteractive('df-6c12bb01-f222-43ed-829d-295df50b01fc')\"\n",
              "            title=\"Convert this dataframe to an interactive table.\"\n",
              "            style=\"display:none;\">\n",
              "\n",
              "  <svg xmlns=\"http://www.w3.org/2000/svg\" height=\"24px\" viewBox=\"0 -960 960 960\">\n",
              "    <path d=\"M120-120v-720h720v720H120Zm60-500h600v-160H180v160Zm220 220h160v-160H400v160Zm0 220h160v-160H400v160ZM180-400h160v-160H180v160Zm440 0h160v-160H620v160ZM180-180h160v-160H180v160Zm440 0h160v-160H620v160Z\"/>\n",
              "  </svg>\n",
              "    </button>\n",
              "\n",
              "  <style>\n",
              "    .colab-df-container {\n",
              "      display:flex;\n",
              "      gap: 12px;\n",
              "    }\n",
              "\n",
              "    .colab-df-convert {\n",
              "      background-color: #E8F0FE;\n",
              "      border: none;\n",
              "      border-radius: 50%;\n",
              "      cursor: pointer;\n",
              "      display: none;\n",
              "      fill: #1967D2;\n",
              "      height: 32px;\n",
              "      padding: 0 0 0 0;\n",
              "      width: 32px;\n",
              "    }\n",
              "\n",
              "    .colab-df-convert:hover {\n",
              "      background-color: #E2EBFA;\n",
              "      box-shadow: 0px 1px 2px rgba(60, 64, 67, 0.3), 0px 1px 3px 1px rgba(60, 64, 67, 0.15);\n",
              "      fill: #174EA6;\n",
              "    }\n",
              "\n",
              "    .colab-df-buttons div {\n",
              "      margin-bottom: 4px;\n",
              "    }\n",
              "\n",
              "    [theme=dark] .colab-df-convert {\n",
              "      background-color: #3B4455;\n",
              "      fill: #D2E3FC;\n",
              "    }\n",
              "\n",
              "    [theme=dark] .colab-df-convert:hover {\n",
              "      background-color: #434B5C;\n",
              "      box-shadow: 0px 1px 3px 1px rgba(0, 0, 0, 0.15);\n",
              "      filter: drop-shadow(0px 1px 2px rgba(0, 0, 0, 0.3));\n",
              "      fill: #FFFFFF;\n",
              "    }\n",
              "  </style>\n",
              "\n",
              "    <script>\n",
              "      const buttonEl =\n",
              "        document.querySelector('#df-6c12bb01-f222-43ed-829d-295df50b01fc button.colab-df-convert');\n",
              "      buttonEl.style.display =\n",
              "        google.colab.kernel.accessAllowed ? 'block' : 'none';\n",
              "\n",
              "      async function convertToInteractive(key) {\n",
              "        const element = document.querySelector('#df-6c12bb01-f222-43ed-829d-295df50b01fc');\n",
              "        const dataTable =\n",
              "          await google.colab.kernel.invokeFunction('convertToInteractive',\n",
              "                                                    [key], {});\n",
              "        if (!dataTable) return;\n",
              "\n",
              "        const docLinkHtml = 'Like what you see? Visit the ' +\n",
              "          '<a target=\"_blank\" href=https://colab.research.google.com/notebooks/data_table.ipynb>data table notebook</a>'\n",
              "          + ' to learn more about interactive tables.';\n",
              "        element.innerHTML = '';\n",
              "        dataTable['output_type'] = 'display_data';\n",
              "        await google.colab.output.renderOutput(dataTable, element);\n",
              "        const docLink = document.createElement('div');\n",
              "        docLink.innerHTML = docLinkHtml;\n",
              "        element.appendChild(docLink);\n",
              "      }\n",
              "    </script>\n",
              "  </div>\n",
              "\n",
              "\n",
              "<div id=\"df-de16955f-942a-4d11-b7b1-e4815f3d8346\">\n",
              "  <button class=\"colab-df-quickchart\" onclick=\"quickchart('df-de16955f-942a-4d11-b7b1-e4815f3d8346')\"\n",
              "            title=\"Suggest charts\"\n",
              "            style=\"display:none;\">\n",
              "\n",
              "<svg xmlns=\"http://www.w3.org/2000/svg\" height=\"24px\"viewBox=\"0 0 24 24\"\n",
              "     width=\"24px\">\n",
              "    <g>\n",
              "        <path d=\"M19 3H5c-1.1 0-2 .9-2 2v14c0 1.1.9 2 2 2h14c1.1 0 2-.9 2-2V5c0-1.1-.9-2-2-2zM9 17H7v-7h2v7zm4 0h-2V7h2v10zm4 0h-2v-4h2v4z\"/>\n",
              "    </g>\n",
              "</svg>\n",
              "  </button>\n",
              "\n",
              "<style>\n",
              "  .colab-df-quickchart {\n",
              "      --bg-color: #E8F0FE;\n",
              "      --fill-color: #1967D2;\n",
              "      --hover-bg-color: #E2EBFA;\n",
              "      --hover-fill-color: #174EA6;\n",
              "      --disabled-fill-color: #AAA;\n",
              "      --disabled-bg-color: #DDD;\n",
              "  }\n",
              "\n",
              "  [theme=dark] .colab-df-quickchart {\n",
              "      --bg-color: #3B4455;\n",
              "      --fill-color: #D2E3FC;\n",
              "      --hover-bg-color: #434B5C;\n",
              "      --hover-fill-color: #FFFFFF;\n",
              "      --disabled-bg-color: #3B4455;\n",
              "      --disabled-fill-color: #666;\n",
              "  }\n",
              "\n",
              "  .colab-df-quickchart {\n",
              "    background-color: var(--bg-color);\n",
              "    border: none;\n",
              "    border-radius: 50%;\n",
              "    cursor: pointer;\n",
              "    display: none;\n",
              "    fill: var(--fill-color);\n",
              "    height: 32px;\n",
              "    padding: 0;\n",
              "    width: 32px;\n",
              "  }\n",
              "\n",
              "  .colab-df-quickchart:hover {\n",
              "    background-color: var(--hover-bg-color);\n",
              "    box-shadow: 0 1px 2px rgba(60, 64, 67, 0.3), 0 1px 3px 1px rgba(60, 64, 67, 0.15);\n",
              "    fill: var(--button-hover-fill-color);\n",
              "  }\n",
              "\n",
              "  .colab-df-quickchart-complete:disabled,\n",
              "  .colab-df-quickchart-complete:disabled:hover {\n",
              "    background-color: var(--disabled-bg-color);\n",
              "    fill: var(--disabled-fill-color);\n",
              "    box-shadow: none;\n",
              "  }\n",
              "\n",
              "  .colab-df-spinner {\n",
              "    border: 2px solid var(--fill-color);\n",
              "    border-color: transparent;\n",
              "    border-bottom-color: var(--fill-color);\n",
              "    animation:\n",
              "      spin 1s steps(1) infinite;\n",
              "  }\n",
              "\n",
              "  @keyframes spin {\n",
              "    0% {\n",
              "      border-color: transparent;\n",
              "      border-bottom-color: var(--fill-color);\n",
              "      border-left-color: var(--fill-color);\n",
              "    }\n",
              "    20% {\n",
              "      border-color: transparent;\n",
              "      border-left-color: var(--fill-color);\n",
              "      border-top-color: var(--fill-color);\n",
              "    }\n",
              "    30% {\n",
              "      border-color: transparent;\n",
              "      border-left-color: var(--fill-color);\n",
              "      border-top-color: var(--fill-color);\n",
              "      border-right-color: var(--fill-color);\n",
              "    }\n",
              "    40% {\n",
              "      border-color: transparent;\n",
              "      border-right-color: var(--fill-color);\n",
              "      border-top-color: var(--fill-color);\n",
              "    }\n",
              "    60% {\n",
              "      border-color: transparent;\n",
              "      border-right-color: var(--fill-color);\n",
              "    }\n",
              "    80% {\n",
              "      border-color: transparent;\n",
              "      border-right-color: var(--fill-color);\n",
              "      border-bottom-color: var(--fill-color);\n",
              "    }\n",
              "    90% {\n",
              "      border-color: transparent;\n",
              "      border-bottom-color: var(--fill-color);\n",
              "    }\n",
              "  }\n",
              "</style>\n",
              "\n",
              "  <script>\n",
              "    async function quickchart(key) {\n",
              "      const quickchartButtonEl =\n",
              "        document.querySelector('#' + key + ' button');\n",
              "      quickchartButtonEl.disabled = true;  // To prevent multiple clicks.\n",
              "      quickchartButtonEl.classList.add('colab-df-spinner');\n",
              "      try {\n",
              "        const charts = await google.colab.kernel.invokeFunction(\n",
              "            'suggestCharts', [key], {});\n",
              "      } catch (error) {\n",
              "        console.error('Error during call to suggestCharts:', error);\n",
              "      }\n",
              "      quickchartButtonEl.classList.remove('colab-df-spinner');\n",
              "      quickchartButtonEl.classList.add('colab-df-quickchart-complete');\n",
              "    }\n",
              "    (() => {\n",
              "      let quickchartButtonEl =\n",
              "        document.querySelector('#df-de16955f-942a-4d11-b7b1-e4815f3d8346 button');\n",
              "      quickchartButtonEl.style.display =\n",
              "        google.colab.kernel.accessAllowed ? 'block' : 'none';\n",
              "    })();\n",
              "  </script>\n",
              "</div>\n",
              "\n",
              "    </div>\n",
              "  </div>\n"
            ],
            "application/vnd.google.colaboratory.intrinsic+json": {
              "type": "dataframe",
              "summary": "{\n  \"name\": \"data_with_export_import_sum[data_with_export_import_sum['country_code'] == 'AD']\",\n  \"rows\": 37,\n  \"fields\": [\n    {\n      \"column\": \"date\",\n      \"properties\": {\n        \"dtype\": \"date\",\n        \"min\": \"2014-06-01 00:00:00\",\n        \"max\": \"2024-03-01 00:00:00\",\n        \"num_unique_values\": 37,\n        \"samples\": [\n          \"2019-03-01 00:00:00\",\n          \"2018-03-01 00:00:00\",\n          \"2015-06-01 00:00:00\"\n        ],\n        \"semantic_type\": \"\",\n        \"description\": \"\"\n      }\n    },\n    {\n      \"column\": \"country_code\",\n      \"properties\": {\n        \"dtype\": \"category\",\n        \"num_unique_values\": 1,\n        \"samples\": [\n          \"AD\"\n        ],\n        \"semantic_type\": \"\",\n        \"description\": \"\"\n      }\n    },\n    {\n      \"column\": \"export_value\",\n      \"properties\": {\n        \"dtype\": \"number\",\n        \"std\": 354589.0832249716,\n        \"min\": 44824.0,\n        \"max\": 1950420.0,\n        \"num_unique_values\": 37,\n        \"samples\": [\n          796429.0\n        ],\n        \"semantic_type\": \"\",\n        \"description\": \"\"\n      }\n    },\n    {\n      \"column\": \"import_value\",\n      \"properties\": {\n        \"dtype\": \"number\",\n        \"std\": 134463.2364624322,\n        \"min\": 0.0,\n        \"max\": 488040.0,\n        \"num_unique_values\": 33,\n        \"samples\": [\n          234154.0\n        ],\n        \"semantic_type\": \"\",\n        \"description\": \"\"\n      }\n    },\n    {\n      \"column\": \"income\",\n      \"properties\": {\n        \"dtype\": \"number\",\n        \"std\": 374449.25069630065,\n        \"min\": -233670.0,\n        \"max\": 1946670.0,\n        \"num_unique_values\": 37,\n        \"samples\": [\n          380470.0\n        ],\n        \"semantic_type\": \"\",\n        \"description\": \"\"\n      }\n    }\n  ]\n}"
            }
          },
          "metadata": {},
          "execution_count": 400
        }
      ]
    },
    {
      "source": [
        "from matplotlib import pyplot as plt\n",
        "data_with_export_import_sum[data_with_export_import_sum['country_code'] == 'AD'].plot(kind='line',\n",
        "                                                                                      x='date',\n",
        "                                                                                      y='income',\n",
        "                                                                                      figsize=(10, 6),\n",
        "                                                                                      title='income',\n",
        "                                                                                      linestyle='dashdot')\n",
        "plt.gca().spines[['top', 'right']].set_visible(False)"
      ],
      "cell_type": "code",
      "metadata": {
        "colab": {
          "base_uri": "https://localhost:8080/",
          "height": 526
        },
        "id": "F77LFTIIWFIV",
        "outputId": "059f65f5-450b-48f8-8997-1dc4906c80d3"
      },
      "execution_count": 410,
      "outputs": [
        {
          "output_type": "display_data",
          "data": {
            "text/plain": [
              "<Figure size 1000x600 with 1 Axes>"
            ],
            "image/png": "[encoded data removed]"
          },
          "metadata": {}
        }
      ]
    },
    {
      "cell_type": "code",
      "source": [],
      "metadata": {
        "id": "XXsZv6_UW4pK"
      },
      "execution_count": 398,
      "outputs": []
    }
  ]
}