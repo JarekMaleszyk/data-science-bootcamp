{
  "nbformat": 4,
  "nbformat_minor": 0,
  "metadata": {
    "colab": {
      "provenance": [],
      "authorship_tag": "ABX9TyNOHplngmwk1foiJQe3DPWt",
      "include_colab_link": true
    },
    "kernelspec": {
      "name": "python3",
      "display_name": "Python 3"
    },
    "language_info": {
      "name": "python"
    }
  },
  "cells": [
    {
      "cell_type": "markdown",
      "metadata": {
        "id": "view-in-github",
        "colab_type": "text"
      },
      "source": [
        "<a href=\"https://colab.research.google.com/github/JarekMaleszyk/data-science-bootcamp/blob/master/basics.ipynb\" target=\"_parent\"><img src=\"https://colab.research.google.com/assets/colab-badge.svg\" alt=\"Open In Colab\"/></a>"
      ]
    },
    {
      "cell_type": "code",
      "source": [
        "!rm -rf \"/content/international_trade_march\"\n",
        "DIRECTORY='international_trade_march'\n",
        "import os\n",
        "if not os.path.exists(DIRECTORY):\n",
        "    os.makedirs(DIRECTORY)\n",
        "    print(f\"Directory '{DIRECTORY}' created successfully.\")"
      ],
      "metadata": {
        "id": "yPE-1uosA7-q",
        "colab": {
          "base_uri": "https://localhost:8080/"
        },
        "outputId": "6c1e49da-484c-48d7-be68-506dc8bf3d8c"
      },
      "execution_count": 166,
      "outputs": [
        {
          "output_type": "stream",
          "name": "stdout",
          "text": [
            "Directory 'international_trade_march' created successfully.\n"
          ]
        }
      ]
    },
    {
      "cell_type": "markdown",
      "source": [],
      "metadata": {
        "id": "rDcSwt_qCIm4"
      }
    },
    {
      "cell_type": "code",
      "source": [
        "import os\n",
        "ZIP_FILE_NAME = 'international-trade-march-2024-quarter.zip'\n",
        "if os.path.exists(ZIP_FILE_NAME):\n",
        "  os.remove(ZIP_FILE_NAME)\n",
        "else:\n",
        "  print(f\"The file {ZIP_FILE_NAME} does not exist\")\n",
        "\n",
        "!wget -P \"/content/international_trade_march\" \"https://www.stats.govt.nz/assets/Uploads/International-trade/International-trade-March-2024-quarter/Download-data/international-trade-march-2024-quarter.zip\""
      ],
      "metadata": {
        "colab": {
          "base_uri": "https://localhost:8080/"
        },
        "id": "YDIoaSXUBI75",
        "outputId": "fb768e3b-5c4c-43d9-da1c-58ad2c1b925e"
      },
      "execution_count": 167,
      "outputs": [
        {
          "output_type": "stream",
          "name": "stdout",
          "text": [
            "The file international-trade-march-2024-quarter.zip does not exist\n",
            "--2024-08-22 07:11:54--  https://www.stats.govt.nz/assets/Uploads/International-trade/International-trade-March-2024-quarter/Download-data/international-trade-march-2024-quarter.zip\n",
            "Resolving www.stats.govt.nz (www.stats.govt.nz)... 45.60.11.104\n",
            "Connecting to www.stats.govt.nz (www.stats.govt.nz)|45.60.11.104|:443... connected.\n",
            "HTTP request sent, awaiting response... 200 OK\n",
            "Length: 16398428 (16M) [application/zip]\n",
            "Saving to: ‘/content/international_trade_march/international-trade-march-2024-quarter.zip’\n",
            "\n",
            "international-trade 100%[===================>]  15.64M  --.-KB/s    in 0.1s    \n",
            "\n",
            "2024-08-22 07:11:55 (108 MB/s) - ‘/content/international_trade_march/international-trade-march-2024-quarter.zip’ saved [16398428/16398428]\n",
            "\n"
          ]
        }
      ]
    },
    {
      "cell_type": "code",
      "source": [
        "!unzip -o \"/content/international_trade_march/international-trade-march-2024-quarter.zip\" -d \"/content/international_trade_march\""
      ],
      "metadata": {
        "colab": {
          "base_uri": "https://localhost:8080/"
        },
        "id": "Q2IuIU8_Bw1R",
        "outputId": "fb1182f9-f801-4fcc-9b6b-6a3a82bd0cfd"
      },
      "execution_count": 168,
      "outputs": [
        {
          "output_type": "stream",
          "name": "stdout",
          "text": [
            "Archive:  /content/international_trade_march/international-trade-march-2024-quarter.zip\n",
            "  inflating: /content/international_trade_march/country_classification.csv  \n",
            "  inflating: /content/international_trade_march/goods_classification.csv  \n",
            "  inflating: /content/international_trade_march/output_csv_full.csv  \n",
            "  inflating: /content/international_trade_march/revised.csv  \n",
            "  inflating: /content/international_trade_march/services_classification.csv  \n"
          ]
        }
      ]
    },
    {
      "cell_type": "markdown",
      "source": [
        "Read and clean main data from csv:"
      ],
      "metadata": {
        "id": "qq1L5edp5JpV"
      }
    },
    {
      "cell_type": "code",
      "source": [
        "import pandas as pd\n",
        "try:\n",
        "  output_csv_full = pd.read_csv('/content/international_trade_march/output_csv_full.csv', header=0)\n",
        "  print('File read successfully')\n",
        "except FileNotFoundError:\n",
        "  print('File not found.')"
      ],
      "metadata": {
        "colab": {
          "base_uri": "https://localhost:8080/"
        },
        "collapsed": true,
        "id": "JH1BcOeFD3rM",
        "outputId": "fad30117-7674-4ea5-fd7f-ea6445ed1894"
      },
      "execution_count": 169,
      "outputs": [
        {
          "output_type": "stream",
          "name": "stdout",
          "text": [
            "File read successfully\n"
          ]
        }
      ]
    },
    {
      "cell_type": "code",
      "source": [
        "output_csv_full.product_type = output_csv_full.product_type.astype('category')\n",
        "# output_csv_full.product_type.cat.categories\n",
        "output_csv_full.country_code = output_csv_full.country_code.astype('category')\n",
        "# output_csv_full.country_code.cat.categories"
      ],
      "metadata": {
        "id": "_UqLWgR-GAZe"
      },
      "execution_count": 170,
      "outputs": []
    },
    {
      "cell_type": "code",
      "source": [
        "print(output_csv_full.head())"
      ],
      "metadata": {
        "colab": {
          "base_uri": "https://localhost:8080/"
        },
        "id": "nbqZ-kjYGDQ9",
        "outputId": "5a68efa8-e5eb-4741-ab96-0e43183a2a27"
      },
      "execution_count": 171,
      "outputs": [
        {
          "output_type": "stream",
          "name": "stdout",
          "text": [
            "   time_ref  account code country_code product_type        value status\n",
            "0    202403  Exports   00           AE        Goods  325056709.0      F\n",
            "1    202403  Exports   00           AG        Goods     860461.0      F\n",
            "2    202403  Exports   00           AI        Goods      39213.0      F\n",
            "3    202403  Exports   00           AL        Goods      79812.0      F\n",
            "4    202403  Exports   00           AM        Goods     814215.0      F\n"
          ]
        }
      ]
    },
    {
      "cell_type": "code",
      "source": [
        "# output_csv_full.loc[202403]\n",
        "# output_csv_full[(output_csv_full['time_ref'] == 202403) & (output_csv_full['product_type'] == 'Goods')][['time_ref', 'country_code', 'value']]\n",
        "duplicate_rows = output_csv_full.duplicated()\n",
        "print(\"Number of duplicate rows:\", duplicate_rows.sum())"
      ],
      "metadata": {
        "colab": {
          "base_uri": "https://localhost:8080/"
        },
        "id": "ZNizh2rsKVr3",
        "outputId": "a873208c-b0f8-41bf-abdb-c763669bf1b6"
      },
      "execution_count": 172,
      "outputs": [
        {
          "output_type": "stream",
          "name": "stdout",
          "text": [
            "Number of duplicate rows: 0\n"
          ]
        }
      ]
    },
    {
      "cell_type": "code",
      "source": [
        "# ?str.replace\n",
        "# output_csv_full['value'] = output_csv_full['value'].fillna(0, inplace=True)\n",
        "rows_with_nulls = output_csv_full.isna()\n",
        "print(\"Number of duplicate rows:\", rows_with_nulls.sum())"
      ],
      "metadata": {
        "id": "ackp_wbkK-ZZ",
        "colab": {
          "base_uri": "https://localhost:8080/"
        },
        "outputId": "903bae49-34db-4a84-b2a8-30503a76d4ab"
      },
      "execution_count": 173,
      "outputs": [
        {
          "output_type": "stream",
          "name": "stdout",
          "text": [
            "Number of duplicate rows: time_ref             0\n",
            "account              0\n",
            "code                 0\n",
            "country_code      1488\n",
            "product_type         0\n",
            "value           142195\n",
            "status               0\n",
            "dtype: int64\n"
          ]
        }
      ]
    },
    {
      "cell_type": "code",
      "source": [
        "# output_csv_full.sort_values(by=['value'], inplace=True, ascending=False)"
      ],
      "metadata": {
        "id": "SGwAYbtSqoBc"
      },
      "execution_count": 174,
      "outputs": []
    },
    {
      "cell_type": "code",
      "source": [
        "print(output_csv_full.country_code.isna().value_counts())"
      ],
      "metadata": {
        "colab": {
          "base_uri": "https://localhost:8080/"
        },
        "id": "Lj_9VJB1qxWu",
        "outputId": "5536bc87-3ea9-4731-86cf-7bc449cddc79"
      },
      "execution_count": 175,
      "outputs": [
        {
          "output_type": "stream",
          "name": "stdout",
          "text": [
            "country_code\n",
            "False    2281595\n",
            "True        1488\n",
            "Name: count, dtype: int64\n"
          ]
        }
      ]
    },
    {
      "cell_type": "code",
      "source": [
        "output_csv_full.dropna(subset=['country_code'], inplace=True) #drop wierszy z nullami w kolumnie country_code\n",
        "print(output_csv_full.country_code.isna().value_counts())"
      ],
      "metadata": {
        "colab": {
          "base_uri": "https://localhost:8080/"
        },
        "id": "Z7jUVhyGrDWe",
        "outputId": "3af70326-6eb9-485d-f7f9-02d2e88ed1e3"
      },
      "execution_count": 176,
      "outputs": [
        {
          "output_type": "stream",
          "name": "stdout",
          "text": [
            "country_code\n",
            "False    2281595\n",
            "Name: count, dtype: int64\n"
          ]
        }
      ]
    },
    {
      "cell_type": "code",
      "source": [
        "output_csv_full[output_csv_full.value.isna() == True]"
      ],
      "metadata": {
        "colab": {
          "base_uri": "https://localhost:8080/",
          "height": 423
        },
        "id": "MPRQuDI6yf3K",
        "outputId": "0af3cf5c-af4f-4212-c5cd-324e38571488"
      },
      "execution_count": 177,
      "outputs": [
        {
          "output_type": "execute_result",
          "data": {
            "text/plain": [
              "         time_ref  account    code country_code product_type  value status\n",
              "20084      202403  Exports     A12           AD     Services    NaN      C\n",
              "20085      202403  Exports     A12           AE     Services    NaN      C\n",
              "20100      202403  Exports     A12           BB     Services    NaN      C\n",
              "20116      202403  Exports     A12           BZ     Services    NaN      C\n",
              "20132      202403  Exports     A12           CY     Services    NaN      C\n",
              "...           ...      ...     ...          ...          ...    ...    ...\n",
              "2283012    201406  Imports  A12122           MX     Services    NaN      C\n",
              "2283034    201406  Imports  A12123           AE     Services    NaN      C\n",
              "2283039    201406  Imports  A12123           BB     Services    NaN      C\n",
              "2283054    201406  Imports  A12123           ID     Services    NaN      C\n",
              "2283061    201406  Imports  A12123           MX     Services    NaN      C\n",
              "\n",
              "[142195 rows x 7 columns]"
            ],
            "text/html": [
              "\n",
              "  <div id=\"df-819bd52d-c477-41b8-a1a5-5eaf87b5483c\" class=\"colab-df-container\">\n",
              "    <div>\n",
              "<style scoped>\n",
              "    .dataframe tbody tr th:only-of-type {\n",
              "        vertical-align: middle;\n",
              "    }\n",
              "\n",
              "    .dataframe tbody tr th {\n",
              "        vertical-align: top;\n",
              "    }\n",
              "\n",
              "    .dataframe thead th {\n",
              "        text-align: right;\n",
              "    }\n",
              "</style>\n",
              "<table border=\"1\" class=\"dataframe\">\n",
              "  <thead>\n",
              "    <tr style=\"text-align: right;\">\n",
              "      <th></th>\n",
              "      <th>time_ref</th>\n",
              "      <th>account</th>\n",
              "      <th>code</th>\n",
              "      <th>country_code</th>\n",
              "      <th>product_type</th>\n",
              "      <th>value</th>\n",
              "      <th>status</th>\n",
              "    </tr>\n",
              "  </thead>\n",
              "  <tbody>\n",
              "    <tr>\n",
              "      <th>20084</th>\n",
              "      <td>202403</td>\n",
              "      <td>Exports</td>\n",
              "      <td>A12</td>\n",
              "      <td>AD</td>\n",
              "      <td>Services</td>\n",
              "      <td>NaN</td>\n",
              "      <td>C</td>\n",
              "    </tr>\n",
              "    <tr>\n",
              "      <th>20085</th>\n",
              "      <td>202403</td>\n",
              "      <td>Exports</td>\n",
              "      <td>A12</td>\n",
              "      <td>AE</td>\n",
              "      <td>Services</td>\n",
              "      <td>NaN</td>\n",
              "      <td>C</td>\n",
              "    </tr>\n",
              "    <tr>\n",
              "      <th>20100</th>\n",
              "      <td>202403</td>\n",
              "      <td>Exports</td>\n",
              "      <td>A12</td>\n",
              "      <td>BB</td>\n",
              "      <td>Services</td>\n",
              "      <td>NaN</td>\n",
              "      <td>C</td>\n",
              "    </tr>\n",
              "    <tr>\n",
              "      <th>20116</th>\n",
              "      <td>202403</td>\n",
              "      <td>Exports</td>\n",
              "      <td>A12</td>\n",
              "      <td>BZ</td>\n",
              "      <td>Services</td>\n",
              "      <td>NaN</td>\n",
              "      <td>C</td>\n",
              "    </tr>\n",
              "    <tr>\n",
              "      <th>20132</th>\n",
              "      <td>202403</td>\n",
              "      <td>Exports</td>\n",
              "      <td>A12</td>\n",
              "      <td>CY</td>\n",
              "      <td>Services</td>\n",
              "      <td>NaN</td>\n",
              "      <td>C</td>\n",
              "    </tr>\n",
              "    <tr>\n",
              "      <th>...</th>\n",
              "      <td>...</td>\n",
              "      <td>...</td>\n",
              "      <td>...</td>\n",
              "      <td>...</td>\n",
              "      <td>...</td>\n",
              "      <td>...</td>\n",
              "      <td>...</td>\n",
              "    </tr>\n",
              "    <tr>\n",
              "      <th>2283012</th>\n",
              "      <td>201406</td>\n",
              "      <td>Imports</td>\n",
              "      <td>A12122</td>\n",
              "      <td>MX</td>\n",
              "      <td>Services</td>\n",
              "      <td>NaN</td>\n",
              "      <td>C</td>\n",
              "    </tr>\n",
              "    <tr>\n",
              "      <th>2283034</th>\n",
              "      <td>201406</td>\n",
              "      <td>Imports</td>\n",
              "      <td>A12123</td>\n",
              "      <td>AE</td>\n",
              "      <td>Services</td>\n",
              "      <td>NaN</td>\n",
              "      <td>C</td>\n",
              "    </tr>\n",
              "    <tr>\n",
              "      <th>2283039</th>\n",
              "      <td>201406</td>\n",
              "      <td>Imports</td>\n",
              "      <td>A12123</td>\n",
              "      <td>BB</td>\n",
              "      <td>Services</td>\n",
              "      <td>NaN</td>\n",
              "      <td>C</td>\n",
              "    </tr>\n",
              "    <tr>\n",
              "      <th>2283054</th>\n",
              "      <td>201406</td>\n",
              "      <td>Imports</td>\n",
              "      <td>A12123</td>\n",
              "      <td>ID</td>\n",
              "      <td>Services</td>\n",
              "      <td>NaN</td>\n",
              "      <td>C</td>\n",
              "    </tr>\n",
              "    <tr>\n",
              "      <th>2283061</th>\n",
              "      <td>201406</td>\n",
              "      <td>Imports</td>\n",
              "      <td>A12123</td>\n",
              "      <td>MX</td>\n",
              "      <td>Services</td>\n",
              "      <td>NaN</td>\n",
              "      <td>C</td>\n",
              "    </tr>\n",
              "  </tbody>\n",
              "</table>\n",
              "<p>142195 rows × 7 columns</p>\n",
              "</div>\n",
              "    <div class=\"colab-df-buttons\">\n",
              "\n",
              "  <div class=\"colab-df-container\">\n",
              "    <button class=\"colab-df-convert\" onclick=\"convertToInteractive('df-819bd52d-c477-41b8-a1a5-5eaf87b5483c')\"\n",
              "            title=\"Convert this dataframe to an interactive table.\"\n",
              "            style=\"display:none;\">\n",
              "\n",
              "  <svg xmlns=\"http://www.w3.org/2000/svg\" height=\"24px\" viewBox=\"0 -960 960 960\">\n",
              "    <path d=\"M120-120v-720h720v720H120Zm60-500h600v-160H180v160Zm220 220h160v-160H400v160Zm0 220h160v-160H400v160ZM180-400h160v-160H180v160Zm440 0h160v-160H620v160ZM180-180h160v-160H180v160Zm440 0h160v-160H620v160Z\"/>\n",
              "  </svg>\n",
              "    </button>\n",
              "\n",
              "  <style>\n",
              "    .colab-df-container {\n",
              "      display:flex;\n",
              "      gap: 12px;\n",
              "    }\n",
              "\n",
              "    .colab-df-convert {\n",
              "      background-color: #E8F0FE;\n",
              "      border: none;\n",
              "      border-radius: 50%;\n",
              "      cursor: pointer;\n",
              "      display: none;\n",
              "      fill: #1967D2;\n",
              "      height: 32px;\n",
              "      padding: 0 0 0 0;\n",
              "      width: 32px;\n",
              "    }\n",
              "\n",
              "    .colab-df-convert:hover {\n",
              "      background-color: #E2EBFA;\n",
              "      box-shadow: 0px 1px 2px rgba(60, 64, 67, 0.3), 0px 1px 3px 1px rgba(60, 64, 67, 0.15);\n",
              "      fill: #174EA6;\n",
              "    }\n",
              "\n",
              "    .colab-df-buttons div {\n",
              "      margin-bottom: 4px;\n",
              "    }\n",
              "\n",
              "    [theme=dark] .colab-df-convert {\n",
              "      background-color: #3B4455;\n",
              "      fill: #D2E3FC;\n",
              "    }\n",
              "\n",
              "    [theme=dark] .colab-df-convert:hover {\n",
              "      background-color: #434B5C;\n",
              "      box-shadow: 0px 1px 3px 1px rgba(0, 0, 0, 0.15);\n",
              "      filter: drop-shadow(0px 1px 2px rgba(0, 0, 0, 0.3));\n",
              "      fill: #FFFFFF;\n",
              "    }\n",
              "  </style>\n",
              "\n",
              "    <script>\n",
              "      const buttonEl =\n",
              "        document.querySelector('#df-819bd52d-c477-41b8-a1a5-5eaf87b5483c button.colab-df-convert');\n",
              "      buttonEl.style.display =\n",
              "        google.colab.kernel.accessAllowed ? 'block' : 'none';\n",
              "\n",
              "      async function convertToInteractive(key) {\n",
              "        const element = document.querySelector('#df-819bd52d-c477-41b8-a1a5-5eaf87b5483c');\n",
              "        const dataTable =\n",
              "          await google.colab.kernel.invokeFunction('convertToInteractive',\n",
              "                                                    [key], {});\n",
              "        if (!dataTable) return;\n",
              "\n",
              "        const docLinkHtml = 'Like what you see? Visit the ' +\n",
              "          '<a target=\"_blank\" href=https://colab.research.google.com/notebooks/data_table.ipynb>data table notebook</a>'\n",
              "          + ' to learn more about interactive tables.';\n",
              "        element.innerHTML = '';\n",
              "        dataTable['output_type'] = 'display_data';\n",
              "        await google.colab.output.renderOutput(dataTable, element);\n",
              "        const docLink = document.createElement('div');\n",
              "        docLink.innerHTML = docLinkHtml;\n",
              "        element.appendChild(docLink);\n",
              "      }\n",
              "    </script>\n",
              "  </div>\n",
              "\n",
              "\n",
              "<div id=\"df-b949d41d-8342-41d4-aebd-2f731ddf6939\">\n",
              "  <button class=\"colab-df-quickchart\" onclick=\"quickchart('df-b949d41d-8342-41d4-aebd-2f731ddf6939')\"\n",
              "            title=\"Suggest charts\"\n",
              "            style=\"display:none;\">\n",
              "\n",
              "<svg xmlns=\"http://www.w3.org/2000/svg\" height=\"24px\"viewBox=\"0 0 24 24\"\n",
              "     width=\"24px\">\n",
              "    <g>\n",
              "        <path d=\"M19 3H5c-1.1 0-2 .9-2 2v14c0 1.1.9 2 2 2h14c1.1 0 2-.9 2-2V5c0-1.1-.9-2-2-2zM9 17H7v-7h2v7zm4 0h-2V7h2v10zm4 0h-2v-4h2v4z\"/>\n",
              "    </g>\n",
              "</svg>\n",
              "  </button>\n",
              "\n",
              "<style>\n",
              "  .colab-df-quickchart {\n",
              "      --bg-color: #E8F0FE;\n",
              "      --fill-color: #1967D2;\n",
              "      --hover-bg-color: #E2EBFA;\n",
              "      --hover-fill-color: #174EA6;\n",
              "      --disabled-fill-color: #AAA;\n",
              "      --disabled-bg-color: #DDD;\n",
              "  }\n",
              "\n",
              "  [theme=dark] .colab-df-quickchart {\n",
              "      --bg-color: #3B4455;\n",
              "      --fill-color: #D2E3FC;\n",
              "      --hover-bg-color: #434B5C;\n",
              "      --hover-fill-color: #FFFFFF;\n",
              "      --disabled-bg-color: #3B4455;\n",
              "      --disabled-fill-color: #666;\n",
              "  }\n",
              "\n",
              "  .colab-df-quickchart {\n",
              "    background-color: var(--bg-color);\n",
              "    border: none;\n",
              "    border-radius: 50%;\n",
              "    cursor: pointer;\n",
              "    display: none;\n",
              "    fill: var(--fill-color);\n",
              "    height: 32px;\n",
              "    padding: 0;\n",
              "    width: 32px;\n",
              "  }\n",
              "\n",
              "  .colab-df-quickchart:hover {\n",
              "    background-color: var(--hover-bg-color);\n",
              "    box-shadow: 0 1px 2px rgba(60, 64, 67, 0.3), 0 1px 3px 1px rgba(60, 64, 67, 0.15);\n",
              "    fill: var(--button-hover-fill-color);\n",
              "  }\n",
              "\n",
              "  .colab-df-quickchart-complete:disabled,\n",
              "  .colab-df-quickchart-complete:disabled:hover {\n",
              "    background-color: var(--disabled-bg-color);\n",
              "    fill: var(--disabled-fill-color);\n",
              "    box-shadow: none;\n",
              "  }\n",
              "\n",
              "  .colab-df-spinner {\n",
              "    border: 2px solid var(--fill-color);\n",
              "    border-color: transparent;\n",
              "    border-bottom-color: var(--fill-color);\n",
              "    animation:\n",
              "      spin 1s steps(1) infinite;\n",
              "  }\n",
              "\n",
              "  @keyframes spin {\n",
              "    0% {\n",
              "      border-color: transparent;\n",
              "      border-bottom-color: var(--fill-color);\n",
              "      border-left-color: var(--fill-color);\n",
              "    }\n",
              "    20% {\n",
              "      border-color: transparent;\n",
              "      border-left-color: var(--fill-color);\n",
              "      border-top-color: var(--fill-color);\n",
              "    }\n",
              "    30% {\n",
              "      border-color: transparent;\n",
              "      border-left-color: var(--fill-color);\n",
              "      border-top-color: var(--fill-color);\n",
              "      border-right-color: var(--fill-color);\n",
              "    }\n",
              "    40% {\n",
              "      border-color: transparent;\n",
              "      border-right-color: var(--fill-color);\n",
              "      border-top-color: var(--fill-color);\n",
              "    }\n",
              "    60% {\n",
              "      border-color: transparent;\n",
              "      border-right-color: var(--fill-color);\n",
              "    }\n",
              "    80% {\n",
              "      border-color: transparent;\n",
              "      border-right-color: var(--fill-color);\n",
              "      border-bottom-color: var(--fill-color);\n",
              "    }\n",
              "    90% {\n",
              "      border-color: transparent;\n",
              "      border-bottom-color: var(--fill-color);\n",
              "    }\n",
              "  }\n",
              "</style>\n",
              "\n",
              "  <script>\n",
              "    async function quickchart(key) {\n",
              "      const quickchartButtonEl =\n",
              "        document.querySelector('#' + key + ' button');\n",
              "      quickchartButtonEl.disabled = true;  // To prevent multiple clicks.\n",
              "      quickchartButtonEl.classList.add('colab-df-spinner');\n",
              "      try {\n",
              "        const charts = await google.colab.kernel.invokeFunction(\n",
              "            'suggestCharts', [key], {});\n",
              "      } catch (error) {\n",
              "        console.error('Error during call to suggestCharts:', error);\n",
              "      }\n",
              "      quickchartButtonEl.classList.remove('colab-df-spinner');\n",
              "      quickchartButtonEl.classList.add('colab-df-quickchart-complete');\n",
              "    }\n",
              "    (() => {\n",
              "      let quickchartButtonEl =\n",
              "        document.querySelector('#df-b949d41d-8342-41d4-aebd-2f731ddf6939 button');\n",
              "      quickchartButtonEl.style.display =\n",
              "        google.colab.kernel.accessAllowed ? 'block' : 'none';\n",
              "    })();\n",
              "  </script>\n",
              "</div>\n",
              "\n",
              "    </div>\n",
              "  </div>\n"
            ],
            "application/vnd.google.colaboratory.intrinsic+json": {
              "type": "dataframe"
            }
          },
          "metadata": {},
          "execution_count": 177
        }
      ]
    },
    {
      "cell_type": "code",
      "source": [
        "output_csv_full.value = output_csv_full.value.fillna(0) #0 zamiast null/nan\n",
        "output_csv_full.value.info()"
      ],
      "metadata": {
        "colab": {
          "base_uri": "https://localhost:8080/"
        },
        "id": "hO7ooXTm1hpL",
        "outputId": "dcc12190-9108-416c-a24d-b1c8f97cb06b"
      },
      "execution_count": 178,
      "outputs": [
        {
          "output_type": "stream",
          "name": "stdout",
          "text": [
            "<class 'pandas.core.series.Series'>\n",
            "Index: 2281595 entries, 0 to 2283082\n",
            "Series name: value\n",
            "Non-Null Count    Dtype  \n",
            "--------------    -----  \n",
            "2281595 non-null  float64\n",
            "dtypes: float64(1)\n",
            "memory usage: 34.8 MB\n"
          ]
        }
      ]
    },
    {
      "cell_type": "code",
      "source": [
        "output_csv_full['year'] = output_csv_full['time_ref'].astype(str).str[:4].astype(int)\n",
        "output_csv_full['month'] = output_csv_full['time_ref'].astype(str).str[4:6].astype(int)"
      ],
      "metadata": {
        "id": "_PvF3n1A1p3z"
      },
      "execution_count": 179,
      "outputs": []
    },
    {
      "cell_type": "code",
      "source": [
        "output_csv_full['date'] = pd.to_datetime(output_csv_full[['year', 'month']].assign(day=1))"
      ],
      "metadata": {
        "id": "YFnj3n8h1uJQ"
      },
      "execution_count": 180,
      "outputs": []
    },
    {
      "cell_type": "code",
      "source": [
        "try:\n",
        "  output_csv_full = output_csv_full.drop(columns=['time_ref', 'year', 'month'])\n",
        "except:\n",
        "  print('Columns already dropped')"
      ],
      "metadata": {
        "id": "QWlBoeLR31gR"
      },
      "execution_count": 181,
      "outputs": []
    },
    {
      "cell_type": "markdown",
      "source": [
        "Read and clean countries dictionary from csv:"
      ],
      "metadata": {
        "id": "0w_c_f7r46I2"
      }
    },
    {
      "cell_type": "code",
      "source": [
        "try:\n",
        "  country_classification = pd.read_csv('/content/international_trade_march/country_classification.csv', header=0)\n",
        "  print('File read successfully')\n",
        "except FileNotFoundError:\n",
        "  print('File not found.')"
      ],
      "metadata": {
        "colab": {
          "base_uri": "https://localhost:8080/"
        },
        "id": "9cj3HJeF4JnC",
        "outputId": "63f54a60-7ab6-4779-f7a8-09ea61707101"
      },
      "execution_count": 182,
      "outputs": [
        {
          "output_type": "stream",
          "name": "stdout",
          "text": [
            "File read successfully\n"
          ]
        }
      ]
    },
    {
      "cell_type": "code",
      "source": [
        "country_classification.country_code = country_classification.country_code.astype('category')\n",
        "country_classification.info(show_counts=True)"
      ],
      "metadata": {
        "colab": {
          "base_uri": "https://localhost:8080/"
        },
        "id": "MHM5Sb6r5hfm",
        "outputId": "413ddd8d-bbde-44e8-c000-1de7dab41f31"
      },
      "execution_count": 183,
      "outputs": [
        {
          "output_type": "stream",
          "name": "stdout",
          "text": [
            "<class 'pandas.core.frame.DataFrame'>\n",
            "RangeIndex: 258 entries, 0 to 257\n",
            "Data columns (total 2 columns):\n",
            " #   Column         Non-Null Count  Dtype   \n",
            "---  ------         --------------  -----   \n",
            " 0   country_code   257 non-null    category\n",
            " 1   country_label  258 non-null    object  \n",
            "dtypes: category(1), object(1)\n",
            "memory usage: 12.8+ KB\n"
          ]
        }
      ]
    },
    {
      "cell_type": "code",
      "source": [],
      "metadata": {
        "id": "WRhGFoNN6I5a"
      },
      "execution_count": 183,
      "outputs": []
    }
  ]
}