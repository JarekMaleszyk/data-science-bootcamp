{
  "cells": [
    {
      "cell_type": "markdown",
      "metadata": {
        "colab_type": "text",
        "id": "view-in-github"
      },
      "source": [
        "<a href=\"https://colab.research.google.com/github/krakowiakpawel9/data-science-bootcamp/blob/master/02_analiza_danych/05_appstore_data.ipynb\" target=\"_parent\"><img src=\"https://colab.research.google.com/assets/colab-badge.svg\" alt=\"Open In Colab\"/></a>"
      ]
    },
    {
      "cell_type": "markdown",
      "metadata": {
        "colab_type": "text",
        "id": "cvIGG6UCInUA"
      },
      "source": [
        "* @author: krakowiakpawel9@gmail.com  \n",
        "* @site: e-smartdata.org"
      ]
    },
    {
      "cell_type": "markdown",
      "metadata": {
        "colab_type": "text",
        "id": "isO-0etiAexN"
      },
      "source": [
        "### Pandas\n",
        ">Strona biblioteki: [https://pandas.pydata.org/](https://pandas.pydata.org/)  \n",
        ">Dokumentacja: [https://pandas.pydata.org/pandas-docs/stable/](https://pandas.pydata.org/pandas-docs/stable/)\n",
        ">\n",
        ">Podstawowa biblioteka do analizy danych w języku Python.\n",
        ">\n",
        ">Aby zainstalować bibliotekę Pandas użyj polecenia poniżej:\n",
        "```\n",
        "pip install pandas\n",
        "```\n",
        "### Spis treści:\n",
        "1. [Import bibliotek](#a1)\n",
        "2. [Załadowanie danych](#a2)\n",
        "3. [Wstępne przygotowanie danych - preprocessing](#a3)\n",
        "4. [Jak zbadać rozkład zmiennej?](#a4)\n",
        "5. [Sprawdzenie braków w danych](#a5)\n",
        "\n",
        "\n",
        "\n"
      ]
    },
    {
      "cell_type": "markdown",
      "metadata": {
        "colab_type": "text",
        "id": "6LztYYcvAj_g"
      },
      "source": [
        "### <a name='a1'></a> Import bibliotek"
      ]
    },
    {
      "cell_type": "code",
      "execution_count": 6,
      "metadata": {
        "colab": {
          "base_uri": "https://localhost:8080/",
          "height": 34
        },
        "colab_type": "code",
        "id": "AEE5ZeP_mtQo",
        "outputId": "8438692e-5ad1-4ad0-8e71-98b8bbdabf7f"
      },
      "outputs": [
        {
          "data": {
            "text/plain": [
              "'2.2.1'"
            ]
          },
          "execution_count": 6,
          "metadata": {},
          "output_type": "execute_result"
        }
      ],
      "source": [
        "import pandas as pd\n",
        "pd.__version__"
      ]
    },
    {
      "cell_type": "markdown",
      "metadata": {
        "colab_type": "text",
        "id": "8pF9a2f9Ar9c"
      },
      "source": [
        "### <a name='a2'></a> Załadowanie danych"
      ]
    },
    {
      "cell_type": "code",
      "execution_count": 7,
      "metadata": {
        "colab": {
          "base_uri": "https://localhost:8080/",
          "height": 617
        },
        "colab_type": "code",
        "id": "QXTKk0xd193L",
        "outputId": "36cc7e15-3189-43a3-ff14-6b048b842d2b"
      },
      "outputs": [
        {
          "data": {
            "text/html": [
              "<div>\n",
              "<style scoped>\n",
              "    .dataframe tbody tr th:only-of-type {\n",
              "        vertical-align: middle;\n",
              "    }\n",
              "\n",
              "    .dataframe tbody tr th {\n",
              "        vertical-align: top;\n",
              "    }\n",
              "\n",
              "    .dataframe thead th {\n",
              "        text-align: right;\n",
              "    }\n",
              "</style>\n",
              "<table border=\"1\" class=\"dataframe\">\n",
              "  <thead>\n",
              "    <tr style=\"text-align: right;\">\n",
              "      <th></th>\n",
              "      <th>URL</th>\n",
              "      <th>ID</th>\n",
              "      <th>Name</th>\n",
              "      <th>Subtitle</th>\n",
              "      <th>Icon URL</th>\n",
              "      <th>Average User Rating</th>\n",
              "      <th>User Rating Count</th>\n",
              "      <th>Price</th>\n",
              "      <th>In-app Purchases</th>\n",
              "      <th>Description</th>\n",
              "      <th>Developer</th>\n",
              "      <th>Age Rating</th>\n",
              "      <th>Languages</th>\n",
              "      <th>Size</th>\n",
              "      <th>Primary Genre</th>\n",
              "      <th>Genres</th>\n",
              "      <th>Original Release Date</th>\n",
              "      <th>Current Version Release Date</th>\n",
              "    </tr>\n",
              "  </thead>\n",
              "  <tbody>\n",
              "    <tr>\n",
              "      <th>0</th>\n",
              "      <td>https://apps.apple.com/us/app/sudoku/id284921427</td>\n",
              "      <td>284921427</td>\n",
              "      <td>Sudoku</td>\n",
              "      <td>NaN</td>\n",
              "      <td>https://is2-ssl.mzstatic.com/image/thumb/Purpl...</td>\n",
              "      <td>4.0</td>\n",
              "      <td>3553.0</td>\n",
              "      <td>2.99</td>\n",
              "      <td>NaN</td>\n",
              "      <td>Join over 21,000,000 of our fans and download ...</td>\n",
              "      <td>Mighty Mighty Good Games</td>\n",
              "      <td>4+</td>\n",
              "      <td>DA, NL, EN, FI, FR, DE, IT, JA, KO, NB, PL, PT...</td>\n",
              "      <td>15853568.0</td>\n",
              "      <td>Games</td>\n",
              "      <td>Games, Strategy, Puzzle</td>\n",
              "      <td>11/07/2008</td>\n",
              "      <td>30/05/2017</td>\n",
              "    </tr>\n",
              "    <tr>\n",
              "      <th>1</th>\n",
              "      <td>https://apps.apple.com/us/app/reversi/id284926400</td>\n",
              "      <td>284926400</td>\n",
              "      <td>Reversi</td>\n",
              "      <td>NaN</td>\n",
              "      <td>https://is4-ssl.mzstatic.com/image/thumb/Purpl...</td>\n",
              "      <td>3.5</td>\n",
              "      <td>284.0</td>\n",
              "      <td>1.99</td>\n",
              "      <td>NaN</td>\n",
              "      <td>The classic game of Reversi, also known as Oth...</td>\n",
              "      <td>Kiss The Machine</td>\n",
              "      <td>4+</td>\n",
              "      <td>EN</td>\n",
              "      <td>12328960.0</td>\n",
              "      <td>Games</td>\n",
              "      <td>Games, Strategy, Board</td>\n",
              "      <td>11/07/2008</td>\n",
              "      <td>17/05/2018</td>\n",
              "    </tr>\n",
              "    <tr>\n",
              "      <th>2</th>\n",
              "      <td>https://apps.apple.com/us/app/morocco/id284946595</td>\n",
              "      <td>284946595</td>\n",
              "      <td>Morocco</td>\n",
              "      <td>NaN</td>\n",
              "      <td>https://is5-ssl.mzstatic.com/image/thumb/Purpl...</td>\n",
              "      <td>3.0</td>\n",
              "      <td>8376.0</td>\n",
              "      <td>0.00</td>\n",
              "      <td>NaN</td>\n",
              "      <td>Play the classic strategy game Othello (also k...</td>\n",
              "      <td>Bayou Games</td>\n",
              "      <td>4+</td>\n",
              "      <td>EN</td>\n",
              "      <td>674816.0</td>\n",
              "      <td>Games</td>\n",
              "      <td>Games, Board, Strategy</td>\n",
              "      <td>11/07/2008</td>\n",
              "      <td>5/09/2017</td>\n",
              "    </tr>\n",
              "    <tr>\n",
              "      <th>3</th>\n",
              "      <td>https://apps.apple.com/us/app/sudoku-free/id28...</td>\n",
              "      <td>285755462</td>\n",
              "      <td>Sudoku (Free)</td>\n",
              "      <td>NaN</td>\n",
              "      <td>https://is3-ssl.mzstatic.com/image/thumb/Purpl...</td>\n",
              "      <td>3.5</td>\n",
              "      <td>190394.0</td>\n",
              "      <td>0.00</td>\n",
              "      <td>NaN</td>\n",
              "      <td>Top 100 free app for over a year.\\nRated \"Best...</td>\n",
              "      <td>Mighty Mighty Good Games</td>\n",
              "      <td>4+</td>\n",
              "      <td>DA, NL, EN, FI, FR, DE, IT, JA, KO, NB, PL, PT...</td>\n",
              "      <td>21552128.0</td>\n",
              "      <td>Games</td>\n",
              "      <td>Games, Strategy, Puzzle</td>\n",
              "      <td>23/07/2008</td>\n",
              "      <td>30/05/2017</td>\n",
              "    </tr>\n",
              "    <tr>\n",
              "      <th>4</th>\n",
              "      <td>https://apps.apple.com/us/app/senet-deluxe/id2...</td>\n",
              "      <td>285831220</td>\n",
              "      <td>Senet Deluxe</td>\n",
              "      <td>NaN</td>\n",
              "      <td>https://is1-ssl.mzstatic.com/image/thumb/Purpl...</td>\n",
              "      <td>3.5</td>\n",
              "      <td>28.0</td>\n",
              "      <td>2.99</td>\n",
              "      <td>NaN</td>\n",
              "      <td>\"Senet Deluxe - The Ancient Game of Life and A...</td>\n",
              "      <td>RoGame Software</td>\n",
              "      <td>4+</td>\n",
              "      <td>DA, NL, EN, FR, DE, EL, IT, JA, KO, NO, PT, RU...</td>\n",
              "      <td>34689024.0</td>\n",
              "      <td>Games</td>\n",
              "      <td>Games, Strategy, Board, Education</td>\n",
              "      <td>18/07/2008</td>\n",
              "      <td>22/07/2018</td>\n",
              "    </tr>\n",
              "  </tbody>\n",
              "</table>\n",
              "</div>"
            ],
            "text/plain": [
              "                                                 URL         ID  \\\n",
              "0   https://apps.apple.com/us/app/sudoku/id284921427  284921427   \n",
              "1  https://apps.apple.com/us/app/reversi/id284926400  284926400   \n",
              "2  https://apps.apple.com/us/app/morocco/id284946595  284946595   \n",
              "3  https://apps.apple.com/us/app/sudoku-free/id28...  285755462   \n",
              "4  https://apps.apple.com/us/app/senet-deluxe/id2...  285831220   \n",
              "\n",
              "            Name Subtitle                                           Icon URL  \\\n",
              "0         Sudoku      NaN  https://is2-ssl.mzstatic.com/image/thumb/Purpl...   \n",
              "1        Reversi      NaN  https://is4-ssl.mzstatic.com/image/thumb/Purpl...   \n",
              "2        Morocco      NaN  https://is5-ssl.mzstatic.com/image/thumb/Purpl...   \n",
              "3  Sudoku (Free)      NaN  https://is3-ssl.mzstatic.com/image/thumb/Purpl...   \n",
              "4   Senet Deluxe      NaN  https://is1-ssl.mzstatic.com/image/thumb/Purpl...   \n",
              "\n",
              "   Average User Rating  User Rating Count  Price In-app Purchases  \\\n",
              "0                  4.0             3553.0   2.99              NaN   \n",
              "1                  3.5              284.0   1.99              NaN   \n",
              "2                  3.0             8376.0   0.00              NaN   \n",
              "3                  3.5           190394.0   0.00              NaN   \n",
              "4                  3.5               28.0   2.99              NaN   \n",
              "\n",
              "                                         Description  \\\n",
              "0  Join over 21,000,000 of our fans and download ...   \n",
              "1  The classic game of Reversi, also known as Oth...   \n",
              "2  Play the classic strategy game Othello (also k...   \n",
              "3  Top 100 free app for over a year.\\nRated \"Best...   \n",
              "4  \"Senet Deluxe - The Ancient Game of Life and A...   \n",
              "\n",
              "                  Developer Age Rating  \\\n",
              "0  Mighty Mighty Good Games         4+   \n",
              "1          Kiss The Machine         4+   \n",
              "2               Bayou Games         4+   \n",
              "3  Mighty Mighty Good Games         4+   \n",
              "4           RoGame Software         4+   \n",
              "\n",
              "                                           Languages        Size  \\\n",
              "0  DA, NL, EN, FI, FR, DE, IT, JA, KO, NB, PL, PT...  15853568.0   \n",
              "1                                                 EN  12328960.0   \n",
              "2                                                 EN    674816.0   \n",
              "3  DA, NL, EN, FI, FR, DE, IT, JA, KO, NB, PL, PT...  21552128.0   \n",
              "4  DA, NL, EN, FR, DE, EL, IT, JA, KO, NO, PT, RU...  34689024.0   \n",
              "\n",
              "  Primary Genre                             Genres Original Release Date  \\\n",
              "0         Games            Games, Strategy, Puzzle            11/07/2008   \n",
              "1         Games             Games, Strategy, Board            11/07/2008   \n",
              "2         Games             Games, Board, Strategy            11/07/2008   \n",
              "3         Games            Games, Strategy, Puzzle            23/07/2008   \n",
              "4         Games  Games, Strategy, Board, Education            18/07/2008   \n",
              "\n",
              "  Current Version Release Date  \n",
              "0                   30/05/2017  \n",
              "1                   17/05/2018  \n",
              "2                    5/09/2017  \n",
              "3                   30/05/2017  \n",
              "4                   22/07/2018  "
            ]
          },
          "execution_count": 7,
          "metadata": {},
          "output_type": "execute_result"
        }
      ],
      "source": [
        "url = 'https://storage.googleapis.com/esmartdata-courses-files/ds-bootcamp/appstore_games.csv'\n",
        "df_raw = pd.read_csv(url) #csv z url\n",
        "df_raw.head()"
      ]
    },
    {
      "cell_type": "markdown",
      "metadata": {
        "colab_type": "text",
        "id": "-CnbZkJ-Boqt"
      },
      "source": [
        "###  <a name='a3'></a> Wstępne przygotowanie danych - preprocessing"
      ]
    },
    {
      "cell_type": "code",
      "execution_count": 8,
      "metadata": {
        "colab": {
          "base_uri": "https://localhost:8080/",
          "height": 103
        },
        "colab_type": "code",
        "id": "RpwQ4TWTOBKD",
        "outputId": "396429cd-91b5-48c1-9d7d-1b291d6874fb"
      },
      "outputs": [
        {
          "data": {
            "text/plain": [
              "Index(['URL', 'ID', 'Name', 'Subtitle', 'Icon URL', 'Average User Rating',\n",
              "       'User Rating Count', 'Price', 'In-app Purchases', 'Description',\n",
              "       'Developer', 'Age Rating', 'Languages', 'Size', 'Primary Genre',\n",
              "       'Genres', 'Original Release Date', 'Current Version Release Date'],\n",
              "      dtype='object')"
            ]
          },
          "execution_count": 8,
          "metadata": {},
          "output_type": "execute_result"
        }
      ],
      "source": [
        "df_raw.columns"
      ]
    },
    {
      "cell_type": "code",
      "execution_count": 44,
      "metadata": {
        "colab": {
          "base_uri": "https://localhost:8080/",
          "height": 411
        },
        "colab_type": "code",
        "id": "DMHO-uPfOFjB",
        "outputId": "57377b49-061a-4cf9-8b9d-bbe29b569113"
      },
      "outputs": [
        {
          "name": "stdout",
          "output_type": "stream",
          "text": [
            "<class 'pandas.core.frame.DataFrame'>\n",
            "RangeIndex: 17007 entries, 0 to 17006\n",
            "Data columns (total 18 columns):\n",
            " #   Column                        Non-Null Count  Dtype  \n",
            "---  ------                        --------------  -----  \n",
            " 0   URL                           17007 non-null  object \n",
            " 1   ID                            17007 non-null  int64  \n",
            " 2   Name                          17007 non-null  object \n",
            " 3   Subtitle                      5261 non-null   object \n",
            " 4   Icon URL                      17007 non-null  object \n",
            " 5   Average User Rating           7561 non-null   float64\n",
            " 6   User Rating Count             7561 non-null   float64\n",
            " 7   Price                         16983 non-null  float64\n",
            " 8   In-app Purchases              7683 non-null   object \n",
            " 9   Description                   17007 non-null  object \n",
            " 10  Developer                     17007 non-null  object \n",
            " 11  Age Rating                    17007 non-null  object \n",
            " 12  Languages                     16947 non-null  object \n",
            " 13  Size                          17006 non-null  float64\n",
            " 14  Primary Genre                 17007 non-null  object \n",
            " 15  Genres                        17007 non-null  object \n",
            " 16  Original Release Date         17007 non-null  object \n",
            " 17  Current Version Release Date  17007 non-null  object \n",
            "dtypes: float64(4), int64(1), object(13)\n",
            "memory usage: 2.3+ MB\n"
          ]
        },
        {
          "data": {
            "text/plain": [
              "17007"
            ]
          },
          "execution_count": 44,
          "metadata": {},
          "output_type": "execute_result"
        }
      ],
      "source": [
        "df = df_raw.copy()\n",
        "df.info()\n",
        "df.URL.count()"
      ]
    },
    {
      "cell_type": "code",
      "execution_count": 10,
      "metadata": {
        "colab": {
          "base_uri": "https://localhost:8080/",
          "height": 548
        },
        "colab_type": "code",
        "id": "dvMsj5oyOaaP",
        "outputId": "fbc28528-3990-454f-d7da-731faa435384"
      },
      "outputs": [
        {
          "data": {
            "text/html": [
              "<div>\n",
              "<style scoped>\n",
              "    .dataframe tbody tr th:only-of-type {\n",
              "        vertical-align: middle;\n",
              "    }\n",
              "\n",
              "    .dataframe tbody tr th {\n",
              "        vertical-align: top;\n",
              "    }\n",
              "\n",
              "    .dataframe thead th {\n",
              "        text-align: right;\n",
              "    }\n",
              "</style>\n",
              "<table border=\"1\" class=\"dataframe\">\n",
              "  <thead>\n",
              "    <tr style=\"text-align: right;\">\n",
              "      <th></th>\n",
              "      <th>ID</th>\n",
              "      <th>Name</th>\n",
              "      <th>Average User Rating</th>\n",
              "      <th>User Rating Count</th>\n",
              "      <th>Price</th>\n",
              "      <th>Developer</th>\n",
              "      <th>Age Rating</th>\n",
              "      <th>Languages</th>\n",
              "      <th>Size</th>\n",
              "      <th>Primary Genre</th>\n",
              "      <th>Genres</th>\n",
              "      <th>Original Release Date</th>\n",
              "      <th>Current Version Release Date</th>\n",
              "    </tr>\n",
              "  </thead>\n",
              "  <tbody>\n",
              "    <tr>\n",
              "      <th>0</th>\n",
              "      <td>284921427</td>\n",
              "      <td>Sudoku</td>\n",
              "      <td>4.0</td>\n",
              "      <td>3553.0</td>\n",
              "      <td>2.99</td>\n",
              "      <td>Mighty Mighty Good Games</td>\n",
              "      <td>4+</td>\n",
              "      <td>DA, NL, EN, FI, FR, DE, IT, JA, KO, NB, PL, PT...</td>\n",
              "      <td>15853568.0</td>\n",
              "      <td>Games</td>\n",
              "      <td>Games, Strategy, Puzzle</td>\n",
              "      <td>11/07/2008</td>\n",
              "      <td>30/05/2017</td>\n",
              "    </tr>\n",
              "    <tr>\n",
              "      <th>1</th>\n",
              "      <td>284926400</td>\n",
              "      <td>Reversi</td>\n",
              "      <td>3.5</td>\n",
              "      <td>284.0</td>\n",
              "      <td>1.99</td>\n",
              "      <td>Kiss The Machine</td>\n",
              "      <td>4+</td>\n",
              "      <td>EN</td>\n",
              "      <td>12328960.0</td>\n",
              "      <td>Games</td>\n",
              "      <td>Games, Strategy, Board</td>\n",
              "      <td>11/07/2008</td>\n",
              "      <td>17/05/2018</td>\n",
              "    </tr>\n",
              "    <tr>\n",
              "      <th>2</th>\n",
              "      <td>284946595</td>\n",
              "      <td>Morocco</td>\n",
              "      <td>3.0</td>\n",
              "      <td>8376.0</td>\n",
              "      <td>0.00</td>\n",
              "      <td>Bayou Games</td>\n",
              "      <td>4+</td>\n",
              "      <td>EN</td>\n",
              "      <td>674816.0</td>\n",
              "      <td>Games</td>\n",
              "      <td>Games, Board, Strategy</td>\n",
              "      <td>11/07/2008</td>\n",
              "      <td>5/09/2017</td>\n",
              "    </tr>\n",
              "    <tr>\n",
              "      <th>3</th>\n",
              "      <td>285755462</td>\n",
              "      <td>Sudoku (Free)</td>\n",
              "      <td>3.5</td>\n",
              "      <td>190394.0</td>\n",
              "      <td>0.00</td>\n",
              "      <td>Mighty Mighty Good Games</td>\n",
              "      <td>4+</td>\n",
              "      <td>DA, NL, EN, FI, FR, DE, IT, JA, KO, NB, PL, PT...</td>\n",
              "      <td>21552128.0</td>\n",
              "      <td>Games</td>\n",
              "      <td>Games, Strategy, Puzzle</td>\n",
              "      <td>23/07/2008</td>\n",
              "      <td>30/05/2017</td>\n",
              "    </tr>\n",
              "    <tr>\n",
              "      <th>4</th>\n",
              "      <td>285831220</td>\n",
              "      <td>Senet Deluxe</td>\n",
              "      <td>3.5</td>\n",
              "      <td>28.0</td>\n",
              "      <td>2.99</td>\n",
              "      <td>RoGame Software</td>\n",
              "      <td>4+</td>\n",
              "      <td>DA, NL, EN, FR, DE, EL, IT, JA, KO, NO, PT, RU...</td>\n",
              "      <td>34689024.0</td>\n",
              "      <td>Games</td>\n",
              "      <td>Games, Strategy, Board, Education</td>\n",
              "      <td>18/07/2008</td>\n",
              "      <td>22/07/2018</td>\n",
              "    </tr>\n",
              "  </tbody>\n",
              "</table>\n",
              "</div>"
            ],
            "text/plain": [
              "          ID           Name  Average User Rating  User Rating Count  Price  \\\n",
              "0  284921427         Sudoku                  4.0             3553.0   2.99   \n",
              "1  284926400        Reversi                  3.5              284.0   1.99   \n",
              "2  284946595        Morocco                  3.0             8376.0   0.00   \n",
              "3  285755462  Sudoku (Free)                  3.5           190394.0   0.00   \n",
              "4  285831220   Senet Deluxe                  3.5               28.0   2.99   \n",
              "\n",
              "                  Developer Age Rating  \\\n",
              "0  Mighty Mighty Good Games         4+   \n",
              "1          Kiss The Machine         4+   \n",
              "2               Bayou Games         4+   \n",
              "3  Mighty Mighty Good Games         4+   \n",
              "4           RoGame Software         4+   \n",
              "\n",
              "                                           Languages        Size  \\\n",
              "0  DA, NL, EN, FI, FR, DE, IT, JA, KO, NB, PL, PT...  15853568.0   \n",
              "1                                                 EN  12328960.0   \n",
              "2                                                 EN    674816.0   \n",
              "3  DA, NL, EN, FI, FR, DE, IT, JA, KO, NB, PL, PT...  21552128.0   \n",
              "4  DA, NL, EN, FR, DE, EL, IT, JA, KO, NO, PT, RU...  34689024.0   \n",
              "\n",
              "  Primary Genre                             Genres Original Release Date  \\\n",
              "0         Games            Games, Strategy, Puzzle            11/07/2008   \n",
              "1         Games             Games, Strategy, Board            11/07/2008   \n",
              "2         Games             Games, Board, Strategy            11/07/2008   \n",
              "3         Games            Games, Strategy, Puzzle            23/07/2008   \n",
              "4         Games  Games, Strategy, Board, Education            18/07/2008   \n",
              "\n",
              "  Current Version Release Date  \n",
              "0                   30/05/2017  \n",
              "1                   17/05/2018  \n",
              "2                    5/09/2017  \n",
              "3                   30/05/2017  \n",
              "4                   22/07/2018  "
            ]
          },
          "execution_count": 10,
          "metadata": {},
          "output_type": "execute_result"
        }
      ],
      "source": [
        "df = df.drop(columns=['URL', 'Icon URL', 'Subtitle', 'Description', 'In-app Purchases'])\n",
        "df.head()"
      ]
    },
    {
      "cell_type": "code",
      "execution_count": 11,
      "metadata": {
        "colab": {
          "base_uri": "https://localhost:8080/",
          "height": 579
        },
        "colab_type": "code",
        "id": "6OKuOnglO97_",
        "outputId": "54c3ba73-2a2a-4c85-bfe3-5e4593c41f06"
      },
      "outputs": [
        {
          "data": {
            "text/html": [
              "<div>\n",
              "<style scoped>\n",
              "    .dataframe tbody tr th:only-of-type {\n",
              "        vertical-align: middle;\n",
              "    }\n",
              "\n",
              "    .dataframe tbody tr th {\n",
              "        vertical-align: top;\n",
              "    }\n",
              "\n",
              "    .dataframe thead th {\n",
              "        text-align: right;\n",
              "    }\n",
              "</style>\n",
              "<table border=\"1\" class=\"dataframe\">\n",
              "  <thead>\n",
              "    <tr style=\"text-align: right;\">\n",
              "      <th></th>\n",
              "      <th>Name</th>\n",
              "      <th>Average User Rating</th>\n",
              "      <th>User Rating Count</th>\n",
              "      <th>Price</th>\n",
              "      <th>Developer</th>\n",
              "      <th>Age Rating</th>\n",
              "      <th>Languages</th>\n",
              "      <th>Size</th>\n",
              "      <th>Primary Genre</th>\n",
              "      <th>Genres</th>\n",
              "      <th>Original Release Date</th>\n",
              "      <th>Current Version Release Date</th>\n",
              "    </tr>\n",
              "    <tr>\n",
              "      <th>ID</th>\n",
              "      <th></th>\n",
              "      <th></th>\n",
              "      <th></th>\n",
              "      <th></th>\n",
              "      <th></th>\n",
              "      <th></th>\n",
              "      <th></th>\n",
              "      <th></th>\n",
              "      <th></th>\n",
              "      <th></th>\n",
              "      <th></th>\n",
              "      <th></th>\n",
              "    </tr>\n",
              "  </thead>\n",
              "  <tbody>\n",
              "    <tr>\n",
              "      <th>284921427</th>\n",
              "      <td>Sudoku</td>\n",
              "      <td>4.0</td>\n",
              "      <td>3553.0</td>\n",
              "      <td>2.99</td>\n",
              "      <td>Mighty Mighty Good Games</td>\n",
              "      <td>4+</td>\n",
              "      <td>DA, NL, EN, FI, FR, DE, IT, JA, KO, NB, PL, PT...</td>\n",
              "      <td>15853568.0</td>\n",
              "      <td>Games</td>\n",
              "      <td>Games, Strategy, Puzzle</td>\n",
              "      <td>11/07/2008</td>\n",
              "      <td>30/05/2017</td>\n",
              "    </tr>\n",
              "    <tr>\n",
              "      <th>284926400</th>\n",
              "      <td>Reversi</td>\n",
              "      <td>3.5</td>\n",
              "      <td>284.0</td>\n",
              "      <td>1.99</td>\n",
              "      <td>Kiss The Machine</td>\n",
              "      <td>4+</td>\n",
              "      <td>EN</td>\n",
              "      <td>12328960.0</td>\n",
              "      <td>Games</td>\n",
              "      <td>Games, Strategy, Board</td>\n",
              "      <td>11/07/2008</td>\n",
              "      <td>17/05/2018</td>\n",
              "    </tr>\n",
              "    <tr>\n",
              "      <th>284946595</th>\n",
              "      <td>Morocco</td>\n",
              "      <td>3.0</td>\n",
              "      <td>8376.0</td>\n",
              "      <td>0.00</td>\n",
              "      <td>Bayou Games</td>\n",
              "      <td>4+</td>\n",
              "      <td>EN</td>\n",
              "      <td>674816.0</td>\n",
              "      <td>Games</td>\n",
              "      <td>Games, Board, Strategy</td>\n",
              "      <td>11/07/2008</td>\n",
              "      <td>5/09/2017</td>\n",
              "    </tr>\n",
              "    <tr>\n",
              "      <th>285755462</th>\n",
              "      <td>Sudoku (Free)</td>\n",
              "      <td>3.5</td>\n",
              "      <td>190394.0</td>\n",
              "      <td>0.00</td>\n",
              "      <td>Mighty Mighty Good Games</td>\n",
              "      <td>4+</td>\n",
              "      <td>DA, NL, EN, FI, FR, DE, IT, JA, KO, NB, PL, PT...</td>\n",
              "      <td>21552128.0</td>\n",
              "      <td>Games</td>\n",
              "      <td>Games, Strategy, Puzzle</td>\n",
              "      <td>23/07/2008</td>\n",
              "      <td>30/05/2017</td>\n",
              "    </tr>\n",
              "    <tr>\n",
              "      <th>285831220</th>\n",
              "      <td>Senet Deluxe</td>\n",
              "      <td>3.5</td>\n",
              "      <td>28.0</td>\n",
              "      <td>2.99</td>\n",
              "      <td>RoGame Software</td>\n",
              "      <td>4+</td>\n",
              "      <td>DA, NL, EN, FR, DE, EL, IT, JA, KO, NO, PT, RU...</td>\n",
              "      <td>34689024.0</td>\n",
              "      <td>Games</td>\n",
              "      <td>Games, Strategy, Board, Education</td>\n",
              "      <td>18/07/2008</td>\n",
              "      <td>22/07/2018</td>\n",
              "    </tr>\n",
              "  </tbody>\n",
              "</table>\n",
              "</div>"
            ],
            "text/plain": [
              "                    Name  Average User Rating  User Rating Count  Price  \\\n",
              "ID                                                                        \n",
              "284921427         Sudoku                  4.0             3553.0   2.99   \n",
              "284926400        Reversi                  3.5              284.0   1.99   \n",
              "284946595        Morocco                  3.0             8376.0   0.00   \n",
              "285755462  Sudoku (Free)                  3.5           190394.0   0.00   \n",
              "285831220   Senet Deluxe                  3.5               28.0   2.99   \n",
              "\n",
              "                          Developer Age Rating  \\\n",
              "ID                                               \n",
              "284921427  Mighty Mighty Good Games         4+   \n",
              "284926400          Kiss The Machine         4+   \n",
              "284946595               Bayou Games         4+   \n",
              "285755462  Mighty Mighty Good Games         4+   \n",
              "285831220           RoGame Software         4+   \n",
              "\n",
              "                                                   Languages        Size  \\\n",
              "ID                                                                         \n",
              "284921427  DA, NL, EN, FI, FR, DE, IT, JA, KO, NB, PL, PT...  15853568.0   \n",
              "284926400                                                 EN  12328960.0   \n",
              "284946595                                                 EN    674816.0   \n",
              "285755462  DA, NL, EN, FI, FR, DE, IT, JA, KO, NB, PL, PT...  21552128.0   \n",
              "285831220  DA, NL, EN, FR, DE, EL, IT, JA, KO, NO, PT, RU...  34689024.0   \n",
              "\n",
              "          Primary Genre                             Genres  \\\n",
              "ID                                                           \n",
              "284921427         Games            Games, Strategy, Puzzle   \n",
              "284926400         Games             Games, Strategy, Board   \n",
              "284946595         Games             Games, Board, Strategy   \n",
              "285755462         Games            Games, Strategy, Puzzle   \n",
              "285831220         Games  Games, Strategy, Board, Education   \n",
              "\n",
              "          Original Release Date Current Version Release Date  \n",
              "ID                                                            \n",
              "284921427            11/07/2008                   30/05/2017  \n",
              "284926400            11/07/2008                   17/05/2018  \n",
              "284946595            11/07/2008                    5/09/2017  \n",
              "285755462            23/07/2008                   30/05/2017  \n",
              "285831220            18/07/2008                   22/07/2018  "
            ]
          },
          "execution_count": 11,
          "metadata": {},
          "output_type": "execute_result"
        }
      ],
      "source": [
        "df = df.set_index('ID')\n",
        "df.head()"
      ]
    },
    {
      "cell_type": "code",
      "execution_count": 12,
      "metadata": {
        "colab": {
          "base_uri": "https://localhost:8080/",
          "height": 295
        },
        "colab_type": "code",
        "id": "It4-0QcmPHGk",
        "outputId": "b51cb385-4f82-4a18-bc71-09f5cb030131"
      },
      "outputs": [
        {
          "data": {
            "text/html": [
              "<div>\n",
              "<style scoped>\n",
              "    .dataframe tbody tr th:only-of-type {\n",
              "        vertical-align: middle;\n",
              "    }\n",
              "\n",
              "    .dataframe tbody tr th {\n",
              "        vertical-align: top;\n",
              "    }\n",
              "\n",
              "    .dataframe thead th {\n",
              "        text-align: right;\n",
              "    }\n",
              "</style>\n",
              "<table border=\"1\" class=\"dataframe\">\n",
              "  <thead>\n",
              "    <tr style=\"text-align: right;\">\n",
              "      <th></th>\n",
              "      <th>Average User Rating</th>\n",
              "      <th>User Rating Count</th>\n",
              "      <th>Price</th>\n",
              "      <th>Size</th>\n",
              "    </tr>\n",
              "  </thead>\n",
              "  <tbody>\n",
              "    <tr>\n",
              "      <th>count</th>\n",
              "      <td>7561.000000</td>\n",
              "      <td>7.561000e+03</td>\n",
              "      <td>16983.000000</td>\n",
              "      <td>1.700600e+04</td>\n",
              "    </tr>\n",
              "    <tr>\n",
              "      <th>mean</th>\n",
              "      <td>4.060905</td>\n",
              "      <td>3.306531e+03</td>\n",
              "      <td>0.813419</td>\n",
              "      <td>1.157064e+08</td>\n",
              "    </tr>\n",
              "    <tr>\n",
              "      <th>std</th>\n",
              "      <td>0.751428</td>\n",
              "      <td>4.232256e+04</td>\n",
              "      <td>7.835732</td>\n",
              "      <td>2.036477e+08</td>\n",
              "    </tr>\n",
              "    <tr>\n",
              "      <th>min</th>\n",
              "      <td>1.000000</td>\n",
              "      <td>5.000000e+00</td>\n",
              "      <td>0.000000</td>\n",
              "      <td>5.132800e+04</td>\n",
              "    </tr>\n",
              "    <tr>\n",
              "      <th>25%</th>\n",
              "      <td>3.500000</td>\n",
              "      <td>1.200000e+01</td>\n",
              "      <td>0.000000</td>\n",
              "      <td>2.295014e+07</td>\n",
              "    </tr>\n",
              "    <tr>\n",
              "      <th>50%</th>\n",
              "      <td>4.500000</td>\n",
              "      <td>4.600000e+01</td>\n",
              "      <td>0.000000</td>\n",
              "      <td>5.676895e+07</td>\n",
              "    </tr>\n",
              "    <tr>\n",
              "      <th>75%</th>\n",
              "      <td>4.500000</td>\n",
              "      <td>3.090000e+02</td>\n",
              "      <td>0.000000</td>\n",
              "      <td>1.330271e+08</td>\n",
              "    </tr>\n",
              "    <tr>\n",
              "      <th>max</th>\n",
              "      <td>5.000000</td>\n",
              "      <td>3.032734e+06</td>\n",
              "      <td>179.990000</td>\n",
              "      <td>4.005591e+09</td>\n",
              "    </tr>\n",
              "  </tbody>\n",
              "</table>\n",
              "</div>"
            ],
            "text/plain": [
              "       Average User Rating  User Rating Count         Price          Size\n",
              "count          7561.000000       7.561000e+03  16983.000000  1.700600e+04\n",
              "mean              4.060905       3.306531e+03      0.813419  1.157064e+08\n",
              "std               0.751428       4.232256e+04      7.835732  2.036477e+08\n",
              "min               1.000000       5.000000e+00      0.000000  5.132800e+04\n",
              "25%               3.500000       1.200000e+01      0.000000  2.295014e+07\n",
              "50%               4.500000       4.600000e+01      0.000000  5.676895e+07\n",
              "75%               4.500000       3.090000e+02      0.000000  1.330271e+08\n",
              "max               5.000000       3.032734e+06    179.990000  4.005591e+09"
            ]
          },
          "execution_count": 12,
          "metadata": {},
          "output_type": "execute_result"
        }
      ],
      "source": [
        "df.describe()"
      ]
    },
    {
      "cell_type": "code",
      "execution_count": 13,
      "metadata": {
        "colab": {
          "base_uri": "https://localhost:8080/",
          "height": 172
        },
        "colab_type": "code",
        "id": "6nenOFEEPRte",
        "outputId": "bbe4b69b-fd3a-4d30-e46f-3f16881a85e1"
      },
      "outputs": [
        {
          "data": {
            "text/html": [
              "<div>\n",
              "<style scoped>\n",
              "    .dataframe tbody tr th:only-of-type {\n",
              "        vertical-align: middle;\n",
              "    }\n",
              "\n",
              "    .dataframe tbody tr th {\n",
              "        vertical-align: top;\n",
              "    }\n",
              "\n",
              "    .dataframe thead th {\n",
              "        text-align: right;\n",
              "    }\n",
              "</style>\n",
              "<table border=\"1\" class=\"dataframe\">\n",
              "  <thead>\n",
              "    <tr style=\"text-align: right;\">\n",
              "      <th></th>\n",
              "      <th>count</th>\n",
              "      <th>mean</th>\n",
              "      <th>std</th>\n",
              "      <th>min</th>\n",
              "      <th>25%</th>\n",
              "      <th>50%</th>\n",
              "      <th>75%</th>\n",
              "      <th>max</th>\n",
              "    </tr>\n",
              "  </thead>\n",
              "  <tbody>\n",
              "    <tr>\n",
              "      <th>Average User Rating</th>\n",
              "      <td>7561.0</td>\n",
              "      <td>4.060905e+00</td>\n",
              "      <td>7.514275e-01</td>\n",
              "      <td>1.0</td>\n",
              "      <td>3.5</td>\n",
              "      <td>4.5</td>\n",
              "      <td>4.5</td>\n",
              "      <td>5.000000e+00</td>\n",
              "    </tr>\n",
              "    <tr>\n",
              "      <th>User Rating Count</th>\n",
              "      <td>7561.0</td>\n",
              "      <td>3.306531e+03</td>\n",
              "      <td>4.232256e+04</td>\n",
              "      <td>5.0</td>\n",
              "      <td>12.0</td>\n",
              "      <td>46.0</td>\n",
              "      <td>309.0</td>\n",
              "      <td>3.032734e+06</td>\n",
              "    </tr>\n",
              "    <tr>\n",
              "      <th>Price</th>\n",
              "      <td>16983.0</td>\n",
              "      <td>8.134187e-01</td>\n",
              "      <td>7.835732e+00</td>\n",
              "      <td>0.0</td>\n",
              "      <td>0.0</td>\n",
              "      <td>0.0</td>\n",
              "      <td>0.0</td>\n",
              "      <td>1.799900e+02</td>\n",
              "    </tr>\n",
              "    <tr>\n",
              "      <th>Size</th>\n",
              "      <td>17006.0</td>\n",
              "      <td>1.157064e+08</td>\n",
              "      <td>2.036477e+08</td>\n",
              "      <td>51328.0</td>\n",
              "      <td>22950144.0</td>\n",
              "      <td>56768954.0</td>\n",
              "      <td>133027072.0</td>\n",
              "      <td>4.005591e+09</td>\n",
              "    </tr>\n",
              "  </tbody>\n",
              "</table>\n",
              "</div>"
            ],
            "text/plain": [
              "                       count          mean           std      min         25%  \\\n",
              "Average User Rating   7561.0  4.060905e+00  7.514275e-01      1.0         3.5   \n",
              "User Rating Count     7561.0  3.306531e+03  4.232256e+04      5.0        12.0   \n",
              "Price                16983.0  8.134187e-01  7.835732e+00      0.0         0.0   \n",
              "Size                 17006.0  1.157064e+08  2.036477e+08  51328.0  22950144.0   \n",
              "\n",
              "                            50%          75%           max  \n",
              "Average User Rating         4.5          4.5  5.000000e+00  \n",
              "User Rating Count          46.0        309.0  3.032734e+06  \n",
              "Price                       0.0          0.0  1.799900e+02  \n",
              "Size                 56768954.0  133027072.0  4.005591e+09  "
            ]
          },
          "execution_count": 13,
          "metadata": {},
          "output_type": "execute_result"
        }
      ],
      "source": [
        "df.describe().T"
      ]
    },
    {
      "cell_type": "code",
      "execution_count": 14,
      "metadata": {
        "colab": {
          "base_uri": "https://localhost:8080/",
          "height": 223
        },
        "colab_type": "code",
        "id": "qwe2JvCwPT_p",
        "outputId": "fffb6b1e-af6f-4866-80c2-8d60dc235d45"
      },
      "outputs": [
        {
          "data": {
            "text/html": [
              "<div>\n",
              "<style scoped>\n",
              "    .dataframe tbody tr th:only-of-type {\n",
              "        vertical-align: middle;\n",
              "    }\n",
              "\n",
              "    .dataframe tbody tr th {\n",
              "        vertical-align: top;\n",
              "    }\n",
              "\n",
              "    .dataframe thead th {\n",
              "        text-align: right;\n",
              "    }\n",
              "</style>\n",
              "<table border=\"1\" class=\"dataframe\">\n",
              "  <thead>\n",
              "    <tr style=\"text-align: right;\">\n",
              "      <th></th>\n",
              "      <th>Name</th>\n",
              "      <th>Developer</th>\n",
              "      <th>Age Rating</th>\n",
              "      <th>Languages</th>\n",
              "      <th>Primary Genre</th>\n",
              "      <th>Genres</th>\n",
              "      <th>Original Release Date</th>\n",
              "      <th>Current Version Release Date</th>\n",
              "    </tr>\n",
              "  </thead>\n",
              "  <tbody>\n",
              "    <tr>\n",
              "      <th>count</th>\n",
              "      <td>17007</td>\n",
              "      <td>17007</td>\n",
              "      <td>17007</td>\n",
              "      <td>16947</td>\n",
              "      <td>17007</td>\n",
              "      <td>17007</td>\n",
              "      <td>17007</td>\n",
              "      <td>17007</td>\n",
              "    </tr>\n",
              "    <tr>\n",
              "      <th>unique</th>\n",
              "      <td>16847</td>\n",
              "      <td>8693</td>\n",
              "      <td>4</td>\n",
              "      <td>990</td>\n",
              "      <td>21</td>\n",
              "      <td>1004</td>\n",
              "      <td>3084</td>\n",
              "      <td>2512</td>\n",
              "    </tr>\n",
              "    <tr>\n",
              "      <th>top</th>\n",
              "      <td>Additions</td>\n",
              "      <td>Tapps Tecnologia da Informa\\xe7\\xe3o Ltda.</td>\n",
              "      <td>4+</td>\n",
              "      <td>EN</td>\n",
              "      <td>Games</td>\n",
              "      <td>Games, Strategy, Puzzle</td>\n",
              "      <td>2/09/2016</td>\n",
              "      <td>1/08/2019</td>\n",
              "    </tr>\n",
              "    <tr>\n",
              "      <th>freq</th>\n",
              "      <td>2</td>\n",
              "      <td>123</td>\n",
              "      <td>11806</td>\n",
              "      <td>12467</td>\n",
              "      <td>16286</td>\n",
              "      <td>778</td>\n",
              "      <td>75</td>\n",
              "      <td>118</td>\n",
              "    </tr>\n",
              "  </tbody>\n",
              "</table>\n",
              "</div>"
            ],
            "text/plain": [
              "             Name                                   Developer Age Rating  \\\n",
              "count       17007                                       17007      17007   \n",
              "unique      16847                                        8693          4   \n",
              "top     Additions  Tapps Tecnologia da Informa\\xe7\\xe3o Ltda.         4+   \n",
              "freq            2                                         123      11806   \n",
              "\n",
              "       Languages Primary Genre                   Genres Original Release Date  \\\n",
              "count      16947         17007                    17007                 17007   \n",
              "unique       990            21                     1004                  3084   \n",
              "top           EN         Games  Games, Strategy, Puzzle             2/09/2016   \n",
              "freq       12467         16286                      778                    75   \n",
              "\n",
              "       Current Version Release Date  \n",
              "count                         17007  \n",
              "unique                         2512  \n",
              "top                       1/08/2019  \n",
              "freq                            118  "
            ]
          },
          "execution_count": 14,
          "metadata": {},
          "output_type": "execute_result"
        }
      ],
      "source": [
        "df.describe(include=['object'])"
      ]
    },
    {
      "cell_type": "code",
      "execution_count": 15,
      "metadata": {
        "colab": {
          "base_uri": "https://localhost:8080/",
          "height": 295
        },
        "colab_type": "code",
        "id": "NFqXjNN-Pi8R",
        "outputId": "9b27b5e6-dbaa-4e25-9a20-5e6af0800ed6"
      },
      "outputs": [
        {
          "data": {
            "text/html": [
              "<div>\n",
              "<style scoped>\n",
              "    .dataframe tbody tr th:only-of-type {\n",
              "        vertical-align: middle;\n",
              "    }\n",
              "\n",
              "    .dataframe tbody tr th {\n",
              "        vertical-align: top;\n",
              "    }\n",
              "\n",
              "    .dataframe thead th {\n",
              "        text-align: right;\n",
              "    }\n",
              "</style>\n",
              "<table border=\"1\" class=\"dataframe\">\n",
              "  <thead>\n",
              "    <tr style=\"text-align: right;\">\n",
              "      <th></th>\n",
              "      <th>count</th>\n",
              "      <th>unique</th>\n",
              "      <th>top</th>\n",
              "      <th>freq</th>\n",
              "    </tr>\n",
              "  </thead>\n",
              "  <tbody>\n",
              "    <tr>\n",
              "      <th>Name</th>\n",
              "      <td>17007</td>\n",
              "      <td>16847</td>\n",
              "      <td>Additions</td>\n",
              "      <td>2</td>\n",
              "    </tr>\n",
              "    <tr>\n",
              "      <th>Developer</th>\n",
              "      <td>17007</td>\n",
              "      <td>8693</td>\n",
              "      <td>Tapps Tecnologia da Informa\\xe7\\xe3o Ltda.</td>\n",
              "      <td>123</td>\n",
              "    </tr>\n",
              "    <tr>\n",
              "      <th>Age Rating</th>\n",
              "      <td>17007</td>\n",
              "      <td>4</td>\n",
              "      <td>4+</td>\n",
              "      <td>11806</td>\n",
              "    </tr>\n",
              "    <tr>\n",
              "      <th>Languages</th>\n",
              "      <td>16947</td>\n",
              "      <td>990</td>\n",
              "      <td>EN</td>\n",
              "      <td>12467</td>\n",
              "    </tr>\n",
              "    <tr>\n",
              "      <th>Primary Genre</th>\n",
              "      <td>17007</td>\n",
              "      <td>21</td>\n",
              "      <td>Games</td>\n",
              "      <td>16286</td>\n",
              "    </tr>\n",
              "    <tr>\n",
              "      <th>Genres</th>\n",
              "      <td>17007</td>\n",
              "      <td>1004</td>\n",
              "      <td>Games, Strategy, Puzzle</td>\n",
              "      <td>778</td>\n",
              "    </tr>\n",
              "    <tr>\n",
              "      <th>Original Release Date</th>\n",
              "      <td>17007</td>\n",
              "      <td>3084</td>\n",
              "      <td>2/09/2016</td>\n",
              "      <td>75</td>\n",
              "    </tr>\n",
              "    <tr>\n",
              "      <th>Current Version Release Date</th>\n",
              "      <td>17007</td>\n",
              "      <td>2512</td>\n",
              "      <td>1/08/2019</td>\n",
              "      <td>118</td>\n",
              "    </tr>\n",
              "  </tbody>\n",
              "</table>\n",
              "</div>"
            ],
            "text/plain": [
              "                              count unique  \\\n",
              "Name                          17007  16847   \n",
              "Developer                     17007   8693   \n",
              "Age Rating                    17007      4   \n",
              "Languages                     16947    990   \n",
              "Primary Genre                 17007     21   \n",
              "Genres                        17007   1004   \n",
              "Original Release Date         17007   3084   \n",
              "Current Version Release Date  17007   2512   \n",
              "\n",
              "                                                                     top  \\\n",
              "Name                                                           Additions   \n",
              "Developer                     Tapps Tecnologia da Informa\\xe7\\xe3o Ltda.   \n",
              "Age Rating                                                            4+   \n",
              "Languages                                                             EN   \n",
              "Primary Genre                                                      Games   \n",
              "Genres                                           Games, Strategy, Puzzle   \n",
              "Original Release Date                                          2/09/2016   \n",
              "Current Version Release Date                                   1/08/2019   \n",
              "\n",
              "                               freq  \n",
              "Name                              2  \n",
              "Developer                       123  \n",
              "Age Rating                    11806  \n",
              "Languages                     12467  \n",
              "Primary Genre                 16286  \n",
              "Genres                          778  \n",
              "Original Release Date            75  \n",
              "Current Version Release Date    118  "
            ]
          },
          "execution_count": 15,
          "metadata": {},
          "output_type": "execute_result"
        }
      ],
      "source": [
        "df.describe(include=['object']).T"
      ]
    },
    {
      "cell_type": "code",
      "execution_count": 16,
      "metadata": {
        "colab": {
          "base_uri": "https://localhost:8080/",
          "height": 86
        },
        "colab_type": "code",
        "id": "2A1oVYY1Pt6o",
        "outputId": "5acc07c7-5630-4ccc-bfbe-21e15a1debd1"
      },
      "outputs": [
        {
          "data": {
            "text/plain": [
              "Index(['Name', 'Average User Rating', 'User Rating Count', 'Price',\n",
              "       'Developer', 'Age Rating', 'Languages', 'Size', 'Primary Genre',\n",
              "       'Genres', 'Original Release Date', 'Current Version Release Date'],\n",
              "      dtype='object')"
            ]
          },
          "execution_count": 16,
          "metadata": {},
          "output_type": "execute_result"
        }
      ],
      "source": [
        "df.columns"
      ]
    },
    {
      "cell_type": "code",
      "execution_count": 17,
      "metadata": {
        "colab": {
          "base_uri": "https://localhost:8080/",
          "height": 528
        },
        "colab_type": "code",
        "id": "5jByzU0qPydM",
        "outputId": "ab9929e1-89a1-4883-8fc5-ebd29b86f78a"
      },
      "outputs": [
        {
          "data": {
            "text/html": [
              "<div>\n",
              "<style scoped>\n",
              "    .dataframe tbody tr th:only-of-type {\n",
              "        vertical-align: middle;\n",
              "    }\n",
              "\n",
              "    .dataframe tbody tr th {\n",
              "        vertical-align: top;\n",
              "    }\n",
              "\n",
              "    .dataframe thead th {\n",
              "        text-align: right;\n",
              "    }\n",
              "</style>\n",
              "<table border=\"1\" class=\"dataframe\">\n",
              "  <thead>\n",
              "    <tr style=\"text-align: right;\">\n",
              "      <th></th>\n",
              "      <th>name</th>\n",
              "      <th>average_user_rating</th>\n",
              "      <th>user_rating_count</th>\n",
              "      <th>price</th>\n",
              "      <th>developer</th>\n",
              "      <th>age_rating</th>\n",
              "      <th>languages</th>\n",
              "      <th>size</th>\n",
              "      <th>primary_genre</th>\n",
              "      <th>genres</th>\n",
              "      <th>original_release_date</th>\n",
              "      <th>current_version_release_date</th>\n",
              "    </tr>\n",
              "    <tr>\n",
              "      <th>ID</th>\n",
              "      <th></th>\n",
              "      <th></th>\n",
              "      <th></th>\n",
              "      <th></th>\n",
              "      <th></th>\n",
              "      <th></th>\n",
              "      <th></th>\n",
              "      <th></th>\n",
              "      <th></th>\n",
              "      <th></th>\n",
              "      <th></th>\n",
              "      <th></th>\n",
              "    </tr>\n",
              "  </thead>\n",
              "  <tbody>\n",
              "    <tr>\n",
              "      <th>284921427</th>\n",
              "      <td>Sudoku</td>\n",
              "      <td>4.0</td>\n",
              "      <td>3553.0</td>\n",
              "      <td>2.99</td>\n",
              "      <td>Mighty Mighty Good Games</td>\n",
              "      <td>4+</td>\n",
              "      <td>DA, NL, EN, FI, FR, DE, IT, JA, KO, NB, PL, PT...</td>\n",
              "      <td>15853568.0</td>\n",
              "      <td>Games</td>\n",
              "      <td>Games, Strategy, Puzzle</td>\n",
              "      <td>11/07/2008</td>\n",
              "      <td>30/05/2017</td>\n",
              "    </tr>\n",
              "    <tr>\n",
              "      <th>284926400</th>\n",
              "      <td>Reversi</td>\n",
              "      <td>3.5</td>\n",
              "      <td>284.0</td>\n",
              "      <td>1.99</td>\n",
              "      <td>Kiss The Machine</td>\n",
              "      <td>4+</td>\n",
              "      <td>EN</td>\n",
              "      <td>12328960.0</td>\n",
              "      <td>Games</td>\n",
              "      <td>Games, Strategy, Board</td>\n",
              "      <td>11/07/2008</td>\n",
              "      <td>17/05/2018</td>\n",
              "    </tr>\n",
              "    <tr>\n",
              "      <th>284946595</th>\n",
              "      <td>Morocco</td>\n",
              "      <td>3.0</td>\n",
              "      <td>8376.0</td>\n",
              "      <td>0.00</td>\n",
              "      <td>Bayou Games</td>\n",
              "      <td>4+</td>\n",
              "      <td>EN</td>\n",
              "      <td>674816.0</td>\n",
              "      <td>Games</td>\n",
              "      <td>Games, Board, Strategy</td>\n",
              "      <td>11/07/2008</td>\n",
              "      <td>5/09/2017</td>\n",
              "    </tr>\n",
              "    <tr>\n",
              "      <th>285755462</th>\n",
              "      <td>Sudoku (Free)</td>\n",
              "      <td>3.5</td>\n",
              "      <td>190394.0</td>\n",
              "      <td>0.00</td>\n",
              "      <td>Mighty Mighty Good Games</td>\n",
              "      <td>4+</td>\n",
              "      <td>DA, NL, EN, FI, FR, DE, IT, JA, KO, NB, PL, PT...</td>\n",
              "      <td>21552128.0</td>\n",
              "      <td>Games</td>\n",
              "      <td>Games, Strategy, Puzzle</td>\n",
              "      <td>23/07/2008</td>\n",
              "      <td>30/05/2017</td>\n",
              "    </tr>\n",
              "    <tr>\n",
              "      <th>285831220</th>\n",
              "      <td>Senet Deluxe</td>\n",
              "      <td>3.5</td>\n",
              "      <td>28.0</td>\n",
              "      <td>2.99</td>\n",
              "      <td>RoGame Software</td>\n",
              "      <td>4+</td>\n",
              "      <td>DA, NL, EN, FR, DE, EL, IT, JA, KO, NO, PT, RU...</td>\n",
              "      <td>34689024.0</td>\n",
              "      <td>Games</td>\n",
              "      <td>Games, Strategy, Board, Education</td>\n",
              "      <td>18/07/2008</td>\n",
              "      <td>22/07/2018</td>\n",
              "    </tr>\n",
              "  </tbody>\n",
              "</table>\n",
              "</div>"
            ],
            "text/plain": [
              "                    name  average_user_rating  user_rating_count  price  \\\n",
              "ID                                                                        \n",
              "284921427         Sudoku                  4.0             3553.0   2.99   \n",
              "284926400        Reversi                  3.5              284.0   1.99   \n",
              "284946595        Morocco                  3.0             8376.0   0.00   \n",
              "285755462  Sudoku (Free)                  3.5           190394.0   0.00   \n",
              "285831220   Senet Deluxe                  3.5               28.0   2.99   \n",
              "\n",
              "                          developer age_rating  \\\n",
              "ID                                               \n",
              "284921427  Mighty Mighty Good Games         4+   \n",
              "284926400          Kiss The Machine         4+   \n",
              "284946595               Bayou Games         4+   \n",
              "285755462  Mighty Mighty Good Games         4+   \n",
              "285831220           RoGame Software         4+   \n",
              "\n",
              "                                                   languages        size  \\\n",
              "ID                                                                         \n",
              "284921427  DA, NL, EN, FI, FR, DE, IT, JA, KO, NB, PL, PT...  15853568.0   \n",
              "284926400                                                 EN  12328960.0   \n",
              "284946595                                                 EN    674816.0   \n",
              "285755462  DA, NL, EN, FI, FR, DE, IT, JA, KO, NB, PL, PT...  21552128.0   \n",
              "285831220  DA, NL, EN, FR, DE, EL, IT, JA, KO, NO, PT, RU...  34689024.0   \n",
              "\n",
              "          primary_genre                             genres  \\\n",
              "ID                                                           \n",
              "284921427         Games            Games, Strategy, Puzzle   \n",
              "284926400         Games             Games, Strategy, Board   \n",
              "284946595         Games             Games, Board, Strategy   \n",
              "285755462         Games            Games, Strategy, Puzzle   \n",
              "285831220         Games  Games, Strategy, Board, Education   \n",
              "\n",
              "          original_release_date current_version_release_date  \n",
              "ID                                                            \n",
              "284921427            11/07/2008                   30/05/2017  \n",
              "284926400            11/07/2008                   17/05/2018  \n",
              "284946595            11/07/2008                    5/09/2017  \n",
              "285755462            23/07/2008                   30/05/2017  \n",
              "285831220            18/07/2008                   22/07/2018  "
            ]
          },
          "execution_count": 17,
          "metadata": {},
          "output_type": "execute_result"
        }
      ],
      "source": [
        "df.columns = [col.lower().replace(' ', '_') for col in df.columns]\n",
        "df.head()"
      ]
    },
    {
      "cell_type": "code",
      "execution_count": 18,
      "metadata": {
        "colab": {
          "base_uri": "https://localhost:8080/",
          "height": 240
        },
        "colab_type": "code",
        "id": "FWuX2CFcQBb9",
        "outputId": "0b3aefac-b7a9-4b01-eb7d-e013281aaaab"
      },
      "outputs": [
        {
          "data": {
            "text/plain": [
              "ID\n",
              "284921427     4.0\n",
              "284926400     3.5\n",
              "284946595     3.0\n",
              "285755462     3.5\n",
              "285831220     3.5\n",
              "             ... \n",
              "1474626442    NaN\n",
              "1474919257    NaN\n",
              "1474962324    NaN\n",
              "1474963671    NaN\n",
              "1475076711    NaN\n",
              "Name: average_user_rating, Length: 17007, dtype: float64"
            ]
          },
          "execution_count": 18,
          "metadata": {},
          "output_type": "execute_result"
        }
      ],
      "source": [
        "df.average_user_rating"
      ]
    },
    {
      "cell_type": "markdown",
      "metadata": {
        "colab_type": "text",
        "id": "BySdufv-B1WJ"
      },
      "source": [
        "###  <a name='a4'></a> Jak zbadać rozkład zmiennej?"
      ]
    },
    {
      "cell_type": "code",
      "execution_count": 19,
      "metadata": {
        "colab": {
          "base_uri": "https://localhost:8080/",
          "height": 264
        },
        "colab_type": "code",
        "id": "2JoKR4zYQ2-7",
        "outputId": "861260e6-45d9-4900-9c4b-ecfeab96dcba"
      },
      "outputs": [
        {
          "data": {
            "text/html": [
              "<div>\n",
              "<style scoped>\n",
              "    .dataframe tbody tr th:only-of-type {\n",
              "        vertical-align: middle;\n",
              "    }\n",
              "\n",
              "    .dataframe tbody tr th {\n",
              "        vertical-align: top;\n",
              "    }\n",
              "\n",
              "    .dataframe thead th {\n",
              "        text-align: right;\n",
              "    }\n",
              "</style>\n",
              "<table border=\"1\" class=\"dataframe\">\n",
              "  <thead>\n",
              "    <tr style=\"text-align: right;\">\n",
              "      <th></th>\n",
              "      <th>name</th>\n",
              "      <th>average_user_rating</th>\n",
              "      <th>user_rating_count</th>\n",
              "      <th>price</th>\n",
              "      <th>developer</th>\n",
              "      <th>age_rating</th>\n",
              "      <th>languages</th>\n",
              "      <th>size</th>\n",
              "      <th>primary_genre</th>\n",
              "      <th>genres</th>\n",
              "      <th>original_release_date</th>\n",
              "      <th>current_version_release_date</th>\n",
              "    </tr>\n",
              "    <tr>\n",
              "      <th>ID</th>\n",
              "      <th></th>\n",
              "      <th></th>\n",
              "      <th></th>\n",
              "      <th></th>\n",
              "      <th></th>\n",
              "      <th></th>\n",
              "      <th></th>\n",
              "      <th></th>\n",
              "      <th></th>\n",
              "      <th></th>\n",
              "      <th></th>\n",
              "      <th></th>\n",
              "    </tr>\n",
              "  </thead>\n",
              "  <tbody>\n",
              "    <tr>\n",
              "      <th>284921427</th>\n",
              "      <td>Sudoku</td>\n",
              "      <td>4.0</td>\n",
              "      <td>3553.0</td>\n",
              "      <td>2.99</td>\n",
              "      <td>Mighty Mighty Good Games</td>\n",
              "      <td>4+</td>\n",
              "      <td>DA, NL, EN, FI, FR, DE, IT, JA, KO, NB, PL, PT...</td>\n",
              "      <td>15853568.0</td>\n",
              "      <td>Games</td>\n",
              "      <td>Games, Strategy, Puzzle</td>\n",
              "      <td>11/07/2008</td>\n",
              "      <td>30/05/2017</td>\n",
              "    </tr>\n",
              "    <tr>\n",
              "      <th>284926400</th>\n",
              "      <td>Reversi</td>\n",
              "      <td>3.5</td>\n",
              "      <td>284.0</td>\n",
              "      <td>1.99</td>\n",
              "      <td>Kiss The Machine</td>\n",
              "      <td>4+</td>\n",
              "      <td>EN</td>\n",
              "      <td>12328960.0</td>\n",
              "      <td>Games</td>\n",
              "      <td>Games, Strategy, Board</td>\n",
              "      <td>11/07/2008</td>\n",
              "      <td>17/05/2018</td>\n",
              "    </tr>\n",
              "  </tbody>\n",
              "</table>\n",
              "</div>"
            ],
            "text/plain": [
              "              name  average_user_rating  user_rating_count  price  \\\n",
              "ID                                                                  \n",
              "284921427   Sudoku                  4.0             3553.0   2.99   \n",
              "284926400  Reversi                  3.5              284.0   1.99   \n",
              "\n",
              "                          developer age_rating  \\\n",
              "ID                                               \n",
              "284921427  Mighty Mighty Good Games         4+   \n",
              "284926400          Kiss The Machine         4+   \n",
              "\n",
              "                                                   languages        size  \\\n",
              "ID                                                                         \n",
              "284921427  DA, NL, EN, FI, FR, DE, IT, JA, KO, NB, PL, PT...  15853568.0   \n",
              "284926400                                                 EN  12328960.0   \n",
              "\n",
              "          primary_genre                   genres original_release_date  \\\n",
              "ID                                                                       \n",
              "284921427         Games  Games, Strategy, Puzzle            11/07/2008   \n",
              "284926400         Games   Games, Strategy, Board            11/07/2008   \n",
              "\n",
              "          current_version_release_date  \n",
              "ID                                      \n",
              "284921427                   30/05/2017  \n",
              "284926400                   17/05/2018  "
            ]
          },
          "execution_count": 19,
          "metadata": {},
          "output_type": "execute_result"
        }
      ],
      "source": [
        "df.head(2)"
      ]
    },
    {
      "cell_type": "code",
      "execution_count": 20,
      "metadata": {
        "colab": {
          "base_uri": "https://localhost:8080/",
          "height": 394
        },
        "colab_type": "code",
        "id": "fjACpgbOQ-rN",
        "outputId": "799e2098-170c-4559-8906-b7d31ca94600"
      },
      "outputs": [
        {
          "data": {
            "text/plain": [
              "primary_genre\n",
              "Games                16286\n",
              "Education              222\n",
              "Entertainment          198\n",
              "Utilities               77\n",
              "Sports                  60\n",
              "Reference               32\n",
              "Stickers                29\n",
              "Finance                 18\n",
              "Business                16\n",
              "Productivity            15\n",
              "Lifestyle               10\n",
              "Book                     9\n",
              "Social Networking        9\n",
              "News                     7\n",
              "Health & Fitness         5\n",
              "Food & Drink             4\n",
              "Music                    3\n",
              "Navigation               3\n",
              "Medical                  2\n",
              "Travel                   1\n",
              "Shopping                 1\n",
              "Name: count, dtype: int64"
            ]
          },
          "execution_count": 20,
          "metadata": {},
          "output_type": "execute_result"
        }
      ],
      "source": [
        "df.primary_genre.value_counts()"
      ]
    },
    {
      "cell_type": "code",
      "execution_count": 21,
      "metadata": {
        "colab": {
          "base_uri": "https://localhost:8080/",
          "height": 120
        },
        "colab_type": "code",
        "id": "ivF6Ra_OU8tO",
        "outputId": "564cf5ad-3bcb-46b3-d643-527860fed12e"
      },
      "outputs": [
        {
          "data": {
            "text/plain": [
              "primary_genre\n",
              "Games            16286\n",
              "Education          222\n",
              "Entertainment      198\n",
              "Utilities           77\n",
              "Sports              60\n",
              "Name: count, dtype: int64"
            ]
          },
          "execution_count": 21,
          "metadata": {},
          "output_type": "execute_result"
        }
      ],
      "source": [
        "df.primary_genre.value_counts().nlargest(5)"
      ]
    },
    {
      "cell_type": "code",
      "execution_count": 22,
      "metadata": {
        "colab": {
          "base_uri": "https://localhost:8080/",
          "height": 34
        },
        "colab_type": "code",
        "id": "DYKiSbIgVDZU",
        "outputId": "49ab2d65-e7dd-488c-ba16-ae68f9b2233b"
      },
      "outputs": [
        {
          "data": {
            "text/plain": [
              "['Games', 'Education', 'Entertainment', 'Utilities', 'Sports']"
            ]
          },
          "execution_count": 22,
          "metadata": {},
          "output_type": "execute_result"
        }
      ],
      "source": [
        "list(df.primary_genre.value_counts().nlargest(5).index)"
      ]
    },
    {
      "cell_type": "code",
      "execution_count": 23,
      "metadata": {
        "colab": {
          "base_uri": "https://localhost:8080/",
          "height": 103
        },
        "colab_type": "code",
        "id": "lxf-mdAcVMa2",
        "outputId": "2a038fcd-0104-432f-d1e9-660a27fd0b5f"
      },
      "outputs": [
        {
          "data": {
            "text/plain": [
              "age_rating\n",
              "4+     11806\n",
              "9+      2481\n",
              "12+     2055\n",
              "17+      665\n",
              "Name: count, dtype: int64"
            ]
          },
          "execution_count": 23,
          "metadata": {},
          "output_type": "execute_result"
        }
      ],
      "source": [
        "df.age_rating.value_counts()"
      ]
    },
    {
      "cell_type": "code",
      "execution_count": 24,
      "metadata": {
        "colab": {
          "base_uri": "https://localhost:8080/",
          "height": 34
        },
        "colab_type": "code",
        "id": "IJKpzqKOVZk1",
        "outputId": "fcf3f163-6b38-4930-c55f-6d81e937e6fd"
      },
      "outputs": [
        {
          "data": {
            "text/plain": [
              "pandas.core.series.Series"
            ]
          },
          "execution_count": 24,
          "metadata": {},
          "output_type": "execute_result"
        }
      ],
      "source": [
        "type(df.age_rating.value_counts())"
      ]
    },
    {
      "cell_type": "code",
      "execution_count": 25,
      "metadata": {
        "colab": {
          "base_uri": "https://localhost:8080/",
          "height": 281
        },
        "colab_type": "code",
        "id": "aU05-uNFVhZQ",
        "outputId": "a21d420b-e5a9-478f-e7ab-5a73e3de56a9"
      },
      "outputs": [
        {
          "data": {
            "image/png": "[encoded data removed]",
            "text/plain": [
              "<Figure size 640x480 with 1 Axes>"
            ]
          },
          "metadata": {},
          "output_type": "display_data"
        }
      ],
      "source": [
        "import seaborn as sns\n",
        "sns.set()\n",
        "\n",
        "_ = df.age_rating.value_counts().plot(kind='bar')"
      ]
    },
    {
      "cell_type": "code",
      "execution_count": 26,
      "metadata": {
        "colab": {
          "base_uri": "https://localhost:8080/",
          "height": 248
        },
        "colab_type": "code",
        "id": "AHDO-saYVvSq",
        "outputId": "0196c5f7-5452-4ebe-ebb2-d6e4ed256908"
      },
      "outputs": [
        {
          "data": {
            "image/png": "[encoded data removed]",
            "text/plain": [
              "<Figure size 640x480 with 1 Axes>"
            ]
          },
          "metadata": {},
          "output_type": "display_data"
        }
      ],
      "source": [
        "_ = df.age_rating.value_counts().plot(kind='pie')"
      ]
    },
    {
      "cell_type": "code",
      "execution_count": 27,
      "metadata": {
        "colab": {
          "base_uri": "https://localhost:8080/",
          "height": 446
        },
        "colab_type": "code",
        "id": "rJnMf9grV8ad",
        "outputId": "df0c1b1c-a756-4125-9b2d-f13abfdbdf70"
      },
      "outputs": [
        {
          "data": {
            "text/plain": [
              "price\n",
              "0.00      14212\n",
              "0.99       1078\n",
              "1.99        515\n",
              "2.99        471\n",
              "4.99        237\n",
              "3.99        163\n",
              "9.99         88\n",
              "11.99        59\n",
              "5.99         42\n",
              "6.99         32\n",
              "179.99       30\n",
              "7.99         17\n",
              "8.99         13\n",
              "19.99         9\n",
              "14.99         4\n",
              "12.99         3\n",
              "16.99         2\n",
              "29.99         2\n",
              "139.99        1\n",
              "99.99         1\n",
              "37.99         1\n",
              "36.99         1\n",
              "18.99         1\n",
              "59.99         1\n",
              "Name: count, dtype: int64"
            ]
          },
          "execution_count": 27,
          "metadata": {},
          "output_type": "execute_result"
        }
      ],
      "source": [
        "df.price.value_counts()"
      ]
    },
    {
      "cell_type": "code",
      "execution_count": 28,
      "metadata": {
        "colab": {
          "base_uri": "https://localhost:8080/",
          "height": 188
        },
        "colab_type": "code",
        "id": "T3Xc9o9BWPNV",
        "outputId": "4ca04cfd-8de1-4c57-fa5b-42cca6077e9a"
      },
      "outputs": [
        {
          "data": {
            "text/plain": [
              "average_user_rating\n",
              "4.5    2861\n",
              "4.0    1722\n",
              "5.0     990\n",
              "3.5     925\n",
              "3.0     514\n",
              "2.5     317\n",
              "2.0     158\n",
              "1.5      60\n",
              "1.0      14\n",
              "Name: count, dtype: int64"
            ]
          },
          "execution_count": 28,
          "metadata": {},
          "output_type": "execute_result"
        }
      ],
      "source": [
        "df.average_user_rating.value_counts()"
      ]
    },
    {
      "cell_type": "code",
      "execution_count": 29,
      "metadata": {
        "colab": {
          "base_uri": "https://localhost:8080/",
          "height": 240
        },
        "colab_type": "code",
        "id": "S7nxmNzxWf0y",
        "outputId": "355f08ef-6a0e-4361-e9b9-1fa3ccbd8303"
      },
      "outputs": [
        {
          "data": {
            "text/plain": [
              "ID\n",
              "284921427     DA, NL, EN, FI, FR, DE, IT, JA, KO, NB, PL, PT...\n",
              "284926400                                                    EN\n",
              "284946595                                                    EN\n",
              "285755462     DA, NL, EN, FI, FR, DE, IT, JA, KO, NB, PL, PT...\n",
              "285831220     DA, NL, EN, FR, DE, EL, IT, JA, KO, NO, PT, RU...\n",
              "                                    ...                        \n",
              "1474626442                                                   EN\n",
              "1474919257                                                   EN\n",
              "1474962324                                                   EN\n",
              "1474963671                                                   EN\n",
              "1475076711                                               EN, ZH\n",
              "Name: languages, Length: 17007, dtype: object"
            ]
          },
          "execution_count": 29,
          "metadata": {},
          "output_type": "execute_result"
        }
      ],
      "source": [
        "df.languages"
      ]
    },
    {
      "cell_type": "code",
      "execution_count": 30,
      "metadata": {
        "colab": {
          "base_uri": "https://localhost:8080/",
          "height": 223
        },
        "colab_type": "code",
        "id": "6I9dkvyBWkUW",
        "outputId": "f3912b35-ac3e-42c3-fa34-b605cc4addbe"
      },
      "outputs": [
        {
          "data": {
            "text/plain": [
              "languages\n",
              "EN                                                                            12467\n",
              "EN, ZH                                                                          354\n",
              "CS, NL, EN, FR, DE, IT, JA, KO, PL, PT, RU, ZH, ES, SV, ZH, TR                  277\n",
              "EN, ZH, ZH                                                                      248\n",
              "EN, DE                                                                          147\n",
              "                                                                              ...  \n",
              "DA, NL, EN, FI, FR, DE, IT, JA, KO, NO, PL, PT, RU, ZH, ES, SV, ZH, TR, UK        1\n",
              "EN, FR, IT, JA, KO, PT, RU, ES, TR                                                1\n",
              "DA, NL, EN, FR, DE, IT, NB, PL, PT, ZH, ES, SV, ZH, TR                            1\n",
              "EN, PT, ZH                                                                        1\n",
              "AR, NL, EN, FR, DE, ID, IT, JA, KO, PT, RU, ZH, ES, SV, TH, ZH, TR, VI            1\n",
              "Name: count, Length: 990, dtype: int64"
            ]
          },
          "execution_count": 30,
          "metadata": {},
          "output_type": "execute_result"
        }
      ],
      "source": [
        "df.languages.value_counts()"
      ]
    },
    {
      "cell_type": "code",
      "execution_count": 31,
      "metadata": {
        "colab": {
          "base_uri": "https://localhost:8080/",
          "height": 240
        },
        "colab_type": "code",
        "id": "SI7dhZuQWrMs",
        "outputId": "64cfbc07-2dda-496e-ac35-e70d1fc61baf"
      },
      "outputs": [
        {
          "data": {
            "text/plain": [
              "ID\n",
              "284921427     DA, NL, EN, FI, FR, DE, IT, JA, KO, NB, PL, PT...\n",
              "284926400                                                    EN\n",
              "284946595                                                    EN\n",
              "285755462     DA, NL, EN, FI, FR, DE, IT, JA, KO, NB, PL, PT...\n",
              "285831220     DA, NL, EN, FR, DE, EL, IT, JA, KO, NO, PT, RU...\n",
              "                                    ...                        \n",
              "1474626442                                                   EN\n",
              "1474919257                                                   EN\n",
              "1474962324                                                   EN\n",
              "1474963671                                                   EN\n",
              "1475076711                                               EN, ZH\n",
              "Name: languages, Length: 17007, dtype: object"
            ]
          },
          "execution_count": 31,
          "metadata": {},
          "output_type": "execute_result"
        }
      ],
      "source": [
        "df.languages"
      ]
    },
    {
      "cell_type": "code",
      "execution_count": 32,
      "metadata": {
        "colab": {
          "base_uri": "https://localhost:8080/",
          "height": 240
        },
        "colab_type": "code",
        "id": "TY1fErwVWvxC",
        "outputId": "263959ab-6daa-423a-ed7e-0c780018b225"
      },
      "outputs": [
        {
          "data": {
            "text/plain": [
              "ID\n",
              "284921427     [DA, NL, EN, FI, FR, DE, IT, JA, KO, NB, PL, P...\n",
              "284926400                                                  [EN]\n",
              "284946595                                                  [EN]\n",
              "285755462     [DA, NL, EN, FI, FR, DE, IT, JA, KO, NB, PL, P...\n",
              "285831220     [DA, NL, EN, FR, DE, EL, IT, JA, KO, NO, PT, R...\n",
              "                                    ...                        \n",
              "1474626442                                                 [EN]\n",
              "1474919257                                                 [EN]\n",
              "1474962324                                                 [EN]\n",
              "1474963671                                                 [EN]\n",
              "1475076711                                             [EN, ZH]\n",
              "Name: languages, Length: 17007, dtype: object"
            ]
          },
          "execution_count": 32,
          "metadata": {},
          "output_type": "execute_result"
        }
      ],
      "source": [
        "df.languages.str.split(', ')"
      ]
    },
    {
      "cell_type": "code",
      "execution_count": 33,
      "metadata": {
        "colab": {
          "base_uri": "https://localhost:8080/",
          "height": 240
        },
        "colab_type": "code",
        "id": "aX9AwOLXW-08",
        "outputId": "69c9d4c3-b8e9-4315-ef5d-c492b86f20b2"
      },
      "outputs": [
        {
          "data": {
            "text/plain": [
              "ID\n",
              "284921427     17.0\n",
              "284926400      1.0\n",
              "284946595      1.0\n",
              "285755462     17.0\n",
              "285831220     15.0\n",
              "              ... \n",
              "1474626442     1.0\n",
              "1474919257     1.0\n",
              "1474962324     1.0\n",
              "1474963671     1.0\n",
              "1475076711     2.0\n",
              "Name: languages, Length: 17007, dtype: float64"
            ]
          },
          "execution_count": 33,
          "metadata": {},
          "output_type": "execute_result"
        }
      ],
      "source": [
        "df.languages.str.split(', ').str.len()"
      ]
    },
    {
      "cell_type": "code",
      "execution_count": 34,
      "metadata": {
        "colab": {
          "base_uri": "https://localhost:8080/",
          "height": 528
        },
        "colab_type": "code",
        "id": "2F_cMRInXLMK",
        "outputId": "bfbc84c7-6b97-40cc-a36d-eb7906fd4c67"
      },
      "outputs": [
        {
          "data": {
            "text/html": [
              "<div>\n",
              "<style scoped>\n",
              "    .dataframe tbody tr th:only-of-type {\n",
              "        vertical-align: middle;\n",
              "    }\n",
              "\n",
              "    .dataframe tbody tr th {\n",
              "        vertical-align: top;\n",
              "    }\n",
              "\n",
              "    .dataframe thead th {\n",
              "        text-align: right;\n",
              "    }\n",
              "</style>\n",
              "<table border=\"1\" class=\"dataframe\">\n",
              "  <thead>\n",
              "    <tr style=\"text-align: right;\">\n",
              "      <th></th>\n",
              "      <th>name</th>\n",
              "      <th>average_user_rating</th>\n",
              "      <th>user_rating_count</th>\n",
              "      <th>price</th>\n",
              "      <th>developer</th>\n",
              "      <th>age_rating</th>\n",
              "      <th>languages</th>\n",
              "      <th>size</th>\n",
              "      <th>primary_genre</th>\n",
              "      <th>genres</th>\n",
              "      <th>original_release_date</th>\n",
              "      <th>current_version_release_date</th>\n",
              "      <th>num_lang</th>\n",
              "    </tr>\n",
              "    <tr>\n",
              "      <th>ID</th>\n",
              "      <th></th>\n",
              "      <th></th>\n",
              "      <th></th>\n",
              "      <th></th>\n",
              "      <th></th>\n",
              "      <th></th>\n",
              "      <th></th>\n",
              "      <th></th>\n",
              "      <th></th>\n",
              "      <th></th>\n",
              "      <th></th>\n",
              "      <th></th>\n",
              "      <th></th>\n",
              "    </tr>\n",
              "  </thead>\n",
              "  <tbody>\n",
              "    <tr>\n",
              "      <th>284921427</th>\n",
              "      <td>Sudoku</td>\n",
              "      <td>4.0</td>\n",
              "      <td>3553.0</td>\n",
              "      <td>2.99</td>\n",
              "      <td>Mighty Mighty Good Games</td>\n",
              "      <td>4+</td>\n",
              "      <td>DA, NL, EN, FI, FR, DE, IT, JA, KO, NB, PL, PT...</td>\n",
              "      <td>15853568.0</td>\n",
              "      <td>Games</td>\n",
              "      <td>Games, Strategy, Puzzle</td>\n",
              "      <td>11/07/2008</td>\n",
              "      <td>30/05/2017</td>\n",
              "      <td>17.0</td>\n",
              "    </tr>\n",
              "    <tr>\n",
              "      <th>284926400</th>\n",
              "      <td>Reversi</td>\n",
              "      <td>3.5</td>\n",
              "      <td>284.0</td>\n",
              "      <td>1.99</td>\n",
              "      <td>Kiss The Machine</td>\n",
              "      <td>4+</td>\n",
              "      <td>EN</td>\n",
              "      <td>12328960.0</td>\n",
              "      <td>Games</td>\n",
              "      <td>Games, Strategy, Board</td>\n",
              "      <td>11/07/2008</td>\n",
              "      <td>17/05/2018</td>\n",
              "      <td>1.0</td>\n",
              "    </tr>\n",
              "    <tr>\n",
              "      <th>284946595</th>\n",
              "      <td>Morocco</td>\n",
              "      <td>3.0</td>\n",
              "      <td>8376.0</td>\n",
              "      <td>0.00</td>\n",
              "      <td>Bayou Games</td>\n",
              "      <td>4+</td>\n",
              "      <td>EN</td>\n",
              "      <td>674816.0</td>\n",
              "      <td>Games</td>\n",
              "      <td>Games, Board, Strategy</td>\n",
              "      <td>11/07/2008</td>\n",
              "      <td>5/09/2017</td>\n",
              "      <td>1.0</td>\n",
              "    </tr>\n",
              "    <tr>\n",
              "      <th>285755462</th>\n",
              "      <td>Sudoku (Free)</td>\n",
              "      <td>3.5</td>\n",
              "      <td>190394.0</td>\n",
              "      <td>0.00</td>\n",
              "      <td>Mighty Mighty Good Games</td>\n",
              "      <td>4+</td>\n",
              "      <td>DA, NL, EN, FI, FR, DE, IT, JA, KO, NB, PL, PT...</td>\n",
              "      <td>21552128.0</td>\n",
              "      <td>Games</td>\n",
              "      <td>Games, Strategy, Puzzle</td>\n",
              "      <td>23/07/2008</td>\n",
              "      <td>30/05/2017</td>\n",
              "      <td>17.0</td>\n",
              "    </tr>\n",
              "    <tr>\n",
              "      <th>285831220</th>\n",
              "      <td>Senet Deluxe</td>\n",
              "      <td>3.5</td>\n",
              "      <td>28.0</td>\n",
              "      <td>2.99</td>\n",
              "      <td>RoGame Software</td>\n",
              "      <td>4+</td>\n",
              "      <td>DA, NL, EN, FR, DE, EL, IT, JA, KO, NO, PT, RU...</td>\n",
              "      <td>34689024.0</td>\n",
              "      <td>Games</td>\n",
              "      <td>Games, Strategy, Board, Education</td>\n",
              "      <td>18/07/2008</td>\n",
              "      <td>22/07/2018</td>\n",
              "      <td>15.0</td>\n",
              "    </tr>\n",
              "  </tbody>\n",
              "</table>\n",
              "</div>"
            ],
            "text/plain": [
              "                    name  average_user_rating  user_rating_count  price  \\\n",
              "ID                                                                        \n",
              "284921427         Sudoku                  4.0             3553.0   2.99   \n",
              "284926400        Reversi                  3.5              284.0   1.99   \n",
              "284946595        Morocco                  3.0             8376.0   0.00   \n",
              "285755462  Sudoku (Free)                  3.5           190394.0   0.00   \n",
              "285831220   Senet Deluxe                  3.5               28.0   2.99   \n",
              "\n",
              "                          developer age_rating  \\\n",
              "ID                                               \n",
              "284921427  Mighty Mighty Good Games         4+   \n",
              "284926400          Kiss The Machine         4+   \n",
              "284946595               Bayou Games         4+   \n",
              "285755462  Mighty Mighty Good Games         4+   \n",
              "285831220           RoGame Software         4+   \n",
              "\n",
              "                                                   languages        size  \\\n",
              "ID                                                                         \n",
              "284921427  DA, NL, EN, FI, FR, DE, IT, JA, KO, NB, PL, PT...  15853568.0   \n",
              "284926400                                                 EN  12328960.0   \n",
              "284946595                                                 EN    674816.0   \n",
              "285755462  DA, NL, EN, FI, FR, DE, IT, JA, KO, NB, PL, PT...  21552128.0   \n",
              "285831220  DA, NL, EN, FR, DE, EL, IT, JA, KO, NO, PT, RU...  34689024.0   \n",
              "\n",
              "          primary_genre                             genres  \\\n",
              "ID                                                           \n",
              "284921427         Games            Games, Strategy, Puzzle   \n",
              "284926400         Games             Games, Strategy, Board   \n",
              "284946595         Games             Games, Board, Strategy   \n",
              "285755462         Games            Games, Strategy, Puzzle   \n",
              "285831220         Games  Games, Strategy, Board, Education   \n",
              "\n",
              "          original_release_date current_version_release_date  num_lang  \n",
              "ID                                                                      \n",
              "284921427            11/07/2008                   30/05/2017      17.0  \n",
              "284926400            11/07/2008                   17/05/2018       1.0  \n",
              "284946595            11/07/2008                    5/09/2017       1.0  \n",
              "285755462            23/07/2008                   30/05/2017      17.0  \n",
              "285831220            18/07/2008                   22/07/2018      15.0  "
            ]
          },
          "execution_count": 34,
          "metadata": {},
          "output_type": "execute_result"
        }
      ],
      "source": [
        "df['num_lang'] = df.languages.str.split(', ').str.len()\n",
        "df.head()"
      ]
    },
    {
      "cell_type": "code",
      "execution_count": 35,
      "metadata": {
        "colab": {
          "base_uri": "https://localhost:8080/",
          "height": 840
        },
        "colab_type": "code",
        "id": "ETCAGjWbXWtO",
        "outputId": "60b2825b-0348-482b-e213-5cb98d3c2c5e"
      },
      "outputs": [
        {
          "data": {
            "text/plain": [
              "num_lang\n",
              "1.0      12566\n",
              "2.0       1102\n",
              "3.0        495\n",
              "16.0       316\n",
              "4.0        261\n",
              "5.0        247\n",
              "6.0        220\n",
              "25.0       171\n",
              "9.0        154\n",
              "11.0       147\n",
              "8.0        142\n",
              "7.0        140\n",
              "10.0       140\n",
              "31.0       133\n",
              "12.0        91\n",
              "21.0        77\n",
              "14.0        64\n",
              "13.0        64\n",
              "15.0        54\n",
              "17.0        37\n",
              "30.0        35\n",
              "19.0        34\n",
              "32.0        34\n",
              "33.0        33\n",
              "22.0        31\n",
              "18.0        24\n",
              "46.0        20\n",
              "26.0        18\n",
              "20.0        14\n",
              "24.0        13\n",
              "23.0        11\n",
              "27.0        11\n",
              "28.0         9\n",
              "29.0         8\n",
              "45.0         6\n",
              "44.0         5\n",
              "65.0         4\n",
              "42.0         3\n",
              "43.0         3\n",
              "36.0         2\n",
              "49.0         2\n",
              "48.0         1\n",
              "66.0         1\n",
              "35.0         1\n",
              "34.0         1\n",
              "111.0        1\n",
              "76.0         1\n",
              "Name: count, dtype: int64"
            ]
          },
          "execution_count": 35,
          "metadata": {},
          "output_type": "execute_result"
        }
      ],
      "source": [
        "df.num_lang.value_counts()"
      ]
    },
    {
      "cell_type": "markdown",
      "metadata": {
        "colab_type": "text",
        "id": "fuEn0PdRCuYn"
      },
      "source": [
        "###  <a name='a5'></a> Sprawdzenie braków w danych"
      ]
    },
    {
      "cell_type": "code",
      "execution_count": 36,
      "metadata": {
        "colab": {
          "base_uri": "https://localhost:8080/",
          "height": 326
        },
        "colab_type": "code",
        "id": "meeMb9phY6vz",
        "outputId": "72828fff-6417-49ab-c8e4-2f0f33d7028b"
      },
      "outputs": [
        {
          "name": "stdout",
          "output_type": "stream",
          "text": [
            "<class 'pandas.core.frame.DataFrame'>\n",
            "Index: 17007 entries, 284921427 to 1475076711\n",
            "Data columns (total 13 columns):\n",
            " #   Column                        Non-Null Count  Dtype  \n",
            "---  ------                        --------------  -----  \n",
            " 0   name                          17007 non-null  object \n",
            " 1   average_user_rating           7561 non-null   float64\n",
            " 2   user_rating_count             7561 non-null   float64\n",
            " 3   price                         16983 non-null  float64\n",
            " 4   developer                     17007 non-null  object \n",
            " 5   age_rating                    17007 non-null  object \n",
            " 6   languages                     16947 non-null  object \n",
            " 7   size                          17006 non-null  float64\n",
            " 8   primary_genre                 17007 non-null  object \n",
            " 9   genres                        17007 non-null  object \n",
            " 10  original_release_date         17007 non-null  object \n",
            " 11  current_version_release_date  17007 non-null  object \n",
            " 12  num_lang                      16947 non-null  float64\n",
            "dtypes: float64(5), object(8)\n",
            "memory usage: 1.8+ MB\n"
          ]
        }
      ],
      "source": [
        "df.info()"
      ]
    },
    {
      "cell_type": "code",
      "execution_count": 37,
      "metadata": {
        "colab": {
          "base_uri": "https://localhost:8080/",
          "height": 188
        },
        "colab_type": "code",
        "id": "wMpzIVhMY7q_",
        "outputId": "a5d985e5-c4dd-461f-b046-0ec14959ca36"
      },
      "outputs": [
        {
          "data": {
            "text/plain": [
              "average_user_rating\n",
              "4.5    2861\n",
              "4.0    1722\n",
              "5.0     990\n",
              "3.5     925\n",
              "3.0     514\n",
              "2.5     317\n",
              "2.0     158\n",
              "1.5      60\n",
              "1.0      14\n",
              "Name: count, dtype: int64"
            ]
          },
          "execution_count": 37,
          "metadata": {},
          "output_type": "execute_result"
        }
      ],
      "source": [
        "df.average_user_rating.value_counts()"
      ]
    },
    {
      "cell_type": "code",
      "execution_count": 38,
      "metadata": {
        "colab": {
          "base_uri": "https://localhost:8080/",
          "height": 206
        },
        "colab_type": "code",
        "id": "rMayCQ-aZG7E",
        "outputId": "d3d3d133-3082-4c2a-da1f-39e42e7d2f69"
      },
      "outputs": [
        {
          "data": {
            "text/plain": [
              "average_user_rating\n",
              "NaN    9446\n",
              "4.5    2861\n",
              "4.0    1722\n",
              "5.0     990\n",
              "3.5     925\n",
              "3.0     514\n",
              "2.5     317\n",
              "2.0     158\n",
              "1.5      60\n",
              "1.0      14\n",
              "Name: count, dtype: int64"
            ]
          },
          "execution_count": 38,
          "metadata": {},
          "output_type": "execute_result"
        }
      ],
      "source": [
        "df.average_user_rating.value_counts(dropna=False)"
      ]
    },
    {
      "cell_type": "code",
      "execution_count": 39,
      "metadata": {
        "colab": {
          "base_uri": "https://localhost:8080/",
          "height": 468
        },
        "colab_type": "code",
        "id": "7-alaVmdZNZK",
        "outputId": "43174587-0f2c-4475-e68c-f02c33d16ee6"
      },
      "outputs": [
        {
          "data": {
            "text/html": [
              "<div>\n",
              "<style scoped>\n",
              "    .dataframe tbody tr th:only-of-type {\n",
              "        vertical-align: middle;\n",
              "    }\n",
              "\n",
              "    .dataframe tbody tr th {\n",
              "        vertical-align: top;\n",
              "    }\n",
              "\n",
              "    .dataframe thead th {\n",
              "        text-align: right;\n",
              "    }\n",
              "</style>\n",
              "<table border=\"1\" class=\"dataframe\">\n",
              "  <thead>\n",
              "    <tr style=\"text-align: right;\">\n",
              "      <th></th>\n",
              "      <th>name</th>\n",
              "      <th>average_user_rating</th>\n",
              "      <th>user_rating_count</th>\n",
              "      <th>price</th>\n",
              "      <th>developer</th>\n",
              "      <th>age_rating</th>\n",
              "      <th>languages</th>\n",
              "      <th>size</th>\n",
              "      <th>primary_genre</th>\n",
              "      <th>genres</th>\n",
              "      <th>original_release_date</th>\n",
              "      <th>current_version_release_date</th>\n",
              "      <th>num_lang</th>\n",
              "    </tr>\n",
              "    <tr>\n",
              "      <th>ID</th>\n",
              "      <th></th>\n",
              "      <th></th>\n",
              "      <th></th>\n",
              "      <th></th>\n",
              "      <th></th>\n",
              "      <th></th>\n",
              "      <th></th>\n",
              "      <th></th>\n",
              "      <th></th>\n",
              "      <th></th>\n",
              "      <th></th>\n",
              "      <th></th>\n",
              "      <th></th>\n",
              "    </tr>\n",
              "  </thead>\n",
              "  <tbody>\n",
              "    <tr>\n",
              "      <th>284921427</th>\n",
              "      <td>False</td>\n",
              "      <td>False</td>\n",
              "      <td>False</td>\n",
              "      <td>False</td>\n",
              "      <td>False</td>\n",
              "      <td>False</td>\n",
              "      <td>False</td>\n",
              "      <td>False</td>\n",
              "      <td>False</td>\n",
              "      <td>False</td>\n",
              "      <td>False</td>\n",
              "      <td>False</td>\n",
              "      <td>False</td>\n",
              "    </tr>\n",
              "    <tr>\n",
              "      <th>284926400</th>\n",
              "      <td>False</td>\n",
              "      <td>False</td>\n",
              "      <td>False</td>\n",
              "      <td>False</td>\n",
              "      <td>False</td>\n",
              "      <td>False</td>\n",
              "      <td>False</td>\n",
              "      <td>False</td>\n",
              "      <td>False</td>\n",
              "      <td>False</td>\n",
              "      <td>False</td>\n",
              "      <td>False</td>\n",
              "      <td>False</td>\n",
              "    </tr>\n",
              "    <tr>\n",
              "      <th>284946595</th>\n",
              "      <td>False</td>\n",
              "      <td>False</td>\n",
              "      <td>False</td>\n",
              "      <td>False</td>\n",
              "      <td>False</td>\n",
              "      <td>False</td>\n",
              "      <td>False</td>\n",
              "      <td>False</td>\n",
              "      <td>False</td>\n",
              "      <td>False</td>\n",
              "      <td>False</td>\n",
              "      <td>False</td>\n",
              "      <td>False</td>\n",
              "    </tr>\n",
              "    <tr>\n",
              "      <th>285755462</th>\n",
              "      <td>False</td>\n",
              "      <td>False</td>\n",
              "      <td>False</td>\n",
              "      <td>False</td>\n",
              "      <td>False</td>\n",
              "      <td>False</td>\n",
              "      <td>False</td>\n",
              "      <td>False</td>\n",
              "      <td>False</td>\n",
              "      <td>False</td>\n",
              "      <td>False</td>\n",
              "      <td>False</td>\n",
              "      <td>False</td>\n",
              "    </tr>\n",
              "    <tr>\n",
              "      <th>285831220</th>\n",
              "      <td>False</td>\n",
              "      <td>False</td>\n",
              "      <td>False</td>\n",
              "      <td>False</td>\n",
              "      <td>False</td>\n",
              "      <td>False</td>\n",
              "      <td>False</td>\n",
              "      <td>False</td>\n",
              "      <td>False</td>\n",
              "      <td>False</td>\n",
              "      <td>False</td>\n",
              "      <td>False</td>\n",
              "      <td>False</td>\n",
              "    </tr>\n",
              "    <tr>\n",
              "      <th>...</th>\n",
              "      <td>...</td>\n",
              "      <td>...</td>\n",
              "      <td>...</td>\n",
              "      <td>...</td>\n",
              "      <td>...</td>\n",
              "      <td>...</td>\n",
              "      <td>...</td>\n",
              "      <td>...</td>\n",
              "      <td>...</td>\n",
              "      <td>...</td>\n",
              "      <td>...</td>\n",
              "      <td>...</td>\n",
              "      <td>...</td>\n",
              "    </tr>\n",
              "    <tr>\n",
              "      <th>1474626442</th>\n",
              "      <td>False</td>\n",
              "      <td>True</td>\n",
              "      <td>True</td>\n",
              "      <td>False</td>\n",
              "      <td>False</td>\n",
              "      <td>False</td>\n",
              "      <td>False</td>\n",
              "      <td>False</td>\n",
              "      <td>False</td>\n",
              "      <td>False</td>\n",
              "      <td>False</td>\n",
              "      <td>False</td>\n",
              "      <td>False</td>\n",
              "    </tr>\n",
              "    <tr>\n",
              "      <th>1474919257</th>\n",
              "      <td>False</td>\n",
              "      <td>True</td>\n",
              "      <td>True</td>\n",
              "      <td>False</td>\n",
              "      <td>False</td>\n",
              "      <td>False</td>\n",
              "      <td>False</td>\n",
              "      <td>False</td>\n",
              "      <td>False</td>\n",
              "      <td>False</td>\n",
              "      <td>False</td>\n",
              "      <td>False</td>\n",
              "      <td>False</td>\n",
              "    </tr>\n",
              "    <tr>\n",
              "      <th>1474962324</th>\n",
              "      <td>False</td>\n",
              "      <td>True</td>\n",
              "      <td>True</td>\n",
              "      <td>False</td>\n",
              "      <td>False</td>\n",
              "      <td>False</td>\n",
              "      <td>False</td>\n",
              "      <td>False</td>\n",
              "      <td>False</td>\n",
              "      <td>False</td>\n",
              "      <td>False</td>\n",
              "      <td>False</td>\n",
              "      <td>False</td>\n",
              "    </tr>\n",
              "    <tr>\n",
              "      <th>1474963671</th>\n",
              "      <td>False</td>\n",
              "      <td>True</td>\n",
              "      <td>True</td>\n",
              "      <td>False</td>\n",
              "      <td>False</td>\n",
              "      <td>False</td>\n",
              "      <td>False</td>\n",
              "      <td>False</td>\n",
              "      <td>False</td>\n",
              "      <td>False</td>\n",
              "      <td>False</td>\n",
              "      <td>False</td>\n",
              "      <td>False</td>\n",
              "    </tr>\n",
              "    <tr>\n",
              "      <th>1475076711</th>\n",
              "      <td>False</td>\n",
              "      <td>True</td>\n",
              "      <td>True</td>\n",
              "      <td>False</td>\n",
              "      <td>False</td>\n",
              "      <td>False</td>\n",
              "      <td>False</td>\n",
              "      <td>False</td>\n",
              "      <td>False</td>\n",
              "      <td>False</td>\n",
              "      <td>False</td>\n",
              "      <td>False</td>\n",
              "      <td>False</td>\n",
              "    </tr>\n",
              "  </tbody>\n",
              "</table>\n",
              "<p>17007 rows × 13 columns</p>\n",
              "</div>"
            ],
            "text/plain": [
              "             name  average_user_rating  user_rating_count  price  developer  \\\n",
              "ID                                                                            \n",
              "284921427   False                False              False  False      False   \n",
              "284926400   False                False              False  False      False   \n",
              "284946595   False                False              False  False      False   \n",
              "285755462   False                False              False  False      False   \n",
              "285831220   False                False              False  False      False   \n",
              "...           ...                  ...                ...    ...        ...   \n",
              "1474626442  False                 True               True  False      False   \n",
              "1474919257  False                 True               True  False      False   \n",
              "1474962324  False                 True               True  False      False   \n",
              "1474963671  False                 True               True  False      False   \n",
              "1475076711  False                 True               True  False      False   \n",
              "\n",
              "            age_rating  languages   size  primary_genre  genres  \\\n",
              "ID                                                                \n",
              "284921427        False      False  False          False   False   \n",
              "284926400        False      False  False          False   False   \n",
              "284946595        False      False  False          False   False   \n",
              "285755462        False      False  False          False   False   \n",
              "285831220        False      False  False          False   False   \n",
              "...                ...        ...    ...            ...     ...   \n",
              "1474626442       False      False  False          False   False   \n",
              "1474919257       False      False  False          False   False   \n",
              "1474962324       False      False  False          False   False   \n",
              "1474963671       False      False  False          False   False   \n",
              "1475076711       False      False  False          False   False   \n",
              "\n",
              "            original_release_date  current_version_release_date  num_lang  \n",
              "ID                                                                         \n",
              "284921427                   False                         False     False  \n",
              "284926400                   False                         False     False  \n",
              "284946595                   False                         False     False  \n",
              "285755462                   False                         False     False  \n",
              "285831220                   False                         False     False  \n",
              "...                           ...                           ...       ...  \n",
              "1474626442                  False                         False     False  \n",
              "1474919257                  False                         False     False  \n",
              "1474962324                  False                         False     False  \n",
              "1474963671                  False                         False     False  \n",
              "1475076711                  False                         False     False  \n",
              "\n",
              "[17007 rows x 13 columns]"
            ]
          },
          "execution_count": 39,
          "metadata": {},
          "output_type": "execute_result"
        }
      ],
      "source": [
        "df.isnull()"
      ]
    },
    {
      "cell_type": "code",
      "execution_count": 40,
      "metadata": {
        "colab": {
          "base_uri": "https://localhost:8080/",
          "height": 257
        },
        "colab_type": "code",
        "id": "bUwlFlUMZWqw",
        "outputId": "10919855-75aa-434e-81b3-5219ec3c220f"
      },
      "outputs": [
        {
          "data": {
            "text/plain": [
              "name                               0\n",
              "average_user_rating             9446\n",
              "user_rating_count               9446\n",
              "price                             24\n",
              "developer                          0\n",
              "age_rating                         0\n",
              "languages                         60\n",
              "size                               1\n",
              "primary_genre                      0\n",
              "genres                             0\n",
              "original_release_date              0\n",
              "current_version_release_date       0\n",
              "num_lang                          60\n",
              "dtype: int64"
            ]
          },
          "execution_count": 40,
          "metadata": {},
          "output_type": "execute_result"
        }
      ],
      "source": [
        "df.isnull().sum()"
      ]
    },
    {
      "cell_type": "code",
      "execution_count": 41,
      "metadata": {
        "colab": {
          "base_uri": "https://localhost:8080/",
          "height": 257
        },
        "colab_type": "code",
        "id": "QrclqWxIZhkp",
        "outputId": "7ca4b26f-1997-4ca2-e9b2-905501d83329"
      },
      "outputs": [
        {
          "data": {
            "text/plain": [
              "name                            0\n",
              "average_user_rating             0\n",
              "user_rating_count               0\n",
              "price                           0\n",
              "developer                       0\n",
              "age_rating                      0\n",
              "languages                       0\n",
              "size                            0\n",
              "primary_genre                   0\n",
              "genres                          0\n",
              "original_release_date           0\n",
              "current_version_release_date    0\n",
              "num_lang                        0\n",
              "dtype: int64"
            ]
          },
          "execution_count": 41,
          "metadata": {},
          "output_type": "execute_result"
        }
      ],
      "source": [
        "df = df.dropna()\n",
        "df.isnull().sum()"
      ]
    },
    {
      "cell_type": "code",
      "execution_count": 42,
      "metadata": {
        "colab": {
          "base_uri": "https://localhost:8080/",
          "height": 326
        },
        "colab_type": "code",
        "id": "r6uMtcawZvc-",
        "outputId": "8703a85c-92a0-4c09-f246-868a68aed7d9"
      },
      "outputs": [
        {
          "name": "stdout",
          "output_type": "stream",
          "text": [
            "<class 'pandas.core.frame.DataFrame'>\n",
            "Index: 7537 entries, 284921427 to 1474461379\n",
            "Data columns (total 13 columns):\n",
            " #   Column                        Non-Null Count  Dtype  \n",
            "---  ------                        --------------  -----  \n",
            " 0   name                          7537 non-null   object \n",
            " 1   average_user_rating           7537 non-null   float64\n",
            " 2   user_rating_count             7537 non-null   float64\n",
            " 3   price                         7537 non-null   float64\n",
            " 4   developer                     7537 non-null   object \n",
            " 5   age_rating                    7537 non-null   object \n",
            " 6   languages                     7537 non-null   object \n",
            " 7   size                          7537 non-null   float64\n",
            " 8   primary_genre                 7537 non-null   object \n",
            " 9   genres                        7537 non-null   object \n",
            " 10  original_release_date         7537 non-null   object \n",
            " 11  current_version_release_date  7537 non-null   object \n",
            " 12  num_lang                      7537 non-null   float64\n",
            "dtypes: float64(5), object(8)\n",
            "memory usage: 824.4+ KB\n"
          ]
        }
      ],
      "source": [
        "df.info()"
      ]
    },
    {
      "cell_type": "code",
      "execution_count": null,
      "metadata": {
        "colab": {},
        "colab_type": "code",
        "id": "J3xJ3fwpZzg-"
      },
      "outputs": [],
      "source": []
    }
  ],
  "metadata": {
    "colab": {
      "include_colab_link": true,
      "name": "05_appstore_data.ipynb",
      "provenance": []
    },
    "kernelspec": {
      "display_name": "Python 3",
      "name": "python3"
    },
    "language_info": {
      "codemirror_mode": {
        "name": "ipython",
        "version": 3
      },
      "file_extension": ".py",
      "mimetype": "text/x-python",
      "name": "python",
      "nbconvert_exporter": "python",
      "pygments_lexer": "ipython3",
      "version": "3.11.8"
    }
  },
  "nbformat": 4,
  "nbformat_minor": 0
}
