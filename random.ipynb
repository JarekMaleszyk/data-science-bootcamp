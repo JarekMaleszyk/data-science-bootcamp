{
  "nbformat": 4,
  "nbformat_minor": 0,
  "metadata": {
    "colab": {
      "provenance": [],
      "authorship_tag": "ABX9TyOcJ1/8nXpiNPMKmef/Ug4q",
      "include_colab_link": true
    },
    "kernelspec": {
      "name": "python3",
      "display_name": "Python 3"
    },
    "language_info": {
      "name": "python"
    }
  },
  "cells": [
    {
      "cell_type": "markdown",
      "metadata": {
        "id": "view-in-github",
        "colab_type": "text"
      },
      "source": [
        "<a href=\"https://colab.research.google.com/github/JarekMaleszyk/data-science-bootcamp/blob/master/random.ipynb\" target=\"_parent\"><img src=\"https://colab.research.google.com/assets/colab-badge.svg\" alt=\"Open In Colab\"/></a>"
      ]
    },
    {
      "cell_type": "code",
      "execution_count": 7,
      "metadata": {
        "colab": {
          "base_uri": "https://localhost:8080/"
        },
        "id": "iY9IvgpjzD4i",
        "outputId": "3ea5077c-3677-4b59-c4d5-1b49f70eff30"
      },
      "outputs": [
        {
          "output_type": "stream",
          "name": "stdout",
          "text": [
            "[2, 8, 9, 2, 9, 4, 3, 1, 3, 3]\n"
          ]
        }
      ],
      "source": [
        "import numpy as np\n",
        "lst = [x for x in np.random.randint(10, size=10)]\n",
        "print(lst)"
      ]
    },
    {
      "cell_type": "code",
      "source": [
        "names = ['Bob', 'Joe', 'Will', 'Kim', 'Charlotte']\n",
        "print(np.random.choice(names, size=(10, 2), p=[0.3, 0.2, 0.2, 0.2, 0.1]))"
      ],
      "metadata": {
        "colab": {
          "base_uri": "https://localhost:8080/"
        },
        "id": "z5Wz8P-L0Q_8",
        "outputId": "c05a0f8f-d977-4a70-ab98-8adb42588054"
      },
      "execution_count": 14,
      "outputs": [
        {
          "output_type": "stream",
          "name": "stdout",
          "text": [
            "[['Bob' 'Charlotte']\n",
            " ['Kim' 'Will']\n",
            " ['Will' 'Bob']\n",
            " ['Will' 'Bob']\n",
            " ['Bob' 'Kim']\n",
            " ['Bob' 'Bob']\n",
            " ['Joe' 'Joe']\n",
            " ['Joe' 'Bob']\n",
            " ['Will' 'Bob']\n",
            " ['Bob' 'Joe']]\n"
          ]
        }
      ]
    }
  ]
}